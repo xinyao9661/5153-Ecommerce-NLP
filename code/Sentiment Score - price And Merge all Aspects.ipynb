{
 "cells": [
  {
   "cell_type": "code",
   "execution_count": null,
   "metadata": {
    "id": "6-T_vFCNPz8z"
   },
   "outputs": [],
   "source": [
    "pip install aspect-based-sentiment-analysis"
   ]
  },
  {
   "cell_type": "code",
   "execution_count": null,
   "metadata": {
    "id": "tep4o-D1i_uX"
   },
   "outputs": [],
   "source": [
    "import aspect_based_sentiment_analysis as absa\n",
    "\n",
    "nlp = absa.load()"
   ]
  },
  {
   "cell_type": "code",
   "execution_count": 3,
   "metadata": {
    "id": "KXibYCY1lndB"
   },
   "outputs": [],
   "source": [
    "import warnings\n",
    "warnings.filterwarnings(\"ignore\")\n",
    "from google.colab import files"
   ]
  },
  {
   "cell_type": "markdown",
   "metadata": {
    "id": "eCL3EyQhHBuc"
   },
   "source": [
    "# Sentiment - price"
   ]
  },
  {
   "cell_type": "code",
   "execution_count": 8,
   "metadata": {
    "id": "k-ouKAoyHENi"
   },
   "outputs": [],
   "source": [
    "path2 = '/content/drive/MyDrive/5153/meta_and_review_sentiment_aspect_delivery (1).csv'\n",
    "df = pd.read_csv(path2)"
   ]
  },
  {
   "cell_type": "code",
   "execution_count": 9,
   "metadata": {
    "id": "EtPTr2tt_np8"
   },
   "outputs": [],
   "source": [
    "text_df = df[['review']]\n",
    "text_df['Ori_index'] = text_df.index"
   ]
  },
  {
   "cell_type": "code",
   "execution_count": 10,
   "metadata": {
    "colab": {
     "base_uri": "https://localhost:8080/"
    },
    "id": "5tULLqIh_noC",
    "outputId": "cf62b72b-f569-487b-96ba-7ecb68e82c40"
   },
   "outputs": [
    {
     "data": {
      "text/plain": [
       "(133159, 2)"
      ]
     },
     "execution_count": 10,
     "metadata": {
      "tags": []
     },
     "output_type": "execute_result"
    }
   ],
   "source": [
    "text_df.shape"
   ]
  },
  {
   "cell_type": "code",
   "execution_count": 11,
   "metadata": {
    "id": "l4bnJe9m_nko"
   },
   "outputs": [],
   "source": [
    "price_aspect = ['price', 'pricing', \n",
    "                   'cost', 'charge']#fee --> feels; fees --> feestirrer; shipping fees; credit deduct fees"
   ]
  },
  {
   "cell_type": "code",
   "execution_count": null,
   "metadata": {
    "colab": {
     "base_uri": "https://localhost:8080/",
     "height": 250
    },
    "id": "srmH50F-_nhJ",
    "outputId": "00ebc1df-297f-4596-e95f-6cbf1fe5c4a9"
   },
   "outputs": [
    {
     "data": {
      "text/plain": [
       "41                                                                                                                                                                                                                                                                                                                                                                                                                                                                                                                                                                                                                                                                                                                                                                                                                                                                                                                                                                                                                                                                                                                                                                                                                                                                                                                                                                                                                                                                                                                                                                                                                                                                                                                                                                                                                                                                                                                                                                                                                                                                                                                                                                                                                                                                                                                                                                                                                                                                                                                                                                                    please avoid this product the conditional is so thick that it does not flow out when you want to use it as for quality it is horrible it makes your hair sticky as if you havent rinsed your hair for days i dont see any good using it i finally use dove that i bought at costco it is cheaper and make your hair soft and weightless as well\n",
       "110                                                                                                                                                                                                                                                                                                                                                                                                                                                                                                                                                                                                                                                                                                                                                                                                                                                                                                                                                                                                                                                                                                                                                                                                                                                                                                                                                                                                                                                                                                                                                                                                                                                                                                                                                                                                                                                                                                                                                                                                                                                                                                                                                                                                                                                                                                                                                                                                                                                                                                                                                                                                                                                                                            so far im pretty happy with this product my hair definitely looks fuller and it feels really soft the only downside so far is the price it is more than im used to paying for conditioner but the results make it worth the extra cost\n",
       "145       i was so very disappointed with my purchase of the avalon thickening shampoo and conditioner i had such high hopes but in only two shampooings my hair was noticeably stripped of oils had that 34squeaky clean34 feeling you get when using a very harsh product and it became dry and brittle it started looking very dull they use many products that have an oil stripping effect on the hair like orange oil and lemon oil you might think because it says oil that it might add to your hairs shine but these are ingredients in industrial strength degreasers this product only damaged my hair avalon is only 70 organic and it had a rather unpleasant smell to me rather like mosquito repellant or dish soap using a harsh product like this is very detrimental for your hair i know that a lot of people will be drawn to avalon because of the low price but if it drastically stripped my extremely oily hair in two shampoos i cant imagine what it might do to yours although my hair is very fine so perhaps ethnic girls and women with coarser hair might benefit i honestly wouldnt recommend it id rather see people get something that will improve their selfesteem immediately rather than give them new problems to worry aboutin desperation i purchased the more expensive just naturals system for thinning hair and believe me it blows avalon out of the water in just one shampoo my hair regained its texture and became so silky it felt like asian hair i cant stop touching my hair now and i feel so much more confident they use incredible ingredients that greatly benefit people with hair loss due to hormonal issues or who have an increase in dht you do pay more than double for that shampoo but having something that supports your hair improves the texture and smells fantastic was worth it to me im now quite confident in what im using and plan to go on using it regardless of the cost id pay 5x what im paying for it now i love it so much and their treatment spray is oil based i use the system twice a day and im shocked at how long it is lasting it has truly been an excellent investmenti would recommend that you shampoo and condition your hair twice a day if you want to see regrowth with any system this is because one application of shampoo with dhtfighting ingredients can only do so much your body is constantly generating new hormones and new dht by helping to combat it twice a day you have a better chance of seeing results sooner this is coming from a 36 year old woman who has been fighting repeated hair loss due to hormonal imbalance from 16 on once a day just never cut it for me using a leave on treatment like just naturals has overnight can also work wonders i use it during the day too if im not going outi hope this helps you recover your hair and your selfesteem a little faster and more efficiently o\n",
       "157                                                                                                                                                                                                                                                                                                                                                                                                                                                                                                                                                                                                                                                                                                                                                                                                                                                                                                                                                                                                                                                                                                                                                                                                                                                                                                                                                                                                                                                                                                                                                                                                                                                                                                                                                                                                                                                                                                                                                                                                                                                                                                                                                                                                                                                                                                                                                                                                                                                                                                                                                                                                                                                                                                                                                     love this conditioner my understanding is that it is no longer manufactured  however the cost from the seller was quite high  ill enjoy this bottle and move to another brand\n",
       "206                                                                                                                                                                                                                                                                                                                                                                                                                                                                                                                                                                                                                                                                                                                                                                                                                                                                                                                                                                                                                                                                                                                                                                                                                                                                                                                                                                                                                                                                                                                                                                                                                                                                                                                                                                                                                                                                                                                                                                                                                                                                                                                                                                                                                                                                                                                                                                                                                                                                                                                                                                                                                                                                                                       i like the product itself just fine  but i thought the 342 count34 in the top line meant i would receive two bottles  i only received one and since it cost about 650 i thought i was paying for two bottles  i am confused\n",
       "                                                                                                                                                                                                                                                                                                                                                                                                                                                                                                                                                                                                                                                                                                                                                                                                                                                                                                                                                                                                                                                                                                                                                                                                                                                                                                                                                                                                                                                                     ...                                                                                                                                                                                                                                                                                                                                                                                                                                                                                                                                                                                                                                                                                                                                                                                                                                                                                                                                                                                                                                                                                                                                                                                                                                                                                                                                                                                                                                                             \n",
       "132650                                                                                                                                                                                                                                                                                                                                                                                                                                                                                                                                                                                                                                                                                                                                                                                                                                                                                                                                                                                                                                                                                                                                                                                                                                                                                                                                                                                                                                                                                                                                                                                                                                                                                                                                                                                                                                                                                                                                                                                                                                                                                                                                                                            this is the 2nd suave infusion shampoo ive reviewed for amazon  probably the 4th or 5th in the line ive triedboth this  the moroccan infusions are the most enjoyable budget shampoos ive ever experienced  i used to use nexus  a couple other of the high end brands in the 80s when they were only available from hairdressers  cost a fortunei do prefer the smell of this version to any of the moroccans its quite pleasant  my only concern was amazon doesnt mention it is intended for 34dry to normal hair34 i didnt learn this until it arrived i have somewhat greasy hair  i was afraid it would make my hair too greasy but thats not the case at allwatch for this line on sale at grocery stores also where its truly a great value\n",
       "132674                                                                                                                                                                                                                                                                                                                                                                                                                                                                                                                                                                                                                                                                                                                                                                                                                                                                                                                                                                                                                                                                                                                                                                                                                                                                                                                                                                                                                                                                                                                                                                                                                                                                                                                                                                                                                                                                                                                                                                                                                                                                                                                                                                                                                                                                                                                                                                                                                                                                                i dont usually use suave but i figured i would try this one since it seemed a step above their 34normal34 low cost shampoo  i was sorely disappointed i have long straight blonde and dry hair but it gets oily super quick and this one just made it a frizzy mess  no way will i use it on my hair again  i did use it on my 4 year old daughter who has super silky hair naturally and it was fine so i guess i know who will be using it up\n",
       "132836                                                                                                                                                                                                                                                                                                                                                                                                                                                                                                                                                                                                                                                                                                                                                                                                                                                                                                                                                                                                                                                                                                                                                                                                                                                                                                                                                                                                                                                                                                                                                                                                                                                                                                                                                                                                                                                                                                                                                                                                                                   first of all i have used the professional loreal kerastase oleo line since it came out and it is fantastic in every way including the way it smells  i read a glowing review on beautypedia about this new product which claimed this was just as good as the professional line for a fraction of the cost  always one to save money i just had to give it a try and i must say it does maybe an average job of cleaning and the fragrance is strong to the point that i have to rinse for a very long time in order to tolerate the smell of my hair after using this and the conditioner  the end result of using both shampoo and conditioner is limp dull hair with a lot of tangles even with the addition of a leave in conditioner  i will definitely stick to the professional line which is worth it to me to pay a higher price for shiny hair full of body which smells fantastic\n",
       "133049                                                                                                                                                                                                                                                                                                                                                                                                                                                                                                                                                                                                                                                                                                                                                                                                                                                                                                                                                                                                                                                                                                                                                                                                                                                                                                                                                                                                                                                                                                                                                                                                                                                                                                                                                                                                                                       i have been using this shampoo for two weeks and i already see the differencemy hair feels soft touchable and so lighti am not sure if its actually remove the dandruff or not but it does clean my scalp and removes dirtoilbut somehow i feel like it makes my hair kinda dry more i guess thats why i need the conditioner9786the reason i am loving this shampoo is beacuse on the 2nd3rd day my hair still feels clean and refreshed without even washing itcool right i think this shampoo actually hold or reduce the oilness from our scalp  makes our hair clean for days9829 now lets talk about the scentit smell really mild and totally different from other shampoosas you can see the bottle is transluted and you can see the shampoo through itthe shampoo is kinda gray muddy color although i have no problem for thatoverall i love this shampoo and i recommend this if you wanna get rid of oily scalpi am not sure if im gonna buy this again cause its kinda costly than the other shampoos but i do love how it makes my hair really nice and feathery 98299829\n",
       "133133                                                                                                                                                                                                                                                                                                                                                                                                                                                                                                                                                                                                                                                                                                                                                                                                                                                                                                                                                                                                                                                                                                                                                                                                                                                                                                                                                                                                                                                                                                                                                                                                                                                                                                                                                                                                                                                                                                                                                                                                                                                                                                                                                                                                                                                                                                                                                                                                                                                                                                                                                                                                                                the resort we stayed at in costa rica back in 2012 used this shampoo and i have been searching for it for nearly two years so im so excited its finally on amazon its so refreshing and has such a fresh and clean smell that i just love this is a great shampoo and id recommend it to anyone\n",
       "Name: review, Length: 3160, dtype: object"
      ]
     },
     "metadata": {
      "tags": []
     },
     "output_type": "display_data"
    }
   ],
   "source": [
    "#check price\n",
    "import re\n",
    "with pd.option_context ('display.max_colwidth', None):\n",
    "  display (text_df[text_df.review.str.contains('cost')].review)"
   ]
  },
  {
   "cell_type": "code",
   "execution_count": 12,
   "metadata": {
    "id": "CEuGfnNH_nea"
   },
   "outputs": [],
   "source": [
    "text_df.loc[text_df['review'].str.contains('price|pricing|cost|charge',regex=True), 'price_aspect'] = 1\n",
    "text_df.price_aspect.fillna(0, inplace=True)"
   ]
  },
  {
   "cell_type": "code",
   "execution_count": 13,
   "metadata": {
    "colab": {
     "base_uri": "https://localhost:8080/",
     "height": 200
    },
    "id": "_jpP5S6wBJ88",
    "outputId": "ef006183-8387-4a40-bb01-7eeeea617c52"
   },
   "outputs": [
    {
     "data": {
      "text/html": [
       "<div>\n",
       "<style scoped>\n",
       "    .dataframe tbody tr th:only-of-type {\n",
       "        vertical-align: middle;\n",
       "    }\n",
       "\n",
       "    .dataframe tbody tr th {\n",
       "        vertical-align: top;\n",
       "    }\n",
       "\n",
       "    .dataframe thead th {\n",
       "        text-align: right;\n",
       "    }\n",
       "</style>\n",
       "<table border=\"1\" class=\"dataframe\">\n",
       "  <thead>\n",
       "    <tr style=\"text-align: right;\">\n",
       "      <th></th>\n",
       "      <th>review</th>\n",
       "      <th>Ori_index</th>\n",
       "      <th>price_aspect</th>\n",
       "    </tr>\n",
       "  </thead>\n",
       "  <tbody>\n",
       "    <tr>\n",
       "      <th>0</th>\n",
       "      <td>this was a good buy great shampoo and conditio...</td>\n",
       "      <td>0</td>\n",
       "      <td>0.0</td>\n",
       "    </tr>\n",
       "    <tr>\n",
       "      <th>1</th>\n",
       "      <td>i have used kms in the past and always loved t...</td>\n",
       "      <td>1</td>\n",
       "      <td>0.0</td>\n",
       "    </tr>\n",
       "    <tr>\n",
       "      <th>2</th>\n",
       "      <td>i remember kms products being a prestige salon...</td>\n",
       "      <td>2</td>\n",
       "      <td>1.0</td>\n",
       "    </tr>\n",
       "    <tr>\n",
       "      <th>3</th>\n",
       "      <td>this is a wonderful shampoo doesnt make your h...</td>\n",
       "      <td>3</td>\n",
       "      <td>1.0</td>\n",
       "    </tr>\n",
       "    <tr>\n",
       "      <th>4</th>\n",
       "      <td>i have a very dry frizzy hair i have tried man...</td>\n",
       "      <td>4</td>\n",
       "      <td>0.0</td>\n",
       "    </tr>\n",
       "  </tbody>\n",
       "</table>\n",
       "</div>"
      ],
      "text/plain": [
       "                                              review  Ori_index  price_aspect\n",
       "0  this was a good buy great shampoo and conditio...          0           0.0\n",
       "1  i have used kms in the past and always loved t...          1           0.0\n",
       "2  i remember kms products being a prestige salon...          2           1.0\n",
       "3  this is a wonderful shampoo doesnt make your h...          3           1.0\n",
       "4  i have a very dry frizzy hair i have tried man...          4           0.0"
      ]
     },
     "execution_count": 13,
     "metadata": {
      "tags": []
     },
     "output_type": "execute_result"
    }
   ],
   "source": [
    "text_df.head()"
   ]
  },
  {
   "cell_type": "code",
   "execution_count": 14,
   "metadata": {
    "colab": {
     "base_uri": "https://localhost:8080/"
    },
    "id": "zg1Aym-OBNdO",
    "outputId": "f7c06bb1-c241-4e36-87e6-6f16d6994ff8"
   },
   "outputs": [
    {
     "data": {
      "text/plain": [
       "17795"
      ]
     },
     "execution_count": 14,
     "metadata": {
      "tags": []
     },
     "output_type": "execute_result"
    }
   ],
   "source": [
    "sum(text_df.price_aspect==1)"
   ]
  },
  {
   "cell_type": "code",
   "execution_count": 15,
   "metadata": {
    "colab": {
     "base_uri": "https://localhost:8080/"
    },
    "id": "VyUvSRnMBR1G",
    "outputId": "163230b2-e261-4894-9584-97239c8902a9"
   },
   "outputs": [
    {
     "data": {
      "text/plain": [
       "418"
      ]
     },
     "execution_count": 15,
     "metadata": {
      "tags": []
     },
     "output_type": "execute_result"
    }
   ],
   "source": [
    "price_idx = list(text_df[text_df.price_aspect==1].index)\n",
    "long_text_512_idx_list = list(text_df[text_df.loc[:,'review'].str.len() >=1999].review.index)\n",
    "priceindex_removed = [x  for x in price_idx if x in long_text_512_idx_list]\n",
    "len(priceindex_removed)"
   ]
  },
  {
   "cell_type": "code",
   "execution_count": 16,
   "metadata": {
    "id": "K1YMxUK6BRyY"
   },
   "outputs": [],
   "source": [
    "#update package index\n",
    "#remove extremel long text which this package can not handle\n",
    "price_idx =[x for x in price_idx if x not in priceindex_removed]"
   ]
  },
  {
   "cell_type": "code",
   "execution_count": null,
   "metadata": {
    "colab": {
     "base_uri": "https://localhost:8080/"
    },
    "id": "iWH7dzRBBRv6",
    "outputId": "1914a68f-800b-4cb9-f813-888f4e2bc060"
   },
   "outputs": [
    {
     "data": {
      "text/plain": [
       "17377"
      ]
     },
     "execution_count": 91,
     "metadata": {
      "tags": []
     },
     "output_type": "execute_result"
    }
   ],
   "source": [
    "len(price_idx)"
   ]
  },
  {
   "cell_type": "code",
   "execution_count": 23,
   "metadata": {
    "id": "9Ywuwg_zBRtF"
   },
   "outputs": [],
   "source": [
    "#since the package is taking too long to run. The price aspect will be run in parallel and merged later\n",
    "for idx in price_idx[13000:]:  \n",
    "  price, _  = nlp(text_df.review.iloc[idx], aspects=['price', 'pricing'])\n",
    "  text_df.loc[idx, 'neu_price'] = price.scores[0]\n",
    "  text_df.loc[idx,'neg_price'] = price.scores[1]\n",
    "  text_df.loc[idx,'pos_price'] = price.scores[2]"
   ]
  },
  {
   "cell_type": "code",
   "execution_count": 29,
   "metadata": {
    "id": "M2r-Tpgx_nV1"
   },
   "outputs": [],
   "source": [
    "# impute na by zero \n",
    "text_df = text_df.fillna(0)"
   ]
  },
  {
   "cell_type": "code",
   "execution_count": 24,
   "metadata": {
    "colab": {
     "base_uri": "https://localhost:8080/",
     "height": 17
    },
    "id": "mly2nsSmC6kn",
    "outputId": "9e933fff-4e11-4fc0-afec-26dbc96a0561"
   },
   "outputs": [
    {
     "data": {
      "application/javascript": [
       "\n",
       "    async function download(id, filename, size) {\n",
       "      if (!google.colab.kernel.accessAllowed) {\n",
       "        return;\n",
       "      }\n",
       "      const div = document.createElement('div');\n",
       "      const label = document.createElement('label');\n",
       "      label.textContent = `Downloading \"${filename}\": `;\n",
       "      div.appendChild(label);\n",
       "      const progress = document.createElement('progress');\n",
       "      progress.max = size;\n",
       "      div.appendChild(progress);\n",
       "      document.body.appendChild(div);\n",
       "\n",
       "      const buffers = [];\n",
       "      let downloaded = 0;\n",
       "\n",
       "      const channel = await google.colab.kernel.comms.open(id);\n",
       "      // Send a message to notify the kernel that we're ready.\n",
       "      channel.send({})\n",
       "\n",
       "      for await (const message of channel.messages) {\n",
       "        // Send a message to notify the kernel that we're ready.\n",
       "        channel.send({})\n",
       "        if (message.buffers) {\n",
       "          for (const buffer of message.buffers) {\n",
       "            buffers.push(buffer);\n",
       "            downloaded += buffer.byteLength;\n",
       "            progress.value = downloaded;\n",
       "          }\n",
       "        }\n",
       "      }\n",
       "      const blob = new Blob(buffers, {type: 'application/binary'});\n",
       "      const a = document.createElement('a');\n",
       "      a.href = window.URL.createObjectURL(blob);\n",
       "      a.download = filename;\n",
       "      div.appendChild(a);\n",
       "      a.click();\n",
       "      div.remove();\n",
       "    }\n",
       "  "
      ],
      "text/plain": [
       "<IPython.core.display.Javascript object>"
      ]
     },
     "metadata": {
      "tags": []
     },
     "output_type": "display_data"
    },
    {
     "data": {
      "application/javascript": [
       "download(\"download_af9fdcfd-00b7-4aec-8828-e38881133c0a\", \"review_sentiment_aspect_price13000_.csv\", 50265506)"
      ],
      "text/plain": [
       "<IPython.core.display.Javascript object>"
      ]
     },
     "metadata": {
      "tags": []
     },
     "output_type": "display_data"
    }
   ],
   "source": [
    "text_df.to_csv('review_sentiment_aspect_price13000_.csv', index=None)\n",
    "files.download('review_sentiment_aspect_price13000_.csv')"
   ]
  },
  {
   "cell_type": "code",
   "execution_count": null,
   "metadata": {},
   "outputs": [],
   "source": [
    "#merge with \n",
    "#review_sentiment_aspect_price 5772 ( [:, 7746])\n",
    "#review_sentiment_aspect_price57721_83537.csv'  ([ 7746: 11000])\n",
    "#review_sentiment_aspect_price83537_99198 ([11000: 13000])"
   ]
  },
  {
   "cell_type": "markdown",
   "metadata": {
    "id": "-F2QzaArgi7b"
   },
   "source": [
    "# Merge price aspect with all other aspects"
   ]
  },
  {
   "cell_type": "code",
   "execution_count": 30,
   "metadata": {
    "id": "dFs97hFdg1dv"
   },
   "outputs": [],
   "source": [
    "#devliery, custoemr service aspect\n",
    "path2 = '/content/drive/MyDrive/5153/meta_and_review_sentiment_aspect_delivery_cs.csv'\n",
    "df= pd.read_csv(path2)"
   ]
  },
  {
   "cell_type": "code",
   "execution_count": 31,
   "metadata": {
    "colab": {
     "base_uri": "https://localhost:8080/"
    },
    "id": "UXvYwh3Mg9Wj",
    "outputId": "28200c7e-ef74-4c81-c5c6-7bdbd726bf56"
   },
   "outputs": [
    {
     "data": {
      "text/plain": [
       "Index(['Unnamed: 0', 'asin', 'review_x', 'overall', 'helpful', 'summary',\n",
       "       'unixReviewTime', 'reviewTime', 'reviewerID', 'title', 'brand', 'price',\n",
       "       'salesRank', 'polarity_score', 'neutral_score', 'negative_score',\n",
       "       'positive_score', 'neu_delivery', 'neg_delivery', 'pos_delivery',\n",
       "       'neu_shipment', 'neg_shipment', 'pos_shipment', 'review_len',\n",
       "       'review_y', 'Ori_index', 'customer_aspect', 'neu_return_policy',\n",
       "       'neg_return_policy', 'pos_return_policy', 'neu_exchange',\n",
       "       'neg_exchange', 'pos_exchange', 'neu_service', 'neg_service',\n",
       "       'pos_service', 'neu_support', 'neg_support', 'pos_support'],\n",
       "      dtype='object')"
      ]
     },
     "execution_count": 31,
     "metadata": {
      "tags": []
     },
     "output_type": "execute_result"
    }
   ],
   "source": [
    "df.columns"
   ]
  },
  {
   "cell_type": "code",
   "execution_count": 32,
   "metadata": {
    "colab": {
     "base_uri": "https://localhost:8080/",
     "height": 333
    },
    "id": "8ZPNdJhhhEmq",
    "outputId": "d588a24f-1d90-4c8c-99fd-f4da5e21fd0d"
   },
   "outputs": [
    {
     "data": {
      "text/html": [
       "<div>\n",
       "<style scoped>\n",
       "    .dataframe tbody tr th:only-of-type {\n",
       "        vertical-align: middle;\n",
       "    }\n",
       "\n",
       "    .dataframe tbody tr th {\n",
       "        vertical-align: top;\n",
       "    }\n",
       "\n",
       "    .dataframe thead th {\n",
       "        text-align: right;\n",
       "    }\n",
       "</style>\n",
       "<table border=\"1\" class=\"dataframe\">\n",
       "  <thead>\n",
       "    <tr style=\"text-align: right;\">\n",
       "      <th></th>\n",
       "      <th>Unnamed: 0</th>\n",
       "      <th>asin</th>\n",
       "      <th>review_x</th>\n",
       "      <th>overall</th>\n",
       "      <th>helpful</th>\n",
       "      <th>summary</th>\n",
       "      <th>unixReviewTime</th>\n",
       "      <th>reviewTime</th>\n",
       "      <th>reviewerID</th>\n",
       "      <th>title</th>\n",
       "      <th>brand</th>\n",
       "      <th>price</th>\n",
       "      <th>salesRank</th>\n",
       "      <th>polarity_score</th>\n",
       "      <th>neutral_score</th>\n",
       "      <th>negative_score</th>\n",
       "      <th>positive_score</th>\n",
       "      <th>neu_delivery</th>\n",
       "      <th>neg_delivery</th>\n",
       "      <th>pos_delivery</th>\n",
       "      <th>neu_shipment</th>\n",
       "      <th>neg_shipment</th>\n",
       "      <th>pos_shipment</th>\n",
       "      <th>review_len</th>\n",
       "      <th>review_y</th>\n",
       "      <th>Ori_index</th>\n",
       "      <th>customer_aspect</th>\n",
       "      <th>neu_return_policy</th>\n",
       "      <th>neg_return_policy</th>\n",
       "      <th>pos_return_policy</th>\n",
       "      <th>neu_exchange</th>\n",
       "      <th>neg_exchange</th>\n",
       "      <th>pos_exchange</th>\n",
       "      <th>neu_service</th>\n",
       "      <th>neg_service</th>\n",
       "      <th>pos_service</th>\n",
       "      <th>neu_support</th>\n",
       "      <th>neg_support</th>\n",
       "      <th>pos_support</th>\n",
       "    </tr>\n",
       "  </thead>\n",
       "  <tbody>\n",
       "    <tr>\n",
       "      <th>0</th>\n",
       "      <td>0</td>\n",
       "      <td>1929099886</td>\n",
       "      <td>this was a good buy great shampoo and conditio...</td>\n",
       "      <td>4.0</td>\n",
       "      <td>[0, 0]</td>\n",
       "      <td>good shampoo and conditioner</td>\n",
       "      <td>1355011200</td>\n",
       "      <td>12 9, 2012</td>\n",
       "      <td>A2BQ8DVGEGWAFY</td>\n",
       "      <td>bumble and bumble quenching shampoo and condit...</td>\n",
       "      <td>0</td>\n",
       "      <td>62.99</td>\n",
       "      <td>83112</td>\n",
       "      <td>0.7783</td>\n",
       "      <td>0.737</td>\n",
       "      <td>0.038</td>\n",
       "      <td>0.224</td>\n",
       "      <td>0.0</td>\n",
       "      <td>0.0</td>\n",
       "      <td>0.0</td>\n",
       "      <td>0.0</td>\n",
       "      <td>0.0</td>\n",
       "      <td>0.0</td>\n",
       "      <td>144</td>\n",
       "      <td>this was a good buy great shampoo and conditio...</td>\n",
       "      <td>0</td>\n",
       "      <td>0.0</td>\n",
       "      <td>0.0</td>\n",
       "      <td>0.0</td>\n",
       "      <td>0.0</td>\n",
       "      <td>0.0</td>\n",
       "      <td>0.0</td>\n",
       "      <td>0.0</td>\n",
       "      <td>0.0</td>\n",
       "      <td>0.0</td>\n",
       "      <td>0.0</td>\n",
       "      <td>0.0</td>\n",
       "      <td>0.0</td>\n",
       "      <td>0.0</td>\n",
       "    </tr>\n",
       "    <tr>\n",
       "      <th>1</th>\n",
       "      <td>1</td>\n",
       "      <td>5357954771</td>\n",
       "      <td>i have used kms in the past and always loved t...</td>\n",
       "      <td>3.0</td>\n",
       "      <td>[0, 0]</td>\n",
       "      <td>not too impressed</td>\n",
       "      <td>1376352000</td>\n",
       "      <td>08 13, 2013</td>\n",
       "      <td>A2Z9QP4MZ2HXCZ</td>\n",
       "      <td>moisture repair conditioner by kms for unisex ...</td>\n",
       "      <td>KMS</td>\n",
       "      <td>10.79</td>\n",
       "      <td>108278</td>\n",
       "      <td>0.1546</td>\n",
       "      <td>0.699</td>\n",
       "      <td>0.158</td>\n",
       "      <td>0.143</td>\n",
       "      <td>0.0</td>\n",
       "      <td>0.0</td>\n",
       "      <td>0.0</td>\n",
       "      <td>0.0</td>\n",
       "      <td>0.0</td>\n",
       "      <td>0.0</td>\n",
       "      <td>110</td>\n",
       "      <td>i have used kms in the past and always loved t...</td>\n",
       "      <td>1</td>\n",
       "      <td>0.0</td>\n",
       "      <td>0.0</td>\n",
       "      <td>0.0</td>\n",
       "      <td>0.0</td>\n",
       "      <td>0.0</td>\n",
       "      <td>0.0</td>\n",
       "      <td>0.0</td>\n",
       "      <td>0.0</td>\n",
       "      <td>0.0</td>\n",
       "      <td>0.0</td>\n",
       "      <td>0.0</td>\n",
       "      <td>0.0</td>\n",
       "      <td>0.0</td>\n",
       "    </tr>\n",
       "  </tbody>\n",
       "</table>\n",
       "</div>"
      ],
      "text/plain": [
       "   Unnamed: 0        asin  ... neg_support  pos_support\n",
       "0           0  1929099886  ...         0.0          0.0\n",
       "1           1  5357954771  ...         0.0          0.0\n",
       "\n",
       "[2 rows x 39 columns]"
      ]
     },
     "execution_count": 32,
     "metadata": {
      "tags": []
     },
     "output_type": "execute_result"
    }
   ],
   "source": [
    "#delivery: shipment, delivery\n",
    "#customer service: exchange, return, service, support\n",
    "df.iloc[:2]"
   ]
  },
  {
   "cell_type": "code",
   "execution_count": null,
   "metadata": {
    "colab": {
     "base_uri": "https://localhost:8080/",
     "height": 350
    },
    "id": "BJdJKs9cipRg",
    "outputId": "4f0b5e35-64f5-48d9-aa1f-29d1dccc0b87"
   },
   "outputs": [
    {
     "data": {
      "text/html": [
       "<div>\n",
       "<style scoped>\n",
       "    .dataframe tbody tr th:only-of-type {\n",
       "        vertical-align: middle;\n",
       "    }\n",
       "\n",
       "    .dataframe tbody tr th {\n",
       "        vertical-align: top;\n",
       "    }\n",
       "\n",
       "    .dataframe thead th {\n",
       "        text-align: right;\n",
       "    }\n",
       "</style>\n",
       "<table border=\"1\" class=\"dataframe\">\n",
       "  <thead>\n",
       "    <tr style=\"text-align: right;\">\n",
       "      <th></th>\n",
       "      <th>Unnamed: 0</th>\n",
       "      <th>asin</th>\n",
       "      <th>review_x</th>\n",
       "      <th>overall</th>\n",
       "      <th>helpful</th>\n",
       "      <th>summary</th>\n",
       "      <th>unixReviewTime</th>\n",
       "      <th>reviewTime</th>\n",
       "      <th>reviewerID</th>\n",
       "      <th>title</th>\n",
       "      <th>brand</th>\n",
       "      <th>price</th>\n",
       "      <th>salesRank</th>\n",
       "      <th>polarity_score</th>\n",
       "      <th>neutral_score</th>\n",
       "      <th>negative_score</th>\n",
       "      <th>positive_score</th>\n",
       "      <th>neu_delivery</th>\n",
       "      <th>neg_delivery</th>\n",
       "      <th>pos_delivery</th>\n",
       "      <th>neu_shipment</th>\n",
       "      <th>neg_shipment</th>\n",
       "      <th>pos_shipment</th>\n",
       "      <th>review_len</th>\n",
       "      <th>review_y</th>\n",
       "      <th>Ori_index</th>\n",
       "      <th>customer_aspect</th>\n",
       "      <th>neu_return_policy</th>\n",
       "      <th>neg_return_policy</th>\n",
       "      <th>pos_return_policy</th>\n",
       "      <th>neu_exchange</th>\n",
       "      <th>neg_exchange</th>\n",
       "      <th>pos_exchange</th>\n",
       "      <th>neu_service</th>\n",
       "      <th>neg_service</th>\n",
       "      <th>pos_service</th>\n",
       "      <th>neu_support</th>\n",
       "      <th>neg_support</th>\n",
       "      <th>pos_support</th>\n",
       "    </tr>\n",
       "  </thead>\n",
       "  <tbody>\n",
       "    <tr>\n",
       "      <th>133157</th>\n",
       "      <td>133164</td>\n",
       "      <td>B00KYWMYEE</td>\n",
       "      <td>definitely worth the money</td>\n",
       "      <td>5.0</td>\n",
       "      <td>[0, 0]</td>\n",
       "      <td>five stars</td>\n",
       "      <td>1404086400</td>\n",
       "      <td>06 30, 2014</td>\n",
       "      <td>A385AA5J7QK4VB</td>\n",
       "      <td>lcl beauty reclining hydraulic all purpose cut...</td>\n",
       "      <td>0</td>\n",
       "      <td>149.88</td>\n",
       "      <td>38890</td>\n",
       "      <td>0.5574</td>\n",
       "      <td>0.303</td>\n",
       "      <td>0.000</td>\n",
       "      <td>0.697</td>\n",
       "      <td>0.0</td>\n",
       "      <td>0.0</td>\n",
       "      <td>0.0</td>\n",
       "      <td>0.0</td>\n",
       "      <td>0.0</td>\n",
       "      <td>0.0</td>\n",
       "      <td>26</td>\n",
       "      <td>definitely worth the money</td>\n",
       "      <td>133157</td>\n",
       "      <td>0.0</td>\n",
       "      <td>0.0</td>\n",
       "      <td>0.0</td>\n",
       "      <td>0.0</td>\n",
       "      <td>0.0</td>\n",
       "      <td>0.0</td>\n",
       "      <td>0.0</td>\n",
       "      <td>0.0</td>\n",
       "      <td>0.0</td>\n",
       "      <td>0.0</td>\n",
       "      <td>0.0</td>\n",
       "      <td>0.0</td>\n",
       "      <td>0.0</td>\n",
       "    </tr>\n",
       "    <tr>\n",
       "      <th>133158</th>\n",
       "      <td>133165</td>\n",
       "      <td>B00L5YAROY</td>\n",
       "      <td>hydraulic fluid leaked all over while it was s...</td>\n",
       "      <td>2.0</td>\n",
       "      <td>[0, 0]</td>\n",
       "      <td>poorly shipped and missing parts</td>\n",
       "      <td>1404950400</td>\n",
       "      <td>07 10, 2014</td>\n",
       "      <td>A1P3L5YQB5U0Z5</td>\n",
       "      <td>exacme classic hydraulic barber chair salon be...</td>\n",
       "      <td>0</td>\n",
       "      <td>109.90</td>\n",
       "      <td>106280</td>\n",
       "      <td>-0.0000</td>\n",
       "      <td>0.668</td>\n",
       "      <td>0.179</td>\n",
       "      <td>0.152</td>\n",
       "      <td>0.0</td>\n",
       "      <td>0.0</td>\n",
       "      <td>0.0</td>\n",
       "      <td>0.0</td>\n",
       "      <td>0.0</td>\n",
       "      <td>0.0</td>\n",
       "      <td>180</td>\n",
       "      <td>hydraulic fluid leaked all over while it was s...</td>\n",
       "      <td>133158</td>\n",
       "      <td>0.0</td>\n",
       "      <td>0.0</td>\n",
       "      <td>0.0</td>\n",
       "      <td>0.0</td>\n",
       "      <td>0.0</td>\n",
       "      <td>0.0</td>\n",
       "      <td>0.0</td>\n",
       "      <td>0.0</td>\n",
       "      <td>0.0</td>\n",
       "      <td>0.0</td>\n",
       "      <td>0.0</td>\n",
       "      <td>0.0</td>\n",
       "      <td>0.0</td>\n",
       "    </tr>\n",
       "  </tbody>\n",
       "</table>\n",
       "</div>"
      ],
      "text/plain": [
       "        Unnamed: 0        asin  ... neg_support  pos_support\n",
       "133157      133164  B00KYWMYEE  ...         0.0          0.0\n",
       "133158      133165  B00L5YAROY  ...         0.0          0.0\n",
       "\n",
       "[2 rows x 39 columns]"
      ]
     },
     "execution_count": 12,
     "metadata": {
      "tags": []
     },
     "output_type": "execute_result"
    }
   ],
   "source": [
    "df.iloc[-2:]"
   ]
  },
  {
   "cell_type": "code",
   "execution_count": 33,
   "metadata": {
    "colab": {
     "base_uri": "https://localhost:8080/",
     "height": 316
    },
    "id": "RzCtb4bDhaRq",
    "outputId": "fd4b75ce-6495-45df-9ee6-cc2b4083bf18"
   },
   "outputs": [
    {
     "data": {
      "text/html": [
       "<div>\n",
       "<style scoped>\n",
       "    .dataframe tbody tr th:only-of-type {\n",
       "        vertical-align: middle;\n",
       "    }\n",
       "\n",
       "    .dataframe tbody tr th {\n",
       "        vertical-align: top;\n",
       "    }\n",
       "\n",
       "    .dataframe thead th {\n",
       "        text-align: right;\n",
       "    }\n",
       "</style>\n",
       "<table border=\"1\" class=\"dataframe\">\n",
       "  <thead>\n",
       "    <tr style=\"text-align: right;\">\n",
       "      <th></th>\n",
       "      <th>asin</th>\n",
       "      <th>review</th>\n",
       "      <th>overall</th>\n",
       "      <th>helpful</th>\n",
       "      <th>summary</th>\n",
       "      <th>unixReviewTime</th>\n",
       "      <th>reviewTime</th>\n",
       "      <th>reviewerID</th>\n",
       "      <th>title</th>\n",
       "      <th>brand</th>\n",
       "      <th>price</th>\n",
       "      <th>salesRank</th>\n",
       "      <th>polarity_score</th>\n",
       "      <th>neutral_score</th>\n",
       "      <th>negative_score</th>\n",
       "      <th>positive_score</th>\n",
       "      <th>neu_delivery</th>\n",
       "      <th>neg_delivery</th>\n",
       "      <th>pos_delivery</th>\n",
       "      <th>neu_shipment</th>\n",
       "      <th>neg_shipment</th>\n",
       "      <th>pos_shipment</th>\n",
       "      <th>review_len</th>\n",
       "      <th>neu_return_policy</th>\n",
       "      <th>neg_return_policy</th>\n",
       "      <th>pos_return_policy</th>\n",
       "      <th>neu_exchange</th>\n",
       "      <th>neg_exchange</th>\n",
       "      <th>pos_exchange</th>\n",
       "      <th>neu_service</th>\n",
       "      <th>neg_service</th>\n",
       "      <th>pos_service</th>\n",
       "      <th>neu_support</th>\n",
       "      <th>neg_support</th>\n",
       "      <th>pos_support</th>\n",
       "    </tr>\n",
       "  </thead>\n",
       "  <tbody>\n",
       "    <tr>\n",
       "      <th>0</th>\n",
       "      <td>1929099886</td>\n",
       "      <td>this was a good buy great shampoo and conditio...</td>\n",
       "      <td>4.0</td>\n",
       "      <td>[0, 0]</td>\n",
       "      <td>good shampoo and conditioner</td>\n",
       "      <td>1355011200</td>\n",
       "      <td>12 9, 2012</td>\n",
       "      <td>A2BQ8DVGEGWAFY</td>\n",
       "      <td>bumble and bumble quenching shampoo and condit...</td>\n",
       "      <td>0</td>\n",
       "      <td>62.99</td>\n",
       "      <td>83112</td>\n",
       "      <td>0.7783</td>\n",
       "      <td>0.737</td>\n",
       "      <td>0.038</td>\n",
       "      <td>0.224</td>\n",
       "      <td>0.0</td>\n",
       "      <td>0.0</td>\n",
       "      <td>0.0</td>\n",
       "      <td>0.0</td>\n",
       "      <td>0.0</td>\n",
       "      <td>0.0</td>\n",
       "      <td>144</td>\n",
       "      <td>0.0</td>\n",
       "      <td>0.0</td>\n",
       "      <td>0.0</td>\n",
       "      <td>0.0</td>\n",
       "      <td>0.0</td>\n",
       "      <td>0.0</td>\n",
       "      <td>0.0</td>\n",
       "      <td>0.0</td>\n",
       "      <td>0.0</td>\n",
       "      <td>0.0</td>\n",
       "      <td>0.0</td>\n",
       "      <td>0.0</td>\n",
       "    </tr>\n",
       "    <tr>\n",
       "      <th>1</th>\n",
       "      <td>5357954771</td>\n",
       "      <td>i have used kms in the past and always loved t...</td>\n",
       "      <td>3.0</td>\n",
       "      <td>[0, 0]</td>\n",
       "      <td>not too impressed</td>\n",
       "      <td>1376352000</td>\n",
       "      <td>08 13, 2013</td>\n",
       "      <td>A2Z9QP4MZ2HXCZ</td>\n",
       "      <td>moisture repair conditioner by kms for unisex ...</td>\n",
       "      <td>KMS</td>\n",
       "      <td>10.79</td>\n",
       "      <td>108278</td>\n",
       "      <td>0.1546</td>\n",
       "      <td>0.699</td>\n",
       "      <td>0.158</td>\n",
       "      <td>0.143</td>\n",
       "      <td>0.0</td>\n",
       "      <td>0.0</td>\n",
       "      <td>0.0</td>\n",
       "      <td>0.0</td>\n",
       "      <td>0.0</td>\n",
       "      <td>0.0</td>\n",
       "      <td>110</td>\n",
       "      <td>0.0</td>\n",
       "      <td>0.0</td>\n",
       "      <td>0.0</td>\n",
       "      <td>0.0</td>\n",
       "      <td>0.0</td>\n",
       "      <td>0.0</td>\n",
       "      <td>0.0</td>\n",
       "      <td>0.0</td>\n",
       "      <td>0.0</td>\n",
       "      <td>0.0</td>\n",
       "      <td>0.0</td>\n",
       "      <td>0.0</td>\n",
       "    </tr>\n",
       "  </tbody>\n",
       "</table>\n",
       "</div>"
      ],
      "text/plain": [
       "         asin  ... pos_support\n",
       "0  1929099886  ...         0.0\n",
       "1  5357954771  ...         0.0\n",
       "\n",
       "[2 rows x 35 columns]"
      ]
     },
     "execution_count": 33,
     "metadata": {
      "tags": []
     },
     "output_type": "execute_result"
    }
   ],
   "source": [
    "df.drop(['Unnamed: 0', 'review_y', 'Ori_index', 'customer_aspect'], axis=1, inplace=True)\n",
    "df=df.rename(columns= {'review_x':'review'})\n",
    "df.iloc[:2]"
   ]
  },
  {
   "cell_type": "code",
   "execution_count": 34,
   "metadata": {
    "colab": {
     "base_uri": "https://localhost:8080/",
     "height": 143
    },
    "id": "T6vd89NKgkGN",
    "outputId": "d3015d21-1705-4f17-bd63-f2ac5f6e2698"
   },
   "outputs": [
    {
     "data": {
      "text/html": [
       "<div>\n",
       "<style scoped>\n",
       "    .dataframe tbody tr th:only-of-type {\n",
       "        vertical-align: middle;\n",
       "    }\n",
       "\n",
       "    .dataframe tbody tr th {\n",
       "        vertical-align: top;\n",
       "    }\n",
       "\n",
       "    .dataframe thead th {\n",
       "        text-align: right;\n",
       "    }\n",
       "</style>\n",
       "<table border=\"1\" class=\"dataframe\">\n",
       "  <thead>\n",
       "    <tr style=\"text-align: right;\">\n",
       "      <th></th>\n",
       "      <th>review</th>\n",
       "      <th>Ori_index</th>\n",
       "      <th>package_aspect</th>\n",
       "      <th>neu_pack</th>\n",
       "      <th>neg_pack</th>\n",
       "      <th>pos_pack</th>\n",
       "      <th>neu_package</th>\n",
       "      <th>neg_package</th>\n",
       "      <th>pos_package</th>\n",
       "    </tr>\n",
       "  </thead>\n",
       "  <tbody>\n",
       "    <tr>\n",
       "      <th>0</th>\n",
       "      <td>this was a good buy great shampoo and conditio...</td>\n",
       "      <td>0</td>\n",
       "      <td>0.0</td>\n",
       "      <td>0.0</td>\n",
       "      <td>0.0</td>\n",
       "      <td>0.0</td>\n",
       "      <td>0.0</td>\n",
       "      <td>0.0</td>\n",
       "      <td>0.0</td>\n",
       "    </tr>\n",
       "    <tr>\n",
       "      <th>1</th>\n",
       "      <td>i have used kms in the past and always loved t...</td>\n",
       "      <td>1</td>\n",
       "      <td>0.0</td>\n",
       "      <td>0.0</td>\n",
       "      <td>0.0</td>\n",
       "      <td>0.0</td>\n",
       "      <td>0.0</td>\n",
       "      <td>0.0</td>\n",
       "      <td>0.0</td>\n",
       "    </tr>\n",
       "  </tbody>\n",
       "</table>\n",
       "</div>"
      ],
      "text/plain": [
       "                                              review  ...  pos_package\n",
       "0  this was a good buy great shampoo and conditio...  ...          0.0\n",
       "1  i have used kms in the past and always loved t...  ...          0.0\n",
       "\n",
       "[2 rows x 9 columns]"
      ]
     },
     "execution_count": 34,
     "metadata": {
      "tags": []
     },
     "output_type": "execute_result"
    }
   ],
   "source": [
    "#merge package aspect to delivery and customer service aspects\n",
    "path3 ='/content/drive/MyDrive/5153/review_sentiment_aspect_package.csv'\n",
    "df_pack = pd.read_csv(path3)\n",
    "df_pack.iloc[:2]"
   ]
  },
  {
   "cell_type": "code",
   "execution_count": 35,
   "metadata": {
    "id": "KYbVd-DHh9wv"
   },
   "outputs": [],
   "source": [
    "df= df.merge (df_pack, left_index=True, right_on = 'Ori_index').drop(['review_y', 'Ori_index', 'package_aspect'], axis=1)"
   ]
  },
  {
   "cell_type": "code",
   "execution_count": 36,
   "metadata": {
    "colab": {
     "base_uri": "https://localhost:8080/",
     "height": 316
    },
    "id": "ltwXiZXjiyWu",
    "outputId": "7c07d39d-b162-413c-d575-33895c79f8da"
   },
   "outputs": [
    {
     "data": {
      "text/html": [
       "<div>\n",
       "<style scoped>\n",
       "    .dataframe tbody tr th:only-of-type {\n",
       "        vertical-align: middle;\n",
       "    }\n",
       "\n",
       "    .dataframe tbody tr th {\n",
       "        vertical-align: top;\n",
       "    }\n",
       "\n",
       "    .dataframe thead th {\n",
       "        text-align: right;\n",
       "    }\n",
       "</style>\n",
       "<table border=\"1\" class=\"dataframe\">\n",
       "  <thead>\n",
       "    <tr style=\"text-align: right;\">\n",
       "      <th></th>\n",
       "      <th>asin</th>\n",
       "      <th>review</th>\n",
       "      <th>overall</th>\n",
       "      <th>helpful</th>\n",
       "      <th>summary</th>\n",
       "      <th>unixReviewTime</th>\n",
       "      <th>reviewTime</th>\n",
       "      <th>reviewerID</th>\n",
       "      <th>title</th>\n",
       "      <th>brand</th>\n",
       "      <th>price</th>\n",
       "      <th>salesRank</th>\n",
       "      <th>polarity_score</th>\n",
       "      <th>neutral_score</th>\n",
       "      <th>negative_score</th>\n",
       "      <th>positive_score</th>\n",
       "      <th>neu_delivery</th>\n",
       "      <th>neg_delivery</th>\n",
       "      <th>pos_delivery</th>\n",
       "      <th>neu_shipment</th>\n",
       "      <th>neg_shipment</th>\n",
       "      <th>pos_shipment</th>\n",
       "      <th>review_len</th>\n",
       "      <th>neu_return_policy</th>\n",
       "      <th>neg_return_policy</th>\n",
       "      <th>pos_return_policy</th>\n",
       "      <th>neu_exchange</th>\n",
       "      <th>neg_exchange</th>\n",
       "      <th>pos_exchange</th>\n",
       "      <th>neu_service</th>\n",
       "      <th>neg_service</th>\n",
       "      <th>pos_service</th>\n",
       "      <th>neu_support</th>\n",
       "      <th>neg_support</th>\n",
       "      <th>pos_support</th>\n",
       "      <th>neu_pack</th>\n",
       "      <th>neg_pack</th>\n",
       "      <th>pos_pack</th>\n",
       "      <th>neu_package</th>\n",
       "      <th>neg_package</th>\n",
       "      <th>pos_package</th>\n",
       "    </tr>\n",
       "  </thead>\n",
       "  <tbody>\n",
       "    <tr>\n",
       "      <th>0</th>\n",
       "      <td>1929099886</td>\n",
       "      <td>this was a good buy great shampoo and conditio...</td>\n",
       "      <td>4.0</td>\n",
       "      <td>[0, 0]</td>\n",
       "      <td>good shampoo and conditioner</td>\n",
       "      <td>1355011200</td>\n",
       "      <td>12 9, 2012</td>\n",
       "      <td>A2BQ8DVGEGWAFY</td>\n",
       "      <td>bumble and bumble quenching shampoo and condit...</td>\n",
       "      <td>0</td>\n",
       "      <td>62.99</td>\n",
       "      <td>83112</td>\n",
       "      <td>0.7783</td>\n",
       "      <td>0.737</td>\n",
       "      <td>0.038</td>\n",
       "      <td>0.224</td>\n",
       "      <td>0.0</td>\n",
       "      <td>0.0</td>\n",
       "      <td>0.0</td>\n",
       "      <td>0.0</td>\n",
       "      <td>0.0</td>\n",
       "      <td>0.0</td>\n",
       "      <td>144</td>\n",
       "      <td>0.0</td>\n",
       "      <td>0.0</td>\n",
       "      <td>0.0</td>\n",
       "      <td>0.0</td>\n",
       "      <td>0.0</td>\n",
       "      <td>0.0</td>\n",
       "      <td>0.0</td>\n",
       "      <td>0.0</td>\n",
       "      <td>0.0</td>\n",
       "      <td>0.0</td>\n",
       "      <td>0.0</td>\n",
       "      <td>0.0</td>\n",
       "      <td>0.0</td>\n",
       "      <td>0.0</td>\n",
       "      <td>0.0</td>\n",
       "      <td>0.0</td>\n",
       "      <td>0.0</td>\n",
       "      <td>0.0</td>\n",
       "    </tr>\n",
       "    <tr>\n",
       "      <th>1</th>\n",
       "      <td>5357954771</td>\n",
       "      <td>i have used kms in the past and always loved t...</td>\n",
       "      <td>3.0</td>\n",
       "      <td>[0, 0]</td>\n",
       "      <td>not too impressed</td>\n",
       "      <td>1376352000</td>\n",
       "      <td>08 13, 2013</td>\n",
       "      <td>A2Z9QP4MZ2HXCZ</td>\n",
       "      <td>moisture repair conditioner by kms for unisex ...</td>\n",
       "      <td>KMS</td>\n",
       "      <td>10.79</td>\n",
       "      <td>108278</td>\n",
       "      <td>0.1546</td>\n",
       "      <td>0.699</td>\n",
       "      <td>0.158</td>\n",
       "      <td>0.143</td>\n",
       "      <td>0.0</td>\n",
       "      <td>0.0</td>\n",
       "      <td>0.0</td>\n",
       "      <td>0.0</td>\n",
       "      <td>0.0</td>\n",
       "      <td>0.0</td>\n",
       "      <td>110</td>\n",
       "      <td>0.0</td>\n",
       "      <td>0.0</td>\n",
       "      <td>0.0</td>\n",
       "      <td>0.0</td>\n",
       "      <td>0.0</td>\n",
       "      <td>0.0</td>\n",
       "      <td>0.0</td>\n",
       "      <td>0.0</td>\n",
       "      <td>0.0</td>\n",
       "      <td>0.0</td>\n",
       "      <td>0.0</td>\n",
       "      <td>0.0</td>\n",
       "      <td>0.0</td>\n",
       "      <td>0.0</td>\n",
       "      <td>0.0</td>\n",
       "      <td>0.0</td>\n",
       "      <td>0.0</td>\n",
       "      <td>0.0</td>\n",
       "    </tr>\n",
       "  </tbody>\n",
       "</table>\n",
       "</div>"
      ],
      "text/plain": [
       "         asin  ... pos_package\n",
       "0  1929099886  ...         0.0\n",
       "1  5357954771  ...         0.0\n",
       "\n",
       "[2 rows x 41 columns]"
      ]
     },
     "execution_count": 36,
     "metadata": {
      "tags": []
     },
     "output_type": "execute_result"
    }
   ],
   "source": [
    "#delivery: shipment, delivery\n",
    "#customer service: return, exchange, service, support, \n",
    "#package: pack, package \n",
    "df=df.rename(columns = {'review_x':'review'})\n",
    "df.iloc[:2]"
   ]
  },
  {
   "cell_type": "code",
   "execution_count": null,
   "metadata": {},
   "outputs": [],
   "source": [
    "#since price aspects are executed in parallel, merge all price aspects \n",
    "#review_sentiment_aspect_price13000_.csv ([13000:])\n",
    "#merge with \n",
    "#review_sentiment_aspect_price 5772 ( [:, 7746])\n",
    "#review_sentiment_aspect_price57721_83537.csv'  ([ 7746: 11000])\n",
    "#review_sentiment_aspect_price83537_99198 ([11000: 13000])"
   ]
  },
  {
   "cell_type": "code",
   "execution_count": 37,
   "metadata": {
    "colab": {
     "base_uri": "https://localhost:8080/",
     "height": 109
    },
    "id": "1znSoN6EjB2g",
    "outputId": "606d4b1e-d08f-4d75-8f4a-9604e2267282"
   },
   "outputs": [
    {
     "data": {
      "text/html": [
       "<div>\n",
       "<style scoped>\n",
       "    .dataframe tbody tr th:only-of-type {\n",
       "        vertical-align: middle;\n",
       "    }\n",
       "\n",
       "    .dataframe tbody tr th {\n",
       "        vertical-align: top;\n",
       "    }\n",
       "\n",
       "    .dataframe thead th {\n",
       "        text-align: right;\n",
       "    }\n",
       "</style>\n",
       "<table border=\"1\" class=\"dataframe\">\n",
       "  <thead>\n",
       "    <tr style=\"text-align: right;\">\n",
       "      <th></th>\n",
       "      <th>review</th>\n",
       "      <th>Ori_index</th>\n",
       "      <th>price_aspect</th>\n",
       "      <th>neu_price</th>\n",
       "      <th>neg_price</th>\n",
       "      <th>pos_price</th>\n",
       "    </tr>\n",
       "  </thead>\n",
       "  <tbody>\n",
       "    <tr>\n",
       "      <th>0</th>\n",
       "      <td>this was a good buy great shampoo and conditio...</td>\n",
       "      <td>0</td>\n",
       "      <td>0.0</td>\n",
       "      <td>0.0</td>\n",
       "      <td>0.0</td>\n",
       "      <td>0.0</td>\n",
       "    </tr>\n",
       "    <tr>\n",
       "      <th>1</th>\n",
       "      <td>i have used kms in the past and always loved t...</td>\n",
       "      <td>1</td>\n",
       "      <td>0.0</td>\n",
       "      <td>0.0</td>\n",
       "      <td>0.0</td>\n",
       "      <td>0.0</td>\n",
       "    </tr>\n",
       "  </tbody>\n",
       "</table>\n",
       "</div>"
      ],
      "text/plain": [
       "                                              review  ...  pos_price\n",
       "0  this was a good buy great shampoo and conditio...  ...        0.0\n",
       "1  i have used kms in the past and always loved t...  ...        0.0\n",
       "\n",
       "[2 rows x 6 columns]"
      ]
     },
     "execution_count": 37,
     "metadata": {
      "tags": []
     },
     "output_type": "execute_result"
    }
   ],
   "source": [
    "path4 ='/content/drive/MyDrive/5153/review_sentiment_aspect_price 57721.csv'\n",
    "df_price = pd.read_csv(path4)\n",
    "df_price.iloc[:2]"
   ]
  },
  {
   "cell_type": "code",
   "execution_count": 38,
   "metadata": {
    "colab": {
     "base_uri": "https://localhost:8080/"
    },
    "id": "WiwY2ImOkZof",
    "outputId": "a2185fcd-c90d-4aa1-f0d4-14ab22616d21"
   },
   "outputs": [
    {
     "data": {
      "text/plain": [
       "17377"
      ]
     },
     "execution_count": 38,
     "metadata": {
      "tags": []
     },
     "output_type": "execute_result"
    }
   ],
   "source": [
    "len(price_idx)"
   ]
  },
  {
   "cell_type": "code",
   "execution_count": 41,
   "metadata": {
    "colab": {
     "base_uri": "https://localhost:8080/"
    },
    "id": "kmsxnpbeBDtk",
    "outputId": "73a5ff86-e652-41fe-a8a3-49681f1fa974"
   },
   "outputs": [
    {
     "data": {
      "text/plain": [
       "57721"
      ]
     },
     "execution_count": 41,
     "metadata": {
      "tags": []
     },
     "output_type": "execute_result"
    }
   ],
   "source": [
    "price_idx[7746]"
   ]
  },
  {
   "cell_type": "code",
   "execution_count": 42,
   "metadata": {
    "colab": {
     "base_uri": "https://localhost:8080/",
     "height": 109
    },
    "id": "yX5lrcFXlMDo",
    "outputId": "3630384c-71e8-49f5-c848-334c597b259f"
   },
   "outputs": [
    {
     "data": {
      "text/html": [
       "<div>\n",
       "<style scoped>\n",
       "    .dataframe tbody tr th:only-of-type {\n",
       "        vertical-align: middle;\n",
       "    }\n",
       "\n",
       "    .dataframe tbody tr th {\n",
       "        vertical-align: top;\n",
       "    }\n",
       "\n",
       "    .dataframe thead th {\n",
       "        text-align: right;\n",
       "    }\n",
       "</style>\n",
       "<table border=\"1\" class=\"dataframe\">\n",
       "  <thead>\n",
       "    <tr style=\"text-align: right;\">\n",
       "      <th></th>\n",
       "      <th>review</th>\n",
       "      <th>Ori_index</th>\n",
       "      <th>price_aspect</th>\n",
       "      <th>neu_price</th>\n",
       "      <th>neg_price</th>\n",
       "      <th>pos_price</th>\n",
       "    </tr>\n",
       "  </thead>\n",
       "  <tbody>\n",
       "    <tr>\n",
       "      <th>0</th>\n",
       "      <td>this was a good buy great shampoo and conditio...</td>\n",
       "      <td>0</td>\n",
       "      <td>0.0</td>\n",
       "      <td>NaN</td>\n",
       "      <td>NaN</td>\n",
       "      <td>NaN</td>\n",
       "    </tr>\n",
       "    <tr>\n",
       "      <th>1</th>\n",
       "      <td>i have used kms in the past and always loved t...</td>\n",
       "      <td>1</td>\n",
       "      <td>0.0</td>\n",
       "      <td>NaN</td>\n",
       "      <td>NaN</td>\n",
       "      <td>NaN</td>\n",
       "    </tr>\n",
       "  </tbody>\n",
       "</table>\n",
       "</div>"
      ],
      "text/plain": [
       "                                              review  ...  pos_price\n",
       "0  this was a good buy great shampoo and conditio...  ...        NaN\n",
       "1  i have used kms in the past and always loved t...  ...        NaN\n",
       "\n",
       "[2 rows x 6 columns]"
      ]
     },
     "execution_count": 42,
     "metadata": {
      "tags": []
     },
     "output_type": "execute_result"
    }
   ],
   "source": [
    "path5 ='/content/drive/MyDrive/5153/review_sentiment_aspect_price57721_83537.csv'\n",
    "df_price2 = pd.read_csv(path5)\n",
    "df_price2.iloc[:2]"
   ]
  },
  {
   "cell_type": "code",
   "execution_count": 43,
   "metadata": {
    "colab": {
     "base_uri": "https://localhost:8080/"
    },
    "id": "gcUFwBdQlbZ8",
    "outputId": "b7c352ff-fbbc-4343-b57b-b1b5b1b1c5f5"
   },
   "outputs": [
    {
     "data": {
      "text/plain": [
       "83537"
      ]
     },
     "execution_count": 43,
     "metadata": {
      "tags": []
     },
     "output_type": "execute_result"
    }
   ],
   "source": [
    "price_idx[11000-1]"
   ]
  },
  {
   "cell_type": "code",
   "execution_count": 45,
   "metadata": {
    "id": "GNE6q061lkTm"
   },
   "outputs": [],
   "source": [
    "for idx in price_idx[7746:11000]:\n",
    "  df_price.loc[idx, 'neu_price'] = df_price2.loc[idx, 'neu_price']\n",
    "  df_price.loc[idx, 'neg_price'] = df_price2.loc[idx, 'neg_price']\n",
    "  df_price.loc[idx, 'pos_price'] = df_price2.loc[idx, 'pos_price']"
   ]
  },
  {
   "cell_type": "code",
   "execution_count": 47,
   "metadata": {
    "colab": {
     "base_uri": "https://localhost:8080/",
     "height": 109
    },
    "id": "88LsxU54mMBD",
    "outputId": "cdf92d0c-7dd0-4c08-d43a-bfe235e24cb7"
   },
   "outputs": [
    {
     "data": {
      "text/html": [
       "<div>\n",
       "<style scoped>\n",
       "    .dataframe tbody tr th:only-of-type {\n",
       "        vertical-align: middle;\n",
       "    }\n",
       "\n",
       "    .dataframe tbody tr th {\n",
       "        vertical-align: top;\n",
       "    }\n",
       "\n",
       "    .dataframe thead th {\n",
       "        text-align: right;\n",
       "    }\n",
       "</style>\n",
       "<table border=\"1\" class=\"dataframe\">\n",
       "  <thead>\n",
       "    <tr style=\"text-align: right;\">\n",
       "      <th></th>\n",
       "      <th>review</th>\n",
       "      <th>Ori_index</th>\n",
       "      <th>price_aspect</th>\n",
       "      <th>neu_price</th>\n",
       "      <th>neg_price</th>\n",
       "      <th>pos_price</th>\n",
       "    </tr>\n",
       "  </thead>\n",
       "  <tbody>\n",
       "    <tr>\n",
       "      <th>0</th>\n",
       "      <td>this was a good buy great shampoo and conditio...</td>\n",
       "      <td>0</td>\n",
       "      <td>0.0</td>\n",
       "      <td>NaN</td>\n",
       "      <td>NaN</td>\n",
       "      <td>NaN</td>\n",
       "    </tr>\n",
       "    <tr>\n",
       "      <th>1</th>\n",
       "      <td>i have used kms in the past and always loved t...</td>\n",
       "      <td>1</td>\n",
       "      <td>0.0</td>\n",
       "      <td>NaN</td>\n",
       "      <td>NaN</td>\n",
       "      <td>NaN</td>\n",
       "    </tr>\n",
       "  </tbody>\n",
       "</table>\n",
       "</div>"
      ],
      "text/plain": [
       "                                              review  ...  pos_price\n",
       "0  this was a good buy great shampoo and conditio...  ...        NaN\n",
       "1  i have used kms in the past and always loved t...  ...        NaN\n",
       "\n",
       "[2 rows x 6 columns]"
      ]
     },
     "execution_count": 47,
     "metadata": {
      "tags": []
     },
     "output_type": "execute_result"
    }
   ],
   "source": [
    "path6= '/content/drive/MyDrive/5153/review_sentiment_aspect_price83537_99198.csv'\n",
    "df_price2 = pd.read_csv(path6)\n",
    "df_price2.iloc[:2]"
   ]
  },
  {
   "cell_type": "code",
   "execution_count": 48,
   "metadata": {
    "colab": {
     "base_uri": "https://localhost:8080/"
    },
    "id": "0yjJ7CUdmtYM",
    "outputId": "524d4f2a-154e-47e4-eb79-bf3168344d01"
   },
   "outputs": [
    {
     "data": {
      "text/plain": [
       "99198"
      ]
     },
     "execution_count": 48,
     "metadata": {
      "tags": []
     },
     "output_type": "execute_result"
    }
   ],
   "source": [
    "price_idx[13000-1]"
   ]
  },
  {
   "cell_type": "code",
   "execution_count": 50,
   "metadata": {
    "id": "qEkf5X_5m14l"
   },
   "outputs": [],
   "source": [
    "for idx in price_idx[11000:13000]:\n",
    "  df_price.loc[idx, 'neu_price'] = df_price2.loc[idx, 'neu_price']\n",
    "  df_price.loc[idx, 'neg_price'] = df_price2.loc[idx, 'neg_price']\n",
    "  df_price.loc[idx, 'pos_price'] = df_price2.loc[idx, 'pos_price']"
   ]
  },
  {
   "cell_type": "code",
   "execution_count": 52,
   "metadata": {
    "colab": {
     "base_uri": "https://localhost:8080/",
     "height": 109
    },
    "id": "4gw8bFVKBoQJ",
    "outputId": "094d80be-6c88-4b01-b089-116c94aa6fd7"
   },
   "outputs": [
    {
     "data": {
      "text/html": [
       "<div>\n",
       "<style scoped>\n",
       "    .dataframe tbody tr th:only-of-type {\n",
       "        vertical-align: middle;\n",
       "    }\n",
       "\n",
       "    .dataframe tbody tr th {\n",
       "        vertical-align: top;\n",
       "    }\n",
       "\n",
       "    .dataframe thead th {\n",
       "        text-align: right;\n",
       "    }\n",
       "</style>\n",
       "<table border=\"1\" class=\"dataframe\">\n",
       "  <thead>\n",
       "    <tr style=\"text-align: right;\">\n",
       "      <th></th>\n",
       "      <th>review</th>\n",
       "      <th>Ori_index</th>\n",
       "      <th>price_aspect</th>\n",
       "      <th>neu_price</th>\n",
       "      <th>neg_price</th>\n",
       "      <th>pos_price</th>\n",
       "    </tr>\n",
       "  </thead>\n",
       "  <tbody>\n",
       "    <tr>\n",
       "      <th>0</th>\n",
       "      <td>this was a good buy great shampoo and conditio...</td>\n",
       "      <td>0</td>\n",
       "      <td>0.0</td>\n",
       "      <td>NaN</td>\n",
       "      <td>NaN</td>\n",
       "      <td>NaN</td>\n",
       "    </tr>\n",
       "    <tr>\n",
       "      <th>1</th>\n",
       "      <td>i have used kms in the past and always loved t...</td>\n",
       "      <td>1</td>\n",
       "      <td>0.0</td>\n",
       "      <td>NaN</td>\n",
       "      <td>NaN</td>\n",
       "      <td>NaN</td>\n",
       "    </tr>\n",
       "  </tbody>\n",
       "</table>\n",
       "</div>"
      ],
      "text/plain": [
       "                                              review  ...  pos_price\n",
       "0  this was a good buy great shampoo and conditio...  ...        NaN\n",
       "1  i have used kms in the past and always loved t...  ...        NaN\n",
       "\n",
       "[2 rows x 6 columns]"
      ]
     },
     "execution_count": 52,
     "metadata": {
      "tags": []
     },
     "output_type": "execute_result"
    }
   ],
   "source": [
    "path7= '/content/drive/MyDrive/5153/review_sentiment_aspect_price13000_.csv'\n",
    "df_price2 = pd.read_csv(path7)\n",
    "df_price2.iloc[:2]"
   ]
  },
  {
   "cell_type": "code",
   "execution_count": 55,
   "metadata": {
    "id": "gm6cb_WSB0DB"
   },
   "outputs": [],
   "source": [
    "for idx in price_idx[13000:]:\n",
    "  df_price.loc[idx, 'neu_price'] = df_price2.loc[idx, 'neu_price']\n",
    "  df_price.loc[idx, 'neg_price'] = df_price2.loc[idx, 'neg_price']\n",
    "  df_price.loc[idx, 'pos_price'] = df_price2.loc[idx, 'pos_price']"
   ]
  },
  {
   "cell_type": "code",
   "execution_count": 58,
   "metadata": {
    "colab": {
     "base_uri": "https://localhost:8080/"
    },
    "id": "bjWA06GxBz9v",
    "outputId": "248988c0-cb14-4a35-afdf-77adbe229b6c"
   },
   "outputs": [
    {
     "data": {
      "text/plain": [
       "0"
      ]
     },
     "execution_count": 58,
     "metadata": {
      "tags": []
     },
     "output_type": "execute_result"
    }
   ],
   "source": [
    "sum(df_price.isnull().any())"
   ]
  },
  {
   "cell_type": "code",
   "execution_count": 60,
   "metadata": {
    "colab": {
     "base_uri": "https://localhost:8080/"
    },
    "id": "PE_bvTpsCRz1",
    "outputId": "6ac29d4e-72b6-49ea-fcf0-a2089b27baeb"
   },
   "outputs": [
    {
     "data": {
      "text/plain": [
       "17377"
      ]
     },
     "execution_count": 60,
     "metadata": {
      "tags": []
     },
     "output_type": "execute_result"
    }
   ],
   "source": [
    "len(df_price[df_price.pos_price!=0])"
   ]
  },
  {
   "cell_type": "code",
   "execution_count": 63,
   "metadata": {
    "colab": {
     "base_uri": "https://localhost:8080/"
    },
    "id": "7np25Vfdm-xI",
    "outputId": "8fb61768-da7a-4a95-997a-bf517ce79e53"
   },
   "outputs": [
    {
     "data": {
      "text/plain": [
       "Index(['asin', 'review_x', 'overall', 'helpful', 'summary', 'unixReviewTime',\n",
       "       'reviewTime', 'reviewerID', 'title', 'brand', 'price', 'salesRank',\n",
       "       'polarity_score', 'neutral_score', 'negative_score', 'positive_score',\n",
       "       'neu_delivery', 'neg_delivery', 'pos_delivery', 'neu_shipment',\n",
       "       'neg_shipment', 'pos_shipment', 'review_len', 'neu_return_policy',\n",
       "       'neg_return_policy', 'pos_return_policy', 'neu_exchange',\n",
       "       'neg_exchange', 'pos_exchange', 'neu_service', 'neg_service',\n",
       "       'pos_service', 'neu_support', 'neg_support', 'pos_support', 'neu_pack',\n",
       "       'neg_pack', 'pos_pack', 'neu_package', 'neg_package', 'pos_package',\n",
       "       'review_y', 'Ori_index', 'price_aspect', 'neu_price', 'neg_price',\n",
       "       'pos_price'],\n",
       "      dtype='object')"
      ]
     },
     "execution_count": 63,
     "metadata": {
      "tags": []
     },
     "output_type": "execute_result"
    }
   ],
   "source": [
    "#merge the current df_price to df \n",
    "#merge full price aspects with all other aspects\n",
    "df =df.merge (df_price, left_index=True, right_on = 'Ori_index')\n",
    "df.columns"
   ]
  },
  {
   "cell_type": "code",
   "execution_count": 64,
   "metadata": {
    "colab": {
     "base_uri": "https://localhost:8080/",
     "height": 316
    },
    "id": "1rSH_E2eCuBF",
    "outputId": "cf98ab40-d712-4c1d-fd6d-5be6121b9ae5"
   },
   "outputs": [
    {
     "data": {
      "text/html": [
       "<div>\n",
       "<style scoped>\n",
       "    .dataframe tbody tr th:only-of-type {\n",
       "        vertical-align: middle;\n",
       "    }\n",
       "\n",
       "    .dataframe tbody tr th {\n",
       "        vertical-align: top;\n",
       "    }\n",
       "\n",
       "    .dataframe thead th {\n",
       "        text-align: right;\n",
       "    }\n",
       "</style>\n",
       "<table border=\"1\" class=\"dataframe\">\n",
       "  <thead>\n",
       "    <tr style=\"text-align: right;\">\n",
       "      <th></th>\n",
       "      <th>asin</th>\n",
       "      <th>review_x</th>\n",
       "      <th>overall</th>\n",
       "      <th>helpful</th>\n",
       "      <th>summary</th>\n",
       "      <th>unixReviewTime</th>\n",
       "      <th>reviewTime</th>\n",
       "      <th>reviewerID</th>\n",
       "      <th>title</th>\n",
       "      <th>brand</th>\n",
       "      <th>price</th>\n",
       "      <th>salesRank</th>\n",
       "      <th>polarity_score</th>\n",
       "      <th>neutral_score</th>\n",
       "      <th>negative_score</th>\n",
       "      <th>positive_score</th>\n",
       "      <th>neu_delivery</th>\n",
       "      <th>neg_delivery</th>\n",
       "      <th>pos_delivery</th>\n",
       "      <th>neu_shipment</th>\n",
       "      <th>neg_shipment</th>\n",
       "      <th>pos_shipment</th>\n",
       "      <th>review_len</th>\n",
       "      <th>neu_return_policy</th>\n",
       "      <th>neg_return_policy</th>\n",
       "      <th>pos_return_policy</th>\n",
       "      <th>neu_exchange</th>\n",
       "      <th>neg_exchange</th>\n",
       "      <th>pos_exchange</th>\n",
       "      <th>neu_service</th>\n",
       "      <th>neg_service</th>\n",
       "      <th>pos_service</th>\n",
       "      <th>neu_support</th>\n",
       "      <th>neg_support</th>\n",
       "      <th>pos_support</th>\n",
       "      <th>neu_pack</th>\n",
       "      <th>neg_pack</th>\n",
       "      <th>pos_pack</th>\n",
       "      <th>neu_package</th>\n",
       "      <th>neg_package</th>\n",
       "      <th>pos_package</th>\n",
       "      <th>neu_price</th>\n",
       "      <th>neg_price</th>\n",
       "      <th>pos_price</th>\n",
       "    </tr>\n",
       "  </thead>\n",
       "  <tbody>\n",
       "    <tr>\n",
       "      <th>0</th>\n",
       "      <td>1929099886</td>\n",
       "      <td>this was a good buy great shampoo and conditio...</td>\n",
       "      <td>4.0</td>\n",
       "      <td>[0, 0]</td>\n",
       "      <td>good shampoo and conditioner</td>\n",
       "      <td>1355011200</td>\n",
       "      <td>12 9, 2012</td>\n",
       "      <td>A2BQ8DVGEGWAFY</td>\n",
       "      <td>bumble and bumble quenching shampoo and condit...</td>\n",
       "      <td>0</td>\n",
       "      <td>62.99</td>\n",
       "      <td>83112</td>\n",
       "      <td>0.7783</td>\n",
       "      <td>0.737</td>\n",
       "      <td>0.038</td>\n",
       "      <td>0.224</td>\n",
       "      <td>0.0</td>\n",
       "      <td>0.0</td>\n",
       "      <td>0.0</td>\n",
       "      <td>0.0</td>\n",
       "      <td>0.0</td>\n",
       "      <td>0.0</td>\n",
       "      <td>144</td>\n",
       "      <td>0.0</td>\n",
       "      <td>0.0</td>\n",
       "      <td>0.0</td>\n",
       "      <td>0.0</td>\n",
       "      <td>0.0</td>\n",
       "      <td>0.0</td>\n",
       "      <td>0.0</td>\n",
       "      <td>0.0</td>\n",
       "      <td>0.0</td>\n",
       "      <td>0.0</td>\n",
       "      <td>0.0</td>\n",
       "      <td>0.0</td>\n",
       "      <td>0.0</td>\n",
       "      <td>0.0</td>\n",
       "      <td>0.0</td>\n",
       "      <td>0.0</td>\n",
       "      <td>0.0</td>\n",
       "      <td>0.0</td>\n",
       "      <td>0.0</td>\n",
       "      <td>0.0</td>\n",
       "      <td>0.0</td>\n",
       "    </tr>\n",
       "    <tr>\n",
       "      <th>1</th>\n",
       "      <td>5357954771</td>\n",
       "      <td>i have used kms in the past and always loved t...</td>\n",
       "      <td>3.0</td>\n",
       "      <td>[0, 0]</td>\n",
       "      <td>not too impressed</td>\n",
       "      <td>1376352000</td>\n",
       "      <td>08 13, 2013</td>\n",
       "      <td>A2Z9QP4MZ2HXCZ</td>\n",
       "      <td>moisture repair conditioner by kms for unisex ...</td>\n",
       "      <td>KMS</td>\n",
       "      <td>10.79</td>\n",
       "      <td>108278</td>\n",
       "      <td>0.1546</td>\n",
       "      <td>0.699</td>\n",
       "      <td>0.158</td>\n",
       "      <td>0.143</td>\n",
       "      <td>0.0</td>\n",
       "      <td>0.0</td>\n",
       "      <td>0.0</td>\n",
       "      <td>0.0</td>\n",
       "      <td>0.0</td>\n",
       "      <td>0.0</td>\n",
       "      <td>110</td>\n",
       "      <td>0.0</td>\n",
       "      <td>0.0</td>\n",
       "      <td>0.0</td>\n",
       "      <td>0.0</td>\n",
       "      <td>0.0</td>\n",
       "      <td>0.0</td>\n",
       "      <td>0.0</td>\n",
       "      <td>0.0</td>\n",
       "      <td>0.0</td>\n",
       "      <td>0.0</td>\n",
       "      <td>0.0</td>\n",
       "      <td>0.0</td>\n",
       "      <td>0.0</td>\n",
       "      <td>0.0</td>\n",
       "      <td>0.0</td>\n",
       "      <td>0.0</td>\n",
       "      <td>0.0</td>\n",
       "      <td>0.0</td>\n",
       "      <td>0.0</td>\n",
       "      <td>0.0</td>\n",
       "      <td>0.0</td>\n",
       "    </tr>\n",
       "  </tbody>\n",
       "</table>\n",
       "</div>"
      ],
      "text/plain": [
       "         asin  ... pos_price\n",
       "0  1929099886  ...       0.0\n",
       "1  5357954771  ...       0.0\n",
       "\n",
       "[2 rows x 44 columns]"
      ]
     },
     "execution_count": 64,
     "metadata": {
      "tags": []
     },
     "output_type": "execute_result"
    }
   ],
   "source": [
    "df.drop(['review_y', 'Ori_index', 'price_aspect'], axis=1, inplace=True)\n",
    "df.iloc[:2]"
   ]
  },
  {
   "cell_type": "code",
   "execution_count": 65,
   "metadata": {
    "colab": {
     "base_uri": "https://localhost:8080/",
     "height": 316
    },
    "id": "WshlLv75DDtN",
    "outputId": "1b103727-4ddf-4320-aa08-3b378215e4e7"
   },
   "outputs": [
    {
     "data": {
      "text/html": [
       "<div>\n",
       "<style scoped>\n",
       "    .dataframe tbody tr th:only-of-type {\n",
       "        vertical-align: middle;\n",
       "    }\n",
       "\n",
       "    .dataframe tbody tr th {\n",
       "        vertical-align: top;\n",
       "    }\n",
       "\n",
       "    .dataframe thead th {\n",
       "        text-align: right;\n",
       "    }\n",
       "</style>\n",
       "<table border=\"1\" class=\"dataframe\">\n",
       "  <thead>\n",
       "    <tr style=\"text-align: right;\">\n",
       "      <th></th>\n",
       "      <th>asin</th>\n",
       "      <th>review</th>\n",
       "      <th>overall</th>\n",
       "      <th>helpful</th>\n",
       "      <th>summary</th>\n",
       "      <th>unixReviewTime</th>\n",
       "      <th>reviewTime</th>\n",
       "      <th>reviewerID</th>\n",
       "      <th>title</th>\n",
       "      <th>brand</th>\n",
       "      <th>price</th>\n",
       "      <th>salesRank</th>\n",
       "      <th>polarity_score</th>\n",
       "      <th>neutral_score</th>\n",
       "      <th>negative_score</th>\n",
       "      <th>positive_score</th>\n",
       "      <th>neu_delivery</th>\n",
       "      <th>neg_delivery</th>\n",
       "      <th>pos_delivery</th>\n",
       "      <th>neu_shipment</th>\n",
       "      <th>neg_shipment</th>\n",
       "      <th>pos_shipment</th>\n",
       "      <th>review_len</th>\n",
       "      <th>neu_return_policy</th>\n",
       "      <th>neg_return_policy</th>\n",
       "      <th>pos_return_policy</th>\n",
       "      <th>neu_exchange</th>\n",
       "      <th>neg_exchange</th>\n",
       "      <th>pos_exchange</th>\n",
       "      <th>neu_service</th>\n",
       "      <th>neg_service</th>\n",
       "      <th>pos_service</th>\n",
       "      <th>neu_support</th>\n",
       "      <th>neg_support</th>\n",
       "      <th>pos_support</th>\n",
       "      <th>neu_pack</th>\n",
       "      <th>neg_pack</th>\n",
       "      <th>pos_pack</th>\n",
       "      <th>neu_package</th>\n",
       "      <th>neg_package</th>\n",
       "      <th>pos_package</th>\n",
       "      <th>neu_price</th>\n",
       "      <th>neg_price</th>\n",
       "      <th>pos_price</th>\n",
       "    </tr>\n",
       "  </thead>\n",
       "  <tbody>\n",
       "    <tr>\n",
       "      <th>0</th>\n",
       "      <td>1929099886</td>\n",
       "      <td>this was a good buy great shampoo and conditio...</td>\n",
       "      <td>4.0</td>\n",
       "      <td>[0, 0]</td>\n",
       "      <td>good shampoo and conditioner</td>\n",
       "      <td>1355011200</td>\n",
       "      <td>12 9, 2012</td>\n",
       "      <td>A2BQ8DVGEGWAFY</td>\n",
       "      <td>bumble and bumble quenching shampoo and condit...</td>\n",
       "      <td>0</td>\n",
       "      <td>62.99</td>\n",
       "      <td>83112</td>\n",
       "      <td>0.7783</td>\n",
       "      <td>0.737</td>\n",
       "      <td>0.038</td>\n",
       "      <td>0.224</td>\n",
       "      <td>0.0</td>\n",
       "      <td>0.0</td>\n",
       "      <td>0.0</td>\n",
       "      <td>0.0</td>\n",
       "      <td>0.0</td>\n",
       "      <td>0.0</td>\n",
       "      <td>144</td>\n",
       "      <td>0.0</td>\n",
       "      <td>0.0</td>\n",
       "      <td>0.0</td>\n",
       "      <td>0.0</td>\n",
       "      <td>0.0</td>\n",
       "      <td>0.0</td>\n",
       "      <td>0.0</td>\n",
       "      <td>0.0</td>\n",
       "      <td>0.0</td>\n",
       "      <td>0.0</td>\n",
       "      <td>0.0</td>\n",
       "      <td>0.0</td>\n",
       "      <td>0.0</td>\n",
       "      <td>0.0</td>\n",
       "      <td>0.0</td>\n",
       "      <td>0.0</td>\n",
       "      <td>0.0</td>\n",
       "      <td>0.0</td>\n",
       "      <td>0.0</td>\n",
       "      <td>0.0</td>\n",
       "      <td>0.0</td>\n",
       "    </tr>\n",
       "    <tr>\n",
       "      <th>1</th>\n",
       "      <td>5357954771</td>\n",
       "      <td>i have used kms in the past and always loved t...</td>\n",
       "      <td>3.0</td>\n",
       "      <td>[0, 0]</td>\n",
       "      <td>not too impressed</td>\n",
       "      <td>1376352000</td>\n",
       "      <td>08 13, 2013</td>\n",
       "      <td>A2Z9QP4MZ2HXCZ</td>\n",
       "      <td>moisture repair conditioner by kms for unisex ...</td>\n",
       "      <td>KMS</td>\n",
       "      <td>10.79</td>\n",
       "      <td>108278</td>\n",
       "      <td>0.1546</td>\n",
       "      <td>0.699</td>\n",
       "      <td>0.158</td>\n",
       "      <td>0.143</td>\n",
       "      <td>0.0</td>\n",
       "      <td>0.0</td>\n",
       "      <td>0.0</td>\n",
       "      <td>0.0</td>\n",
       "      <td>0.0</td>\n",
       "      <td>0.0</td>\n",
       "      <td>110</td>\n",
       "      <td>0.0</td>\n",
       "      <td>0.0</td>\n",
       "      <td>0.0</td>\n",
       "      <td>0.0</td>\n",
       "      <td>0.0</td>\n",
       "      <td>0.0</td>\n",
       "      <td>0.0</td>\n",
       "      <td>0.0</td>\n",
       "      <td>0.0</td>\n",
       "      <td>0.0</td>\n",
       "      <td>0.0</td>\n",
       "      <td>0.0</td>\n",
       "      <td>0.0</td>\n",
       "      <td>0.0</td>\n",
       "      <td>0.0</td>\n",
       "      <td>0.0</td>\n",
       "      <td>0.0</td>\n",
       "      <td>0.0</td>\n",
       "      <td>0.0</td>\n",
       "      <td>0.0</td>\n",
       "      <td>0.0</td>\n",
       "    </tr>\n",
       "  </tbody>\n",
       "</table>\n",
       "</div>"
      ],
      "text/plain": [
       "         asin  ... pos_price\n",
       "0  1929099886  ...       0.0\n",
       "1  5357954771  ...       0.0\n",
       "\n",
       "[2 rows x 44 columns]"
      ]
     },
     "execution_count": 65,
     "metadata": {
      "tags": []
     },
     "output_type": "execute_result"
    }
   ],
   "source": [
    "df = df.rename (columns ={'review_x':'review'})\n",
    "df.iloc[:2]"
   ]
  },
  {
   "cell_type": "code",
   "execution_count": 66,
   "metadata": {
    "colab": {
     "base_uri": "https://localhost:8080/",
     "height": 354
    },
    "id": "mzMVFlsAogja",
    "outputId": "da029002-c0b4-48c6-9bd0-eba530e3743a"
   },
   "outputs": [
    {
     "data": {
      "text/plain": [
       "(array([ 2171.,  3173.,  3572.,  3894.,  6586.,  4440.,  7485., 12426.,\n",
       "        25435., 63977.]),\n",
       " array([-0.9963 , -0.79668, -0.59706, -0.39744, -0.19782,  0.0018 ,\n",
       "         0.20142,  0.40104,  0.60066,  0.80028,  0.9999 ]),\n",
       " <a list of 10 Patch objects>)"
      ]
     },
     "execution_count": 66,
     "metadata": {
      "tags": []
     },
     "output_type": "execute_result"
    },
    {
     "data": {
      "image/png": "[encoded data removed]",
      "text/plain": [
       "<Figure size 432x288 with 1 Axes>"
      ]
     },
     "metadata": {
      "needs_background": "light",
      "tags": []
     },
     "output_type": "display_data"
    }
   ],
   "source": [
    "import matplotlib.pyplot as plt\n",
    "plt.hist(df.polarity_score) #-1 to 1"
   ]
  },
  {
   "cell_type": "code",
   "execution_count": 69,
   "metadata": {
    "colab": {
     "base_uri": "https://localhost:8080/",
     "height": 17
    },
    "id": "hyeU9qchp8Nc",
    "outputId": "cd53bd2a-3da7-455b-c494-9d0a4d67c207"
   },
   "outputs": [
    {
     "data": {
      "application/javascript": [
       "\n",
       "    async function download(id, filename, size) {\n",
       "      if (!google.colab.kernel.accessAllowed) {\n",
       "        return;\n",
       "      }\n",
       "      const div = document.createElement('div');\n",
       "      const label = document.createElement('label');\n",
       "      label.textContent = `Downloading \"${filename}\": `;\n",
       "      div.appendChild(label);\n",
       "      const progress = document.createElement('progress');\n",
       "      progress.max = size;\n",
       "      div.appendChild(progress);\n",
       "      document.body.appendChild(div);\n",
       "\n",
       "      const buffers = [];\n",
       "      let downloaded = 0;\n",
       "\n",
       "      const channel = await google.colab.kernel.comms.open(id);\n",
       "      // Send a message to notify the kernel that we're ready.\n",
       "      channel.send({})\n",
       "\n",
       "      for await (const message of channel.messages) {\n",
       "        // Send a message to notify the kernel that we're ready.\n",
       "        channel.send({})\n",
       "        if (message.buffers) {\n",
       "          for (const buffer of message.buffers) {\n",
       "            buffers.push(buffer);\n",
       "            downloaded += buffer.byteLength;\n",
       "            progress.value = downloaded;\n",
       "          }\n",
       "        }\n",
       "      }\n",
       "      const blob = new Blob(buffers, {type: 'application/binary'});\n",
       "      const a = document.createElement('a');\n",
       "      a.href = window.URL.createObjectURL(blob);\n",
       "      a.download = filename;\n",
       "      div.appendChild(a);\n",
       "      a.click();\n",
       "      div.remove();\n",
       "    }\n",
       "  "
      ],
      "text/plain": [
       "<IPython.core.display.Javascript object>"
      ]
     },
     "metadata": {
      "tags": []
     },
     "output_type": "display_data"
    },
    {
     "data": {
      "application/javascript": [
       "download(\"download_807ef4b5-6e2d-4c78-8820-791fa9bf077a\", \"meta_and_review_sentiment_delivery_customer_package_price.csv\", 94164703)"
      ],
      "text/plain": [
       "<IPython.core.display.Javascript object>"
      ]
     },
     "metadata": {
      "tags": []
     },
     "output_type": "display_data"
    }
   ],
   "source": [
    "df.to_csv('meta_and_review_sentiment_delivery_customer_package_price.csv', index=None)\n",
    "files.download('meta_and_review_sentiment_delivery_customer_package_price.csv')"
   ]
  },
  {
   "cell_type": "code",
   "execution_count": 71,
   "metadata": {
    "colab": {
     "base_uri": "https://localhost:8080/",
     "height": 316
    },
    "id": "Eq9hkfVSDhen",
    "outputId": "408f093a-2faa-4894-c200-d19175f93460"
   },
   "outputs": [
    {
     "data": {
      "text/html": [
       "<div>\n",
       "<style scoped>\n",
       "    .dataframe tbody tr th:only-of-type {\n",
       "        vertical-align: middle;\n",
       "    }\n",
       "\n",
       "    .dataframe tbody tr th {\n",
       "        vertical-align: top;\n",
       "    }\n",
       "\n",
       "    .dataframe thead th {\n",
       "        text-align: right;\n",
       "    }\n",
       "</style>\n",
       "<table border=\"1\" class=\"dataframe\">\n",
       "  <thead>\n",
       "    <tr style=\"text-align: right;\">\n",
       "      <th></th>\n",
       "      <th>asin</th>\n",
       "      <th>review</th>\n",
       "      <th>overall</th>\n",
       "      <th>helpful</th>\n",
       "      <th>summary</th>\n",
       "      <th>unixReviewTime</th>\n",
       "      <th>reviewTime</th>\n",
       "      <th>reviewerID</th>\n",
       "      <th>title</th>\n",
       "      <th>brand</th>\n",
       "      <th>price</th>\n",
       "      <th>salesRank</th>\n",
       "      <th>polarity_score</th>\n",
       "      <th>neutral_score</th>\n",
       "      <th>negative_score</th>\n",
       "      <th>positive_score</th>\n",
       "      <th>neu_delivery</th>\n",
       "      <th>neg_delivery</th>\n",
       "      <th>pos_delivery</th>\n",
       "      <th>neu_shipment</th>\n",
       "      <th>neg_shipment</th>\n",
       "      <th>pos_shipment</th>\n",
       "      <th>review_len</th>\n",
       "      <th>neu_return_policy</th>\n",
       "      <th>neg_return_policy</th>\n",
       "      <th>pos_return_policy</th>\n",
       "      <th>neu_exchange</th>\n",
       "      <th>neg_exchange</th>\n",
       "      <th>pos_exchange</th>\n",
       "      <th>neu_service</th>\n",
       "      <th>neg_service</th>\n",
       "      <th>pos_service</th>\n",
       "      <th>neu_support</th>\n",
       "      <th>neg_support</th>\n",
       "      <th>pos_support</th>\n",
       "      <th>neu_pack</th>\n",
       "      <th>neg_pack</th>\n",
       "      <th>pos_pack</th>\n",
       "      <th>neu_package</th>\n",
       "      <th>neg_package</th>\n",
       "      <th>pos_package</th>\n",
       "      <th>neu_price</th>\n",
       "      <th>neg_price</th>\n",
       "      <th>pos_price</th>\n",
       "    </tr>\n",
       "  </thead>\n",
       "  <tbody>\n",
       "    <tr>\n",
       "      <th>0</th>\n",
       "      <td>1929099886</td>\n",
       "      <td>this was a good buy great shampoo and conditio...</td>\n",
       "      <td>4.0</td>\n",
       "      <td>[0, 0]</td>\n",
       "      <td>good shampoo and conditioner</td>\n",
       "      <td>1355011200</td>\n",
       "      <td>12 9, 2012</td>\n",
       "      <td>A2BQ8DVGEGWAFY</td>\n",
       "      <td>bumble and bumble quenching shampoo and condit...</td>\n",
       "      <td>0</td>\n",
       "      <td>62.99</td>\n",
       "      <td>83112</td>\n",
       "      <td>0.7783</td>\n",
       "      <td>0.737</td>\n",
       "      <td>-0.038</td>\n",
       "      <td>0.224</td>\n",
       "      <td>0.0</td>\n",
       "      <td>-0.0</td>\n",
       "      <td>0.0</td>\n",
       "      <td>0.0</td>\n",
       "      <td>-0.0</td>\n",
       "      <td>0.0</td>\n",
       "      <td>144</td>\n",
       "      <td>0.0</td>\n",
       "      <td>-0.0</td>\n",
       "      <td>0.0</td>\n",
       "      <td>0.0</td>\n",
       "      <td>-0.0</td>\n",
       "      <td>0.0</td>\n",
       "      <td>0.0</td>\n",
       "      <td>-0.0</td>\n",
       "      <td>0.0</td>\n",
       "      <td>0.0</td>\n",
       "      <td>-0.0</td>\n",
       "      <td>0.0</td>\n",
       "      <td>0.0</td>\n",
       "      <td>-0.0</td>\n",
       "      <td>0.0</td>\n",
       "      <td>0.0</td>\n",
       "      <td>-0.0</td>\n",
       "      <td>0.0</td>\n",
       "      <td>0.0</td>\n",
       "      <td>-0.0</td>\n",
       "      <td>0.0</td>\n",
       "    </tr>\n",
       "    <tr>\n",
       "      <th>1</th>\n",
       "      <td>5357954771</td>\n",
       "      <td>i have used kms in the past and always loved t...</td>\n",
       "      <td>3.0</td>\n",
       "      <td>[0, 0]</td>\n",
       "      <td>not too impressed</td>\n",
       "      <td>1376352000</td>\n",
       "      <td>08 13, 2013</td>\n",
       "      <td>A2Z9QP4MZ2HXCZ</td>\n",
       "      <td>moisture repair conditioner by kms for unisex ...</td>\n",
       "      <td>KMS</td>\n",
       "      <td>10.79</td>\n",
       "      <td>108278</td>\n",
       "      <td>0.1546</td>\n",
       "      <td>0.699</td>\n",
       "      <td>-0.158</td>\n",
       "      <td>0.143</td>\n",
       "      <td>0.0</td>\n",
       "      <td>-0.0</td>\n",
       "      <td>0.0</td>\n",
       "      <td>0.0</td>\n",
       "      <td>-0.0</td>\n",
       "      <td>0.0</td>\n",
       "      <td>110</td>\n",
       "      <td>0.0</td>\n",
       "      <td>-0.0</td>\n",
       "      <td>0.0</td>\n",
       "      <td>0.0</td>\n",
       "      <td>-0.0</td>\n",
       "      <td>0.0</td>\n",
       "      <td>0.0</td>\n",
       "      <td>-0.0</td>\n",
       "      <td>0.0</td>\n",
       "      <td>0.0</td>\n",
       "      <td>-0.0</td>\n",
       "      <td>0.0</td>\n",
       "      <td>0.0</td>\n",
       "      <td>-0.0</td>\n",
       "      <td>0.0</td>\n",
       "      <td>0.0</td>\n",
       "      <td>-0.0</td>\n",
       "      <td>0.0</td>\n",
       "      <td>0.0</td>\n",
       "      <td>-0.0</td>\n",
       "      <td>0.0</td>\n",
       "    </tr>\n",
       "  </tbody>\n",
       "</table>\n",
       "</div>"
      ],
      "text/plain": [
       "         asin  ... pos_price\n",
       "0  1929099886  ...       0.0\n",
       "1  5357954771  ...       0.0\n",
       "\n",
       "[2 rows x 44 columns]"
      ]
     },
     "execution_count": 71,
     "metadata": {
      "tags": []
     },
     "output_type": "execute_result"
    }
   ],
   "source": [
    "pd.read_csv('meta_and_review_sentiment_delivery_customer_package_price.csv').iloc[:2]"
   ]
  },
  {
   "cell_type": "code",
   "execution_count": null,
   "metadata": {
    "id": "Tlkdm-XyIiIu"
   },
   "outputs": [],
   "source": []
  }
 ],
 "metadata": {
  "colab": {
   "name": "5153 Aspect based sentiment analysis full",
   "provenance": [],
   "toc_visible": true
  },
  "kernelspec": {
   "display_name": "Python 3",
   "language": "python",
   "name": "python3"
  },
  "language_info": {
   "codemirror_mode": {
    "name": "ipython",
    "version": 3
   },
   "file_extension": ".py",
   "mimetype": "text/x-python",
   "name": "python",
   "nbconvert_exporter": "python",
   "pygments_lexer": "ipython3",
   "version": "3.6.4"
  }
 },
 "nbformat": 4,
 "nbformat_minor": 1
}
