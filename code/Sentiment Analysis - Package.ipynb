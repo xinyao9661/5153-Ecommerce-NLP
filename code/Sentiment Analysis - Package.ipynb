{
 "cells": [
  {
   "cell_type": "code",
   "execution_count": null,
   "metadata": {
    "id": "6-T_vFCNPz8z"
   },
   "outputs": [],
   "source": [
    "pip install aspect-based-sentiment-analysis"
   ]
  },
  {
   "cell_type": "code",
   "execution_count": null,
   "metadata": {
    "id": "tep4o-D1i_uX"
   },
   "outputs": [],
   "source": [
    "import aspect_based_sentiment_analysis as absa\n",
    "\n",
    "nlp = absa.load()"
   ]
  },
  {
   "cell_type": "code",
   "execution_count": null,
   "metadata": {
    "id": "KXibYCY1lndB"
   },
   "outputs": [],
   "source": [
    "import warnings\n",
    "warnings.filterwarnings(\"ignore\")\n",
    "from google.colab import files\n",
    "import numpy as np \n",
    "import pandas as pd"
   ]
  },
  {
   "cell_type": "markdown",
   "metadata": {
    "id": "eCL3EyQhHBuc"
   },
   "source": [
    "# Sentiment - Packaging "
   ]
  },
  {
   "cell_type": "code",
   "execution_count": null,
   "metadata": {
    "id": "3E3_p5rT4x_-"
   },
   "outputs": [],
   "source": [
    "path2 = '/content/drive/MyDrive/5153/meta_and_review_sentiment_aspect_delivery_cs.csv'\n",
    "df = pd.read_csv(path2)"
   ]
  },
  {
   "cell_type": "code",
   "execution_count": null,
   "metadata": {
    "colab": {
     "base_uri": "https://localhost:8080/"
    },
    "id": "ydIOu_Th4x9M",
    "outputId": "4b0fa4c6-6a6f-4bbd-d7f4-699a624ec530"
   },
   "outputs": [
    {
     "data": {
      "text/plain": [
       "(133159, 39)"
      ]
     },
     "execution_count": 20,
     "metadata": {
      "tags": []
     },
     "output_type": "execute_result"
    }
   ],
   "source": [
    "df.shape"
   ]
  },
  {
   "cell_type": "code",
   "execution_count": null,
   "metadata": {
    "colab": {
     "base_uri": "https://localhost:8080/"
    },
    "id": "Bqwvr9cR0W19",
    "outputId": "3cf74309-86f6-4853-867b-8534cf91ac71"
   },
   "outputs": [
    {
     "data": {
      "text/plain": [
       "Index(['Unnamed: 0', 'asin', 'review_x', 'overall', 'helpful', 'summary',\n",
       "       'unixReviewTime', 'reviewTime', 'reviewerID', 'title', 'brand', 'price',\n",
       "       'salesRank', 'polarity_score', 'neutral_score', 'negative_score',\n",
       "       'positive_score', 'neu_delivery', 'neg_delivery', 'pos_delivery',\n",
       "       'neu_shipment', 'neg_shipment', 'pos_shipment', 'review_len',\n",
       "       'review_y', 'Ori_index', 'customer_aspect', 'neu_return_policy',\n",
       "       'neg_return_policy', 'pos_return_policy', 'neu_exchange',\n",
       "       'neg_exchange', 'pos_exchange', 'neu_service', 'neg_service',\n",
       "       'pos_service', 'neu_support', 'neg_support', 'pos_support'],\n",
       "      dtype='object')"
      ]
     },
     "execution_count": 21,
     "metadata": {
      "tags": []
     },
     "output_type": "execute_result"
    }
   ],
   "source": [
    "df.columns\n",
    "#delivery customer"
   ]
  },
  {
   "cell_type": "code",
   "execution_count": null,
   "metadata": {
    "colab": {
     "base_uri": "https://localhost:8080/"
    },
    "id": "1mj19_tw4x6R",
    "outputId": "9d3903ca-442e-4cfe-cd4c-dd02a170397f"
   },
   "outputs": [
    {
     "data": {
      "text/plain": [
       "(133159, 2)"
      ]
     },
     "execution_count": 7,
     "metadata": {
      "tags": []
     },
     "output_type": "execute_result"
    }
   ],
   "source": [
    "text_df = df[['review']]\n",
    "text_df['Ori_index'] = text_df.index\n",
    "text_df.shape"
   ]
  },
  {
   "cell_type": "code",
   "execution_count": null,
   "metadata": {
    "colab": {
     "base_uri": "https://localhost:8080/"
    },
    "id": "k-ouKAoyHENi",
    "outputId": "081c06aa-02e2-4383-99d5-687a4f6f4fdd"
   },
   "outputs": [
    {
     "data": {
      "text/plain": [
       "0"
      ]
     },
     "execution_count": 8,
     "metadata": {
      "tags": []
     },
     "output_type": "execute_result"
    }
   ],
   "source": [
    "sum(text_df.review.isnull())"
   ]
  },
  {
   "cell_type": "markdown",
   "metadata": {},
   "source": [
    "### filter reviews with package aspect"
   ]
  },
  {
   "cell_type": "code",
   "execution_count": null,
   "metadata": {
    "id": "M6nzRHvW5Eop"
   },
   "outputs": [],
   "source": [
    "package_aspect = ['package', 'packaging', \n",
    "                   'wrapping', 'pack']"
   ]
  },
  {
   "cell_type": "code",
   "execution_count": null,
   "metadata": {
    "id": "n4C8456C5EmC"
   },
   "outputs": [],
   "source": [
    "#check condition; more likely to be hair condition, scalp condition and so on\n",
    "import re\n",
    "pattern = r'\\bcondition\\b'\n",
    "with pd.option_context ('display.max_colwidth', None):\n",
    "  display (text_df[text_df.review.apply(lambda x: 1 if re.findall(pattern,x) else 0)==1].review)"
   ]
  },
  {
   "cell_type": "code",
   "execution_count": null,
   "metadata": {
    "id": "R-Pyhz7B9FLi"
   },
   "outputs": [],
   "source": [
    "#check cs (for customer service aspect) #only less than 10 \n",
    "import re\n",
    "pattern = r'\\bcs\\b'\n",
    "with pd.option_context ('display.max_colwidth', None):\n",
    "  display (text_df[text_df.review.apply(lambda x: 1 if re.findall(pattern,x) else 0)==1].review)"
   ]
  },
  {
   "cell_type": "code",
   "execution_count": null,
   "metadata": {
    "id": "jmdvGBYT9rbu"
   },
   "outputs": [],
   "source": [
    "text_df.loc[text_df['review'].str.contains('package|packaging|wrapping|pack',regex=True), 'package_aspect'] = 1\n",
    "text_df.package_aspect.fillna(0, inplace=True)"
   ]
  },
  {
   "cell_type": "code",
   "execution_count": null,
   "metadata": {
    "colab": {
     "base_uri": "https://localhost:8080/"
    },
    "id": "3pIp-EHS9rZR",
    "outputId": "8cae6328-82d0-4e04-a978-b54b1517aac9"
   },
   "outputs": [
    {
     "data": {
      "text/plain": [
       "4463"
      ]
     },
     "execution_count": 51,
     "metadata": {
      "tags": []
     },
     "output_type": "execute_result"
    }
   ],
   "source": [
    "sum(text_df.package_aspect==1)"
   ]
  },
  {
   "cell_type": "code",
   "execution_count": null,
   "metadata": {
    "colab": {
     "base_uri": "https://localhost:8080/"
    },
    "id": "99moAdaZ5EY_",
    "outputId": "746d7562-e769-4124-b616-3636cf762ae4"
   },
   "outputs": [
    {
     "data": {
      "text/plain": [
       "154"
      ]
     },
     "execution_count": 53,
     "metadata": {
      "tags": []
     },
     "output_type": "execute_result"
    }
   ],
   "source": [
    "packaing_idx = list(text_df[text_df.package_aspect==1].index)\n",
    "long_text_512_idx_list = list(text_df[text_df.loc[:,'review'].str.len() >=1999].review.index)\n",
    "package_index_removed = [x  for x in packaing_idx if x in long_text_512_idx_list]\n",
    "len(package_index_removed)"
   ]
  },
  {
   "cell_type": "code",
   "execution_count": null,
   "metadata": {
    "id": "gmI2V5CX-JwH"
   },
   "outputs": [],
   "source": [
    "#update package index\n",
    "#remove extremel long text which this package can not handle\n",
    "packaing_idx =[x for x in packaing_idx if x not in package_index_removed]\n"
   ]
  },
  {
   "cell_type": "code",
   "execution_count": null,
   "metadata": {
    "colab": {
     "base_uri": "https://localhost:8080/"
    },
    "id": "9UgBBoMf-RC4",
    "outputId": "35b2a8e2-0e52-45f9-aa4c-9d9b3bb52c92"
   },
   "outputs": [
    {
     "data": {
      "text/plain": [
       "4309"
      ]
     },
     "execution_count": 55,
     "metadata": {
      "tags": []
     },
     "output_type": "execute_result"
    }
   ],
   "source": [
    "len(packaing_idx)"
   ]
  },
  {
   "cell_type": "code",
   "execution_count": null,
   "metadata": {
    "id": "7VV9ehw6-RFc"
   },
   "outputs": [],
   "source": [
    "for idx in packaing_idx: \n",
    "  pack, package  = nlp(text_df.review.iloc[idx], aspects=['pack', 'package'])\n",
    "  text_df.loc[idx, 'neu_pack'] = pack.scores[0]\n",
    "  text_df.loc[idx,'neg_pack'] = pack.scores[1]\n",
    "  text_df.loc[idx,'pos_pack'] = pack.scores[2]\n",
    "  text_df.loc[idx, 'neu_package'] = package.scores[0]\n",
    "  text_df.loc[idx,'neg_package'] = package.scores[1]\n",
    "  text_df.loc[idx,'pos_package'] = package.scores[2]"
   ]
  },
  {
   "cell_type": "code",
   "execution_count": null,
   "metadata": {
    "colab": {
     "base_uri": "https://localhost:8080/"
    },
    "id": "nwbi1qYiCgvy",
    "outputId": "a6ff54fd-d00e-4d53-b2b5-d74d1774ad47"
   },
   "outputs": [
    {
     "data": {
      "text/plain": [
       "(133159, 9)"
      ]
     },
     "execution_count": 57,
     "metadata": {
      "tags": []
     },
     "output_type": "execute_result"
    }
   ],
   "source": [
    "text_df.shape"
   ]
  },
  {
   "cell_type": "code",
   "execution_count": null,
   "metadata": {
    "id": "22Oa8WhQ-RHt"
   },
   "outputs": [],
   "source": [
    "# impute na by zero \n",
    "text_df = text_df.fillna(0)"
   ]
  },
  {
   "cell_type": "code",
   "execution_count": null,
   "metadata": {
    "colab": {
     "base_uri": "https://localhost:8080/",
     "height": 531
    },
    "id": "ZEnJ27rq-RKT",
    "outputId": "32fe9e7f-aab2-4969-e710-c55c779e64e2"
   },
   "outputs": [
    {
     "data": {
      "text/html": [
       "<div>\n",
       "<style scoped>\n",
       "    .dataframe tbody tr th:only-of-type {\n",
       "        vertical-align: middle;\n",
       "    }\n",
       "\n",
       "    .dataframe tbody tr th {\n",
       "        vertical-align: top;\n",
       "    }\n",
       "\n",
       "    .dataframe thead th {\n",
       "        text-align: right;\n",
       "    }\n",
       "</style>\n",
       "<table border=\"1\" class=\"dataframe\">\n",
       "  <thead>\n",
       "    <tr style=\"text-align: right;\">\n",
       "      <th></th>\n",
       "      <th>review</th>\n",
       "      <th>Ori_index</th>\n",
       "      <th>package_aspect</th>\n",
       "      <th>neu_pack</th>\n",
       "      <th>neg_pack</th>\n",
       "      <th>pos_pack</th>\n",
       "      <th>neu_package</th>\n",
       "      <th>neg_package</th>\n",
       "      <th>pos_package</th>\n",
       "    </tr>\n",
       "  </thead>\n",
       "  <tbody>\n",
       "    <tr>\n",
       "      <th>0</th>\n",
       "      <td>this was a good buy great shampoo and conditio...</td>\n",
       "      <td>0</td>\n",
       "      <td>0.0</td>\n",
       "      <td>0.000000</td>\n",
       "      <td>0.000000</td>\n",
       "      <td>0.000000</td>\n",
       "      <td>0.000000</td>\n",
       "      <td>0.000000</td>\n",
       "      <td>0.000000</td>\n",
       "    </tr>\n",
       "    <tr>\n",
       "      <th>1</th>\n",
       "      <td>i have used kms in the past and always loved t...</td>\n",
       "      <td>1</td>\n",
       "      <td>0.0</td>\n",
       "      <td>0.000000</td>\n",
       "      <td>0.000000</td>\n",
       "      <td>0.000000</td>\n",
       "      <td>0.000000</td>\n",
       "      <td>0.000000</td>\n",
       "      <td>0.000000</td>\n",
       "    </tr>\n",
       "    <tr>\n",
       "      <th>2</th>\n",
       "      <td>i remember kms products being a prestige salon...</td>\n",
       "      <td>2</td>\n",
       "      <td>0.0</td>\n",
       "      <td>0.000000</td>\n",
       "      <td>0.000000</td>\n",
       "      <td>0.000000</td>\n",
       "      <td>0.000000</td>\n",
       "      <td>0.000000</td>\n",
       "      <td>0.000000</td>\n",
       "    </tr>\n",
       "    <tr>\n",
       "      <th>3</th>\n",
       "      <td>this is a wonderful shampoo doesnt make your h...</td>\n",
       "      <td>3</td>\n",
       "      <td>0.0</td>\n",
       "      <td>0.000000</td>\n",
       "      <td>0.000000</td>\n",
       "      <td>0.000000</td>\n",
       "      <td>0.000000</td>\n",
       "      <td>0.000000</td>\n",
       "      <td>0.000000</td>\n",
       "    </tr>\n",
       "    <tr>\n",
       "      <th>4</th>\n",
       "      <td>i have a very dry frizzy hair i have tried man...</td>\n",
       "      <td>4</td>\n",
       "      <td>1.0</td>\n",
       "      <td>0.079432</td>\n",
       "      <td>0.899014</td>\n",
       "      <td>0.021554</td>\n",
       "      <td>0.379829</td>\n",
       "      <td>0.084498</td>\n",
       "      <td>0.535672</td>\n",
       "    </tr>\n",
       "  </tbody>\n",
       "</table>\n",
       "</div>"
      ],
      "text/plain": [
       "                                              review  ...  pos_package\n",
       "0  this was a good buy great shampoo and conditio...  ...     0.000000\n",
       "1  i have used kms in the past and always loved t...  ...     0.000000\n",
       "2  i remember kms products being a prestige salon...  ...     0.000000\n",
       "3  this is a wonderful shampoo doesnt make your h...  ...     0.000000\n",
       "4  i have a very dry frizzy hair i have tried man...  ...     0.535672\n",
       "\n",
       "[5 rows x 9 columns]"
      ]
     },
     "execution_count": 59,
     "metadata": {
      "tags": []
     },
     "output_type": "execute_result"
    }
   ],
   "source": [
    "text_df.head()"
   ]
  },
  {
   "cell_type": "code",
   "execution_count": null,
   "metadata": {
    "colab": {
     "base_uri": "https://localhost:8080/",
     "height": 17
    },
    "id": "yerYUSlD-RMG",
    "outputId": "55643f9f-cea0-4a2a-b87f-f2b5ab0e5ad7"
   },
   "outputs": [
    {
     "data": {
      "application/javascript": [
       "\n",
       "    async function download(id, filename, size) {\n",
       "      if (!google.colab.kernel.accessAllowed) {\n",
       "        return;\n",
       "      }\n",
       "      const div = document.createElement('div');\n",
       "      const label = document.createElement('label');\n",
       "      label.textContent = `Downloading \"${filename}\": `;\n",
       "      div.appendChild(label);\n",
       "      const progress = document.createElement('progress');\n",
       "      progress.max = size;\n",
       "      div.appendChild(progress);\n",
       "      document.body.appendChild(div);\n",
       "\n",
       "      const buffers = [];\n",
       "      let downloaded = 0;\n",
       "\n",
       "      const channel = await google.colab.kernel.comms.open(id);\n",
       "      // Send a message to notify the kernel that we're ready.\n",
       "      channel.send({})\n",
       "\n",
       "      for await (const message of channel.messages) {\n",
       "        // Send a message to notify the kernel that we're ready.\n",
       "        channel.send({})\n",
       "        if (message.buffers) {\n",
       "          for (const buffer of message.buffers) {\n",
       "            buffers.push(buffer);\n",
       "            downloaded += buffer.byteLength;\n",
       "            progress.value = downloaded;\n",
       "          }\n",
       "        }\n",
       "      }\n",
       "      const blob = new Blob(buffers, {type: 'application/binary'});\n",
       "      const a = document.createElement('a');\n",
       "      a.href = window.URL.createObjectURL(blob);\n",
       "      a.download = filename;\n",
       "      div.appendChild(a);\n",
       "      a.click();\n",
       "      div.remove();\n",
       "    }\n",
       "  "
      ],
      "text/plain": [
       "<IPython.core.display.Javascript object>"
      ]
     },
     "metadata": {
      "tags": []
     },
     "output_type": "display_data"
    },
    {
     "data": {
      "application/javascript": [
       "download(\"download_bd09e757-d4ba-43fa-be3b-fffcd689110c\", \"review_sentiment_aspect_package.csv\", 53217832)"
      ],
      "text/plain": [
       "<IPython.core.display.Javascript object>"
      ]
     },
     "metadata": {
      "tags": []
     },
     "output_type": "display_data"
    }
   ],
   "source": [
    "text_df.to_csv('review_sentiment_aspect_package.csv', index=None)\n",
    "files.download('review_sentiment_aspect_package.csv')"
   ]
  },
  {
   "cell_type": "code",
   "execution_count": null,
   "metadata": {
    "colab": {
     "base_uri": "https://localhost:8080/"
    },
    "id": "039xU5ZfCnTK",
    "outputId": "549581eb-920e-418c-8624-76fc3d9bc6c5"
   },
   "outputs": [
    {
     "data": {
      "text/plain": [
       "Index(['review', 'Ori_index', 'package_aspect', 'neu_pack', 'neg_pack',\n",
       "       'pos_pack', 'neu_package', 'neg_package', 'pos_package'],\n",
       "      dtype='object')"
      ]
     },
     "execution_count": 18,
     "metadata": {
      "tags": []
     },
     "output_type": "execute_result"
    }
   ],
   "source": [
    "path3 = '/content/drive/MyDrive/5153/review_sentiment_aspect_package.csv'\n",
    "df3=pd.read_csv(path3)\n",
    "df3.columns\n",
    "#package make more sense"
   ]
  },
  {
   "cell_type": "code",
   "execution_count": null,
   "metadata": {
    "colab": {
     "base_uri": "https://localhost:8080/",
     "height": 415
    },
    "id": "nhSxIevSenYq",
    "outputId": "3a0ecf1d-49b4-4d4c-cae6-eb5415b893be"
   },
   "outputs": [
    {
     "data": {
      "text/html": [
       "<div>\n",
       "<style scoped>\n",
       "    .dataframe tbody tr th:only-of-type {\n",
       "        vertical-align: middle;\n",
       "    }\n",
       "\n",
       "    .dataframe tbody tr th {\n",
       "        vertical-align: top;\n",
       "    }\n",
       "\n",
       "    .dataframe thead th {\n",
       "        text-align: right;\n",
       "    }\n",
       "</style>\n",
       "<table border=\"1\" class=\"dataframe\">\n",
       "  <thead>\n",
       "    <tr style=\"text-align: right;\">\n",
       "      <th></th>\n",
       "      <th>pos_pack</th>\n",
       "      <th>pos_package</th>\n",
       "    </tr>\n",
       "  </thead>\n",
       "  <tbody>\n",
       "    <tr>\n",
       "      <th>4</th>\n",
       "      <td>0.021554</td>\n",
       "      <td>0.535672</td>\n",
       "    </tr>\n",
       "    <tr>\n",
       "      <th>12</th>\n",
       "      <td>0.009155</td>\n",
       "      <td>0.575158</td>\n",
       "    </tr>\n",
       "    <tr>\n",
       "      <th>135</th>\n",
       "      <td>0.043165</td>\n",
       "      <td>0.198378</td>\n",
       "    </tr>\n",
       "    <tr>\n",
       "      <th>158</th>\n",
       "      <td>0.007172</td>\n",
       "      <td>0.023459</td>\n",
       "    </tr>\n",
       "    <tr>\n",
       "      <th>170</th>\n",
       "      <td>0.028247</td>\n",
       "      <td>0.003691</td>\n",
       "    </tr>\n",
       "    <tr>\n",
       "      <th>...</th>\n",
       "      <td>...</td>\n",
       "      <td>...</td>\n",
       "    </tr>\n",
       "    <tr>\n",
       "      <th>133078</th>\n",
       "      <td>0.706504</td>\n",
       "      <td>0.966684</td>\n",
       "    </tr>\n",
       "    <tr>\n",
       "      <th>133104</th>\n",
       "      <td>0.419795</td>\n",
       "      <td>0.998024</td>\n",
       "    </tr>\n",
       "    <tr>\n",
       "      <th>133120</th>\n",
       "      <td>0.013276</td>\n",
       "      <td>0.007332</td>\n",
       "    </tr>\n",
       "    <tr>\n",
       "      <th>133131</th>\n",
       "      <td>0.354877</td>\n",
       "      <td>0.992254</td>\n",
       "    </tr>\n",
       "    <tr>\n",
       "      <th>133155</th>\n",
       "      <td>0.015232</td>\n",
       "      <td>0.020032</td>\n",
       "    </tr>\n",
       "  </tbody>\n",
       "</table>\n",
       "<p>4309 rows × 2 columns</p>\n",
       "</div>"
      ],
      "text/plain": [
       "        pos_pack  pos_package\n",
       "4       0.021554     0.535672\n",
       "12      0.009155     0.575158\n",
       "135     0.043165     0.198378\n",
       "158     0.007172     0.023459\n",
       "170     0.028247     0.003691\n",
       "...          ...          ...\n",
       "133078  0.706504     0.966684\n",
       "133104  0.419795     0.998024\n",
       "133120  0.013276     0.007332\n",
       "133131  0.354877     0.992254\n",
       "133155  0.015232     0.020032\n",
       "\n",
       "[4309 rows x 2 columns]"
      ]
     },
     "execution_count": 5,
     "metadata": {
      "tags": []
     },
     "output_type": "execute_result"
    }
   ],
   "source": [
    "#check \n",
    "df3[df3.pos_package!=0][['pos_pack', 'pos_package']]"
   ]
  },
  {
   "cell_type": "code",
   "execution_count": null,
   "metadata": {
    "colab": {
     "base_uri": "https://localhost:8080/",
     "height": 105
    },
    "id": "8NM_LzSkemg8",
    "outputId": "4f192206-4cc6-4402-f4d9-e410a00d832b"
   },
   "outputs": [
    {
     "data": {
      "application/vnd.google.colaboratory.intrinsic+json": {
       "type": "string"
      },
      "text/plain": [
       "'first thing i would would like to say is i love the brand of products they are always high quality and do exactly what they say they do as a cosmetologist and skin care expert who worked int he field for 10 years really like the results  i have thin but alot of hair it did not weigh it down let my hair smooth and easy to style  it also helped my daughters flaky dry itchy scalp  shipping was good and product was well protected and packaged arrived very fast and i am pleased with product '"
      ]
     },
     "execution_count": 11,
     "metadata": {
      "tags": []
     },
     "output_type": "execute_result"
    }
   ],
   "source": [
    "#df3.loc[4,'review']\n",
    "#df3.loc[12,['review', 'neu_pack', 'neg_pack',\n",
    "#       'pos_pack', 'neu_package', 'neg_package', 'pos_package']] #love the new packagingd\n",
    "df3.loc[133104, 'review']"
   ]
  },
  {
   "cell_type": "code",
   "execution_count": null,
   "metadata": {
    "colab": {
     "base_uri": "https://localhost:8080/"
    },
    "id": "-5Pf8MnKy3R4",
    "outputId": "407a1b67-076c-40bd-8599-0a217d528995"
   },
   "outputs": [
    {
     "data": {
      "text/plain": [
       "(133159, 49)"
      ]
     },
     "execution_count": 24,
     "metadata": {
      "tags": []
     },
     "output_type": "execute_result"
    }
   ],
   "source": [
    "#merge package aspect with delivery, customer service aspect \n",
    "df_full = df.merge(df3, how = 'left', left_index=True, right_on= 'Ori_index')\n",
    "df_full.shape"
   ]
  },
  {
   "cell_type": "code",
   "execution_count": null,
   "metadata": {
    "colab": {
     "base_uri": "https://localhost:8080/"
    },
    "id": "B9ILYkcy0xT3",
    "outputId": "fcdde885-0b2e-4077-d4e4-8bb89759939b"
   },
   "outputs": [
    {
     "data": {
      "text/plain": [
       "Index(['Ori_index', 'Unnamed: 0', 'asin', 'review_x', 'overall', 'helpful',\n",
       "       'summary', 'unixReviewTime', 'reviewTime', 'reviewerID', 'title',\n",
       "       'brand', 'price', 'salesRank', 'polarity_score', 'neutral_score',\n",
       "       'negative_score', 'positive_score', 'neu_delivery', 'neg_delivery',\n",
       "       'pos_delivery', 'neu_shipment', 'neg_shipment', 'pos_shipment',\n",
       "       'review_len', 'review_y', 'Ori_index_x', 'customer_aspect',\n",
       "       'neu_return_policy', 'neg_return_policy', 'pos_return_policy',\n",
       "       'neu_exchange', 'neg_exchange', 'pos_exchange', 'neu_service',\n",
       "       'neg_service', 'pos_service', 'neu_support', 'neg_support',\n",
       "       'pos_support', 'review', 'Ori_index_y', 'package_aspect', 'neu_pack',\n",
       "       'neg_pack', 'pos_pack', 'neu_package', 'neg_package', 'pos_package'],\n",
       "      dtype='object')"
      ]
     },
     "execution_count": 25,
     "metadata": {
      "tags": []
     },
     "output_type": "execute_result"
    }
   ],
   "source": [
    "df_full.columns"
   ]
  },
  {
   "cell_type": "code",
   "execution_count": null,
   "metadata": {
    "id": "ms-KjaJA00Ub"
   },
   "outputs": [],
   "source": [
    "df_full.drop(['Unnamed: 0','customer_aspect', 'Ori_index_x', 'review_y','Ori_index_y', 'package_aspect'], axis=1, inplace=True)"
   ]
  },
  {
   "cell_type": "code",
   "execution_count": null,
   "metadata": {
    "id": "CAcvJvHz1get"
   },
   "outputs": [],
   "source": [
    "df_full.drop(['review'], axis=1, inplace=True)\n",
    "df_full = df_full.rename(columns={'review_x':'review'})"
   ]
  },
  {
   "cell_type": "code",
   "execution_count": null,
   "metadata": {
    "colab": {
     "base_uri": "https://localhost:8080/",
     "height": 35
    },
    "id": "H9eCOkFR1jvr",
    "outputId": "c1e41960-17a2-45f6-afb4-33c6eccd8ef1"
   },
   "outputs": [
    {
     "data": {
      "application/javascript": [
       "\n",
       "    async function download(id, filename, size) {\n",
       "      if (!google.colab.kernel.accessAllowed) {\n",
       "        return;\n",
       "      }\n",
       "      const div = document.createElement('div');\n",
       "      const label = document.createElement('label');\n",
       "      label.textContent = `Downloading \"${filename}\": `;\n",
       "      div.appendChild(label);\n",
       "      const progress = document.createElement('progress');\n",
       "      progress.max = size;\n",
       "      div.appendChild(progress);\n",
       "      document.body.appendChild(div);\n",
       "\n",
       "      const buffers = [];\n",
       "      let downloaded = 0;\n",
       "\n",
       "      const channel = await google.colab.kernel.comms.open(id);\n",
       "      // Send a message to notify the kernel that we're ready.\n",
       "      channel.send({})\n",
       "\n",
       "      for await (const message of channel.messages) {\n",
       "        // Send a message to notify the kernel that we're ready.\n",
       "        channel.send({})\n",
       "        if (message.buffers) {\n",
       "          for (const buffer of message.buffers) {\n",
       "            buffers.push(buffer);\n",
       "            downloaded += buffer.byteLength;\n",
       "            progress.value = downloaded;\n",
       "          }\n",
       "        }\n",
       "      }\n",
       "      const blob = new Blob(buffers, {type: 'application/binary'});\n",
       "      const a = document.createElement('a');\n",
       "      a.href = window.URL.createObjectURL(blob);\n",
       "      a.download = filename;\n",
       "      div.appendChild(a);\n",
       "      a.click();\n",
       "      div.remove();\n",
       "    }\n",
       "  "
      ],
      "text/plain": [
       "<IPython.core.display.Javascript object>"
      ]
     },
     "metadata": {
      "tags": []
     },
     "output_type": "display_data"
    },
    {
     "data": {
      "application/javascript": [
       "download(\"download_1eb26487-b50a-404c-81e3-91806ffa0ead\", \"meta_and_review_sentiment_aspect_delivery_cs_package.csv\", 91215666)"
      ],
      "text/plain": [
       "<IPython.core.display.Javascript object>"
      ]
     },
     "metadata": {
      "tags": []
     },
     "output_type": "display_data"
    }
   ],
   "source": [
    "#output file\n",
    "df_full.to_csv('meta_and_review_sentiment_aspect_delivery_cs_package.csv', index=None)\n",
    "files.download('meta_and_review_sentiment_aspect_delivery_cs_package.csv')"
   ]
  }
 ],
 "metadata": {
  "colab": {
   "name": "5153 Aspect based sentiment analysis -  packaging",
   "provenance": [],
   "toc_visible": true
  },
  "kernelspec": {
   "display_name": "Python 3",
   "language": "python",
   "name": "python3"
  },
  "language_info": {
   "codemirror_mode": {
    "name": "ipython",
    "version": 3
   },
   "file_extension": ".py",
   "mimetype": "text/x-python",
   "name": "python",
   "nbconvert_exporter": "python",
   "pygments_lexer": "ipython3",
   "version": "3.6.4"
  }
 },
 "nbformat": 4,
 "nbformat_minor": 1
}
