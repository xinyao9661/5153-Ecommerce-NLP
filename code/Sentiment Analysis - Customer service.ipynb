{
 "cells": [
  {
   "cell_type": "code",
   "execution_count": null,
   "metadata": {
    "id": "6-T_vFCNPz8z"
   },
   "outputs": [],
   "source": [
    "pip install aspect-based-sentiment-analysis"
   ]
  },
  {
   "cell_type": "code",
   "execution_count": null,
   "metadata": {
    "id": "tep4o-D1i_uX"
   },
   "outputs": [],
   "source": [
    "import aspect_based_sentiment_analysis as absa\n",
    "\n",
    "nlp = absa.load()"
   ]
  },
  {
   "cell_type": "code",
   "execution_count": 1,
   "metadata": {
    "id": "KXibYCY1lndB"
   },
   "outputs": [],
   "source": [
    "import warnings\n",
    "warnings.filterwarnings(\"ignore\")\n",
    "from google.colab import files\n",
    "import pandas as pd\n",
    "import numpy as np"
   ]
  },
  {
   "cell_type": "markdown",
   "metadata": {
    "id": "jnF5our6JYXj"
   },
   "source": [
    "# Sentiment - customer Serivce"
   ]
  },
  {
   "cell_type": "code",
   "execution_count": null,
   "metadata": {
    "colab": {
     "base_uri": "https://localhost:8080/"
    },
    "id": "Dax4DeRFJk_e",
    "outputId": "f400747c-d1a4-4cf3-ea84-35fae7ca1d5d"
   },
   "outputs": [
    {
     "data": {
      "text/plain": [
       "(133159, 24)"
      ]
     },
     "execution_count": 16,
     "metadata": {
      "tags": []
     },
     "output_type": "execute_result"
    }
   ],
   "source": [
    "path2= '/content/drive/MyDrive/5153/meta_and_review_sentiment_aspect_delivery (1).csv'\n",
    "df = pd.read_csv(path2)\n",
    "df.shape"
   ]
  },
  {
   "cell_type": "code",
   "execution_count": null,
   "metadata": {
    "colab": {
     "base_uri": "https://localhost:8080/"
    },
    "id": "Z2oRzwfOKPOo",
    "outputId": "2fff8f13-9b33-47c7-b0c2-0dccb100a3e8"
   },
   "outputs": [
    {
     "data": {
      "text/plain": [
       "(133159, 24)"
      ]
     },
     "execution_count": 16,
     "metadata": {
      "tags": []
     },
     "output_type": "execute_result"
    }
   ],
   "source": [
    "df.dropna(subset=['review'], axis=0, inplace=True)\n",
    "df.shape"
   ]
  },
  {
   "cell_type": "code",
   "execution_count": null,
   "metadata": {
    "id": "gIkBZoPPKT4Y"
   },
   "outputs": [],
   "source": [
    "text_df = df[['review']]\n",
    "text_df['Ori_index'] = text_df.index"
   ]
  },
  {
   "cell_type": "code",
   "execution_count": null,
   "metadata": {
    "colab": {
     "base_uri": "https://localhost:8080/",
     "height": 415
    },
    "id": "ahn38Z-jLQgP",
    "outputId": "90099c2e-d065-4657-a677-fc7a73815a83"
   },
   "outputs": [
    {
     "data": {
      "text/html": [
       "<div>\n",
       "<style scoped>\n",
       "    .dataframe tbody tr th:only-of-type {\n",
       "        vertical-align: middle;\n",
       "    }\n",
       "\n",
       "    .dataframe tbody tr th {\n",
       "        vertical-align: top;\n",
       "    }\n",
       "\n",
       "    .dataframe thead th {\n",
       "        text-align: right;\n",
       "    }\n",
       "</style>\n",
       "<table border=\"1\" class=\"dataframe\">\n",
       "  <thead>\n",
       "    <tr style=\"text-align: right;\">\n",
       "      <th></th>\n",
       "      <th>review</th>\n",
       "      <th>Ori_index</th>\n",
       "    </tr>\n",
       "  </thead>\n",
       "  <tbody>\n",
       "    <tr>\n",
       "      <th>0</th>\n",
       "      <td>this was a good buy great shampoo and conditio...</td>\n",
       "      <td>0</td>\n",
       "    </tr>\n",
       "    <tr>\n",
       "      <th>1</th>\n",
       "      <td>i have used kms in the past and always loved t...</td>\n",
       "      <td>1</td>\n",
       "    </tr>\n",
       "    <tr>\n",
       "      <th>2</th>\n",
       "      <td>i remember kms products being a prestige salon...</td>\n",
       "      <td>2</td>\n",
       "    </tr>\n",
       "    <tr>\n",
       "      <th>3</th>\n",
       "      <td>this is a wonderful shampoo doesnt make your h...</td>\n",
       "      <td>3</td>\n",
       "    </tr>\n",
       "    <tr>\n",
       "      <th>4</th>\n",
       "      <td>i have a very dry frizzy hair i have tried man...</td>\n",
       "      <td>4</td>\n",
       "    </tr>\n",
       "    <tr>\n",
       "      <th>...</th>\n",
       "      <td>...</td>\n",
       "      <td>...</td>\n",
       "    </tr>\n",
       "    <tr>\n",
       "      <th>133149</th>\n",
       "      <td>i use this shampoo along with another product ...</td>\n",
       "      <td>133149</td>\n",
       "    </tr>\n",
       "    <tr>\n",
       "      <th>133150</th>\n",
       "      <td>so effective within a few weeks after using th...</td>\n",
       "      <td>133150</td>\n",
       "    </tr>\n",
       "    <tr>\n",
       "      <th>133151</th>\n",
       "      <td>my hairdresser told me that there were natural...</td>\n",
       "      <td>133151</td>\n",
       "    </tr>\n",
       "    <tr>\n",
       "      <th>133152</th>\n",
       "      <td>i have never tried shea butter before but thou...</td>\n",
       "      <td>133152</td>\n",
       "    </tr>\n",
       "    <tr>\n",
       "      <th>133153</th>\n",
       "      <td>i have recently tried this set and i absolutel...</td>\n",
       "      <td>133153</td>\n",
       "    </tr>\n",
       "  </tbody>\n",
       "</table>\n",
       "<p>133154 rows × 2 columns</p>\n",
       "</div>"
      ],
      "text/plain": [
       "                                                   review  Ori_index\n",
       "0       this was a good buy great shampoo and conditio...          0\n",
       "1       i have used kms in the past and always loved t...          1\n",
       "2       i remember kms products being a prestige salon...          2\n",
       "3       this is a wonderful shampoo doesnt make your h...          3\n",
       "4       i have a very dry frizzy hair i have tried man...          4\n",
       "...                                                   ...        ...\n",
       "133149  i use this shampoo along with another product ...     133149\n",
       "133150  so effective within a few weeks after using th...     133150\n",
       "133151  my hairdresser told me that there were natural...     133151\n",
       "133152  i have never tried shea butter before but thou...     133152\n",
       "133153  i have recently tried this set and i absolutel...     133153\n",
       "\n",
       "[133154 rows x 2 columns]"
      ]
     },
     "execution_count": 18,
     "metadata": {
      "tags": []
     },
     "output_type": "execute_result"
    }
   ],
   "source": [
    "text_df.head(-5)"
   ]
  },
  {
   "cell_type": "markdown",
   "metadata": {
    "id": "EjMawTU7Kd3h"
   },
   "source": [
    "### filter reivews which contain customer service aspect"
   ]
  },
  {
   "cell_type": "code",
   "execution_count": null,
   "metadata": {
    "id": "wbl5c4T0Ktnr"
   },
   "outputs": [],
   "source": [
    "with pd.option_context ('display.max_colwidth', None):\n",
    "  display(text_df[text_df.review.str.contains('customer.*care', regex=True)].review)"
   ]
  },
  {
   "cell_type": "code",
   "execution_count": null,
   "metadata": {
    "colab": {
     "base_uri": "https://localhost:8080/"
    },
    "id": "CKP6sopRMQJN",
    "outputId": "f5fd3ad0-cc79-4bdb-9ff9-644aab721e6c"
   },
   "outputs": [
    {
     "data": {
      "text/plain": [
       "Series([], Name: review, dtype: object)"
      ]
     },
     "execution_count": 33,
     "metadata": {
      "tags": []
     },
     "output_type": "execute_result"
    }
   ],
   "source": [
    "import re\n",
    "pattern = r\"cs$\"\n",
    "text_df[text_df.review.apply(lambda x: 1 if re.match(pattern,x) else 0 )==1].review"
   ]
  },
  {
   "cell_type": "code",
   "execution_count": null,
   "metadata": {
    "id": "9YVU_FmYKT8Q"
   },
   "outputs": [],
   "source": [
    "customer_aspect = ['customer service', 'service', 'servicing', \n",
    "                   'return', 'exchange', 'customer support',\n",
    "                   'customer experience', 'customer care', 'customer assistance'] #no cs: customer service abbreviation"
   ]
  },
  {
   "cell_type": "code",
   "execution_count": null,
   "metadata": {
    "id": "1xntFk5xKi-n"
   },
   "outputs": [],
   "source": [
    "text_df.loc[text_df['review'].str.contains('customer.*service|service|servicing|return|exchange|customer.*support|customer.*experience|customer.*care|customer.*assistance',regex=True), 'customer_aspect'] = 1\n",
    "text_df.customer_aspect.fillna(0, inplace=True)"
   ]
  },
  {
   "cell_type": "code",
   "execution_count": null,
   "metadata": {
    "colab": {
     "base_uri": "https://localhost:8080/",
     "height": 53
    },
    "id": "TAHtkxcWKjB_",
    "outputId": "82de07b4-d54c-4931-c617-a210aea30839"
   },
   "outputs": [
    {
     "data": {
      "application/vnd.google.colaboratory.intrinsic+json": {
       "type": "string"
      },
      "text/plain": [
       "'not only doest it work on frizzy hair but it has a horrible sweet scent  i should have returned these immediately but ended up having to throw these out  what a waste of '"
      ]
     },
     "metadata": {
      "tags": []
     },
     "output_type": "display_data"
    }
   ],
   "source": [
    "with pd.option_context ('display.max_colwidth', None):\n",
    "  display(text_df[text_df.customer_aspect==1].review.iloc[3])"
   ]
  },
  {
   "cell_type": "code",
   "execution_count": null,
   "metadata": {
    "colab": {
     "base_uri": "https://localhost:8080/"
    },
    "id": "F_dop3gtbCKj",
    "outputId": "7f061d81-d2e0-4cf2-b8c3-2bab8fcc91cf"
   },
   "outputs": [
    {
     "data": {
      "text/plain": [
       "2981"
      ]
     },
     "execution_count": 55,
     "metadata": {
      "tags": []
     },
     "output_type": "execute_result"
    }
   ],
   "source": [
    "sum(text_df.customer_aspect==1)"
   ]
  },
  {
   "cell_type": "code",
   "execution_count": null,
   "metadata": {
    "id": "4jmWpLJPKjG0"
   },
   "outputs": [],
   "source": [
    "customer_list = list(text_df[text_df.customer_aspect==1].index)"
   ]
  },
  {
   "cell_type": "code",
   "execution_count": null,
   "metadata": {
    "id": "-EmQ7pluKjMV"
   },
   "outputs": [],
   "source": [
    "long_text_512_idx_list = list(text_df[text_df.loc[:,'review'].str.len() >=1999].review.index)"
   ]
  },
  {
   "cell_type": "code",
   "execution_count": null,
   "metadata": {
    "colab": {
     "base_uri": "https://localhost:8080/"
    },
    "id": "xnmsOhrFaq_y",
    "outputId": "dda5e548-c1a3-4f35-b3d8-75270d8fb831"
   },
   "outputs": [
    {
     "data": {
      "text/plain": [
       "127"
      ]
     },
     "execution_count": 53,
     "metadata": {
      "tags": []
     },
     "output_type": "execute_result"
    }
   ],
   "source": [
    "customer_index_removed = [x  for x in customer_list if x in long_text_512_idx_list]\n",
    "len(customer_index_removed)"
   ]
  },
  {
   "cell_type": "code",
   "execution_count": null,
   "metadata": {
    "id": "451sj1uQaxzj"
   },
   "outputs": [],
   "source": [
    "#update customer index\n",
    "#remove extremel long text which this package can not handle\n",
    "customer_list =[x for x in customer_list if x not in customer_index_removed]"
   ]
  },
  {
   "cell_type": "code",
   "execution_count": null,
   "metadata": {
    "colab": {
     "base_uri": "https://localhost:8080/"
    },
    "id": "R47eD_J6arDP",
    "outputId": "9aac4f3b-1b29-43da-8136-2ad5baafa392"
   },
   "outputs": [
    {
     "data": {
      "text/plain": [
       "2854"
      ]
     },
     "execution_count": 56,
     "metadata": {
      "tags": []
     },
     "output_type": "execute_result"
    }
   ],
   "source": [
    "len(customer_list)"
   ]
  },
  {
   "cell_type": "code",
   "execution_count": null,
   "metadata": {
    "id": "GzM4RQ7marFn"
   },
   "outputs": [],
   "source": [
    "for idx in customer_list: \n",
    "  return_policy, exchange,service,support = nlp(text_df.review.iloc[idx], aspects=['return','exchange','service','support'])\n",
    "  text_df.loc[idx, 'neu_return_policy'] = return_policy.scores[0]\n",
    "  text_df.loc[idx,'neg_return_policy'] = return_policy.scores[1]\n",
    "  text_df.loc[idx,'pos_return_policy'] = return_policy.scores[2]\n",
    "  text_df.loc[idx, 'neu_exchange'] = exchange.scores[0]\n",
    "  text_df.loc[idx,'neg_exchange'] = exchange.scores[1]\n",
    "  text_df.loc[idx,'pos_exchange'] = exchange.scores[2]\n",
    "  text_df.loc[idx, 'neu_service'] = service.scores[0]\n",
    "  text_df.loc[idx,'neg_service'] = service.scores[1]\n",
    "  text_df.loc[idx,'pos_service'] = service.scores[2]\n",
    "  text_df.loc[idx, 'neu_support'] = support.scores[0]\n",
    "  text_df.loc[idx,'neg_support'] = support.scores[1]\n",
    "  text_df.loc[idx,'pos_support'] = support.scores[2]\n"
   ]
  },
  {
   "cell_type": "code",
   "execution_count": null,
   "metadata": {
    "colab": {
     "base_uri": "https://localhost:8080/"
    },
    "id": "vtwZNkERcFK9",
    "outputId": "d790388f-cb64-4048-8c29-cf1458a05044"
   },
   "outputs": [
    {
     "data": {
      "text/plain": [
       "(133159, 15)"
      ]
     },
     "execution_count": 58,
     "metadata": {
      "tags": []
     },
     "output_type": "execute_result"
    }
   ],
   "source": [
    "text_df.shape"
   ]
  },
  {
   "cell_type": "code",
   "execution_count": null,
   "metadata": {
    "id": "n_fFp5nNCu1J"
   },
   "outputs": [],
   "source": [
    "# impute na by zero \n",
    "text_df = text_df.fillna(0)"
   ]
  },
  {
   "cell_type": "code",
   "execution_count": null,
   "metadata": {
    "colab": {
     "base_uri": "https://localhost:8080/",
     "height": 17
    },
    "id": "y1QkmfzRCuvC",
    "outputId": "ae038714-29cd-4239-efbe-805782bc40aa"
   },
   "outputs": [
    {
     "data": {
      "application/javascript": [
       "\n",
       "    async function download(id, filename, size) {\n",
       "      if (!google.colab.kernel.accessAllowed) {\n",
       "        return;\n",
       "      }\n",
       "      const div = document.createElement('div');\n",
       "      const label = document.createElement('label');\n",
       "      label.textContent = `Downloading \"${filename}\": `;\n",
       "      div.appendChild(label);\n",
       "      const progress = document.createElement('progress');\n",
       "      progress.max = size;\n",
       "      div.appendChild(progress);\n",
       "      document.body.appendChild(div);\n",
       "\n",
       "      const buffers = [];\n",
       "      let downloaded = 0;\n",
       "\n",
       "      const channel = await google.colab.kernel.comms.open(id);\n",
       "      // Send a message to notify the kernel that we're ready.\n",
       "      channel.send({})\n",
       "\n",
       "      for await (const message of channel.messages) {\n",
       "        // Send a message to notify the kernel that we're ready.\n",
       "        channel.send({})\n",
       "        if (message.buffers) {\n",
       "          for (const buffer of message.buffers) {\n",
       "            buffers.push(buffer);\n",
       "            downloaded += buffer.byteLength;\n",
       "            progress.value = downloaded;\n",
       "          }\n",
       "        }\n",
       "      }\n",
       "      const blob = new Blob(buffers, {type: 'application/binary'});\n",
       "      const a = document.createElement('a');\n",
       "      a.href = window.URL.createObjectURL(blob);\n",
       "      a.download = filename;\n",
       "      div.appendChild(a);\n",
       "      a.click();\n",
       "      div.remove();\n",
       "    }\n",
       "  "
      ],
      "text/plain": [
       "<IPython.core.display.Javascript object>"
      ]
     },
     "metadata": {
      "tags": []
     },
     "output_type": "display_data"
    },
    {
     "data": {
      "application/javascript": [
       "download(\"download_43be50f2-d20c-4c51-8273-08822f27932d\", \"review_sentiment_aspect_cs.csv\", 56548712)"
      ],
      "text/plain": [
       "<IPython.core.display.Javascript object>"
      ]
     },
     "metadata": {
      "tags": []
     },
     "output_type": "display_data"
    }
   ],
   "source": [
    "#output customer service aspect\n",
    "text_df.to_csv('review_sentiment_aspect_cs.csv', index=None)\n",
    "files.download('review_sentiment_aspect_cs.csv')"
   ]
  },
  {
   "cell_type": "code",
   "execution_count": null,
   "metadata": {
    "colab": {
     "base_uri": "https://localhost:8080/"
    },
    "id": "-S_-AHaPJiJi",
    "outputId": "e2f32273-caef-47b2-f5df-5234b23eb1e2"
   },
   "outputs": [
    {
     "data": {
      "text/plain": [
       "(133159, 15)"
      ]
     },
     "execution_count": 4,
     "metadata": {
      "tags": []
     },
     "output_type": "execute_result"
    }
   ],
   "source": [
    "path3 = '/content/drive/MyDrive/5153/review_sentiment_aspect_cs.csv'\n",
    "df3 = pd.read_csv(path3)\n",
    "df3.shape\n",
    "#feel like return may be a more accuracte indicator than exchange "
   ]
  },
  {
   "cell_type": "code",
   "execution_count": null,
   "metadata": {
    "colab": {
     "base_uri": "https://localhost:8080/"
    },
    "id": "FmL06zlqY-RW",
    "outputId": "e5d2479e-aa17-4518-99c7-15c39305eec2"
   },
   "outputs": [
    {
     "data": {
      "text/plain": [
       "Index(['review', 'Ori_index', 'customer_aspect', 'neu_return_policy',\n",
       "       'neg_return_policy', 'pos_return_policy', 'neu_exchange',\n",
       "       'neg_exchange', 'pos_exchange', 'neu_service', 'neg_service',\n",
       "       'pos_service', 'neu_support', 'neg_support', 'pos_support'],\n",
       "      dtype='object')"
      ]
     },
     "execution_count": 6,
     "metadata": {
      "tags": []
     },
     "output_type": "execute_result"
    }
   ],
   "source": [
    "df3.columns"
   ]
  },
  {
   "cell_type": "code",
   "execution_count": null,
   "metadata": {
    "colab": {
     "base_uri": "https://localhost:8080/",
     "height": 662
    },
    "id": "6PejUk17Y-PD",
    "outputId": "b1257ee0-ad1a-4e97-df24-6b0f9ea0691f"
   },
   "outputs": [
    {
     "data": {
      "text/html": [
       "<div>\n",
       "<style scoped>\n",
       "    .dataframe tbody tr th:only-of-type {\n",
       "        vertical-align: middle;\n",
       "    }\n",
       "\n",
       "    .dataframe tbody tr th {\n",
       "        vertical-align: top;\n",
       "    }\n",
       "\n",
       "    .dataframe thead th {\n",
       "        text-align: right;\n",
       "    }\n",
       "</style>\n",
       "<table border=\"1\" class=\"dataframe\">\n",
       "  <thead>\n",
       "    <tr style=\"text-align: right;\">\n",
       "      <th></th>\n",
       "      <th>pos_return_policy</th>\n",
       "      <th>pos_exchange</th>\n",
       "      <th>pos_service</th>\n",
       "      <th>pos_support</th>\n",
       "    </tr>\n",
       "  </thead>\n",
       "  <tbody>\n",
       "    <tr>\n",
       "      <th>16</th>\n",
       "      <td>0.397591</td>\n",
       "      <td>0.233870</td>\n",
       "      <td>0.511892</td>\n",
       "      <td>0.318874</td>\n",
       "    </tr>\n",
       "    <tr>\n",
       "      <th>72</th>\n",
       "      <td>0.973744</td>\n",
       "      <td>0.025994</td>\n",
       "      <td>0.145551</td>\n",
       "      <td>0.091163</td>\n",
       "    </tr>\n",
       "    <tr>\n",
       "      <th>192</th>\n",
       "      <td>0.004839</td>\n",
       "      <td>0.014405</td>\n",
       "      <td>0.025652</td>\n",
       "      <td>0.024588</td>\n",
       "    </tr>\n",
       "    <tr>\n",
       "      <th>269</th>\n",
       "      <td>0.913371</td>\n",
       "      <td>0.024039</td>\n",
       "      <td>0.149899</td>\n",
       "      <td>0.272333</td>\n",
       "    </tr>\n",
       "    <tr>\n",
       "      <th>368</th>\n",
       "      <td>0.006916</td>\n",
       "      <td>0.011557</td>\n",
       "      <td>0.016231</td>\n",
       "      <td>0.016808</td>\n",
       "    </tr>\n",
       "    <tr>\n",
       "      <th>535</th>\n",
       "      <td>0.028421</td>\n",
       "      <td>0.013778</td>\n",
       "      <td>0.116843</td>\n",
       "      <td>0.036299</td>\n",
       "    </tr>\n",
       "    <tr>\n",
       "      <th>541</th>\n",
       "      <td>0.998307</td>\n",
       "      <td>0.996613</td>\n",
       "      <td>0.998622</td>\n",
       "      <td>0.998055</td>\n",
       "    </tr>\n",
       "    <tr>\n",
       "      <th>758</th>\n",
       "      <td>0.009671</td>\n",
       "      <td>0.011631</td>\n",
       "      <td>0.010364</td>\n",
       "      <td>0.020767</td>\n",
       "    </tr>\n",
       "    <tr>\n",
       "      <th>901</th>\n",
       "      <td>0.160603</td>\n",
       "      <td>0.426678</td>\n",
       "      <td>0.882344</td>\n",
       "      <td>0.791063</td>\n",
       "    </tr>\n",
       "    <tr>\n",
       "      <th>918</th>\n",
       "      <td>0.034597</td>\n",
       "      <td>0.035517</td>\n",
       "      <td>0.017400</td>\n",
       "      <td>0.093145</td>\n",
       "    </tr>\n",
       "    <tr>\n",
       "      <th>990</th>\n",
       "      <td>0.918235</td>\n",
       "      <td>0.971024</td>\n",
       "      <td>0.998099</td>\n",
       "      <td>0.990501</td>\n",
       "    </tr>\n",
       "    <tr>\n",
       "      <th>1006</th>\n",
       "      <td>0.993468</td>\n",
       "      <td>0.906371</td>\n",
       "      <td>0.911073</td>\n",
       "      <td>0.607053</td>\n",
       "    </tr>\n",
       "    <tr>\n",
       "      <th>1020</th>\n",
       "      <td>0.995763</td>\n",
       "      <td>0.986241</td>\n",
       "      <td>0.998598</td>\n",
       "      <td>0.993131</td>\n",
       "    </tr>\n",
       "    <tr>\n",
       "      <th>1025</th>\n",
       "      <td>0.976960</td>\n",
       "      <td>0.797421</td>\n",
       "      <td>0.998451</td>\n",
       "      <td>0.986582</td>\n",
       "    </tr>\n",
       "    <tr>\n",
       "      <th>1122</th>\n",
       "      <td>0.986902</td>\n",
       "      <td>0.807305</td>\n",
       "      <td>0.938993</td>\n",
       "      <td>0.924868</td>\n",
       "    </tr>\n",
       "    <tr>\n",
       "      <th>1302</th>\n",
       "      <td>0.009866</td>\n",
       "      <td>0.006615</td>\n",
       "      <td>0.008630</td>\n",
       "      <td>0.011212</td>\n",
       "    </tr>\n",
       "    <tr>\n",
       "      <th>1314</th>\n",
       "      <td>0.005137</td>\n",
       "      <td>0.004789</td>\n",
       "      <td>0.012110</td>\n",
       "      <td>0.009464</td>\n",
       "    </tr>\n",
       "    <tr>\n",
       "      <th>1351</th>\n",
       "      <td>0.013446</td>\n",
       "      <td>0.007948</td>\n",
       "      <td>0.005104</td>\n",
       "      <td>0.021810</td>\n",
       "    </tr>\n",
       "    <tr>\n",
       "      <th>1358</th>\n",
       "      <td>0.740015</td>\n",
       "      <td>0.092678</td>\n",
       "      <td>0.267524</td>\n",
       "      <td>0.242633</td>\n",
       "    </tr>\n",
       "    <tr>\n",
       "      <th>1402</th>\n",
       "      <td>0.006482</td>\n",
       "      <td>0.011444</td>\n",
       "      <td>0.059350</td>\n",
       "      <td>0.033835</td>\n",
       "    </tr>\n",
       "  </tbody>\n",
       "</table>\n",
       "</div>"
      ],
      "text/plain": [
       "      pos_return_policy  pos_exchange  pos_service  pos_support\n",
       "16             0.397591      0.233870     0.511892     0.318874\n",
       "72             0.973744      0.025994     0.145551     0.091163\n",
       "192            0.004839      0.014405     0.025652     0.024588\n",
       "269            0.913371      0.024039     0.149899     0.272333\n",
       "368            0.006916      0.011557     0.016231     0.016808\n",
       "535            0.028421      0.013778     0.116843     0.036299\n",
       "541            0.998307      0.996613     0.998622     0.998055\n",
       "758            0.009671      0.011631     0.010364     0.020767\n",
       "901            0.160603      0.426678     0.882344     0.791063\n",
       "918            0.034597      0.035517     0.017400     0.093145\n",
       "990            0.918235      0.971024     0.998099     0.990501\n",
       "1006           0.993468      0.906371     0.911073     0.607053\n",
       "1020           0.995763      0.986241     0.998598     0.993131\n",
       "1025           0.976960      0.797421     0.998451     0.986582\n",
       "1122           0.986902      0.807305     0.938993     0.924868\n",
       "1302           0.009866      0.006615     0.008630     0.011212\n",
       "1314           0.005137      0.004789     0.012110     0.009464\n",
       "1351           0.013446      0.007948     0.005104     0.021810\n",
       "1358           0.740015      0.092678     0.267524     0.242633\n",
       "1402           0.006482      0.011444     0.059350     0.033835"
      ]
     },
     "execution_count": 12,
     "metadata": {
      "tags": []
     },
     "output_type": "execute_result"
    }
   ],
   "source": [
    "df3[df3.pos_service!=0][['pos_return_policy', 'pos_exchange', 'pos_service', 'pos_support']][:20]"
   ]
  },
  {
   "cell_type": "code",
   "execution_count": null,
   "metadata": {
    "colab": {
     "base_uri": "https://localhost:8080/",
     "height": 209
    },
    "id": "UOiDoh27Y-MP",
    "outputId": "3131fa7b-bdb0-45e7-e281-de5e07e7316d"
   },
   "outputs": [
    {
     "data": {
      "application/vnd.google.colaboratory.intrinsic+json": {
       "type": "string"
      },
      "text/plain": [
       "'i wasnt quite sure what to expect from a nail polish that contained none of the awful chemicals found in most nail polishes  i absolutely love the conditioner  i followed all directions took of prior polish buffed my nails rinsed and dried thoroughly before applying  i had read prior reviews about not letting your nails get wet immediately after so i polished at night  i followed these instructions however i did not read anything about this rule on the conditioner container  the polish dries very quickly and after a week of working in the yard and in the kitchen i had no chips  they had dulled a little but the polish did not come off  it was a little tricky to get off though  i had read bad reviews on the acquarella nail polish remover so i purchased a different more natural brand and unfortunately that hasnt arrived yet in the mail yet  i had to use the bad stuff acetone and it took a bit of time to get it off  however the little bit of work to get the polish off was totally worth how they held up and i will definitely be returning for more purchases from acquarella  i think i have just found my exclusive nail polish brand'"
      ]
     },
     "execution_count": 14,
     "metadata": {
      "tags": []
     },
     "output_type": "execute_result"
    }
   ],
   "source": [
    "#df3.loc[72,'review'] #return yes\n",
    "#df3.loc[269, 'review'] #should have returned it, both wrong\n",
    "#df3.loc[133081,'review'] #nothing related\n",
    "#df3.loc[541,'review] #correct\n",
    "df3.loc[1358,'review']\n"
   ]
  },
  {
   "cell_type": "code",
   "execution_count": null,
   "metadata": {
    "colab": {
     "base_uri": "https://localhost:8080/"
    },
    "id": "yKe8oW2HbQ_2",
    "outputId": "1f4d8589-e861-41ee-b55c-f396654eb89f"
   },
   "outputs": [
    {
     "data": {
      "text/plain": [
       "Index(['review', 'Ori_index', 'customer_aspect', 'neu_return_policy',\n",
       "       'neg_return_policy', 'pos_return_policy', 'neu_exchange',\n",
       "       'neg_exchange', 'pos_exchange', 'neu_service', 'neg_service',\n",
       "       'pos_service', 'neu_support', 'neg_support', 'pos_support'],\n",
       "      dtype='object')"
      ]
     },
     "execution_count": 18,
     "metadata": {
      "tags": []
     },
     "output_type": "execute_result"
    }
   ],
   "source": [
    "df3.columns"
   ]
  },
  {
   "cell_type": "code",
   "execution_count": null,
   "metadata": {
    "colab": {
     "base_uri": "https://localhost:8080/"
    },
    "id": "WLUG54JpbU7X",
    "outputId": "cf3abd4c-5387-4bd5-bcfd-533150303c2b"
   },
   "outputs": [
    {
     "data": {
      "text/plain": [
       "Index(['Unnamed: 0', 'asin', 'review', 'overall', 'helpful', 'summary',\n",
       "       'unixReviewTime', 'reviewTime', 'reviewerID', 'title', 'brand', 'price',\n",
       "       'salesRank', 'polarity_score', 'neutral_score', 'negative_score',\n",
       "       'positive_score', 'neu_delivery', 'neg_delivery', 'pos_delivery',\n",
       "       'neu_shipment', 'neg_shipment', 'pos_shipment', 'review_len'],\n",
       "      dtype='object')"
      ]
     },
     "execution_count": 19,
     "metadata": {
      "tags": []
     },
     "output_type": "execute_result"
    }
   ],
   "source": [
    "df.columns"
   ]
  },
  {
   "cell_type": "code",
   "execution_count": null,
   "metadata": {
    "id": "W6dlCvgCY-I5"
   },
   "outputs": [],
   "source": [
    "#merge customer service aspect, with delivery aspect and overall sentiment score \n",
    "df_full = df.merge(df3, how = 'left', left_index=True, right_on= 'Ori_index')"
   ]
  },
  {
   "cell_type": "code",
   "execution_count": null,
   "metadata": {
    "colab": {
     "base_uri": "https://localhost:8080/"
    },
    "id": "dc6yHL2Hbb5F",
    "outputId": "5090d2c1-ec5f-4d19-92d9-f42f8a121aba"
   },
   "outputs": [
    {
     "data": {
      "text/plain": [
       "(133159, 39)"
      ]
     },
     "execution_count": 22,
     "metadata": {
      "tags": []
     },
     "output_type": "execute_result"
    }
   ],
   "source": [
    "df_full.shape"
   ]
  },
  {
   "cell_type": "code",
   "execution_count": null,
   "metadata": {
    "id": "mHfgXCZ1bgDF"
   },
   "outputs": [],
   "source": [
    "df_full.to_csv('meta_and_review_sentiment_aspect_delivery_cs.csv', index=None)"
   ]
  },
  {
   "cell_type": "code",
   "execution_count": null,
   "metadata": {
    "colab": {
     "base_uri": "https://localhost:8080/",
     "height": 35
    },
    "id": "KDFLtw1ydp0L",
    "outputId": "59316742-ea83-4d01-9050-ada39dc8ca28"
   },
   "outputs": [
    {
     "data": {
      "application/javascript": [
       "\n",
       "    async function download(id, filename, size) {\n",
       "      if (!google.colab.kernel.accessAllowed) {\n",
       "        return;\n",
       "      }\n",
       "      const div = document.createElement('div');\n",
       "      const label = document.createElement('label');\n",
       "      label.textContent = `Downloading \"${filename}\": `;\n",
       "      div.appendChild(label);\n",
       "      const progress = document.createElement('progress');\n",
       "      progress.max = size;\n",
       "      div.appendChild(progress);\n",
       "      document.body.appendChild(div);\n",
       "\n",
       "      const buffers = [];\n",
       "      let downloaded = 0;\n",
       "\n",
       "      const channel = await google.colab.kernel.comms.open(id);\n",
       "      // Send a message to notify the kernel that we're ready.\n",
       "      channel.send({})\n",
       "\n",
       "      for await (const message of channel.messages) {\n",
       "        // Send a message to notify the kernel that we're ready.\n",
       "        channel.send({})\n",
       "        if (message.buffers) {\n",
       "          for (const buffer of message.buffers) {\n",
       "            buffers.push(buffer);\n",
       "            downloaded += buffer.byteLength;\n",
       "            progress.value = downloaded;\n",
       "          }\n",
       "        }\n",
       "      }\n",
       "      const blob = new Blob(buffers, {type: 'application/binary'});\n",
       "      const a = document.createElement('a');\n",
       "      a.href = window.URL.createObjectURL(blob);\n",
       "      a.download = filename;\n",
       "      div.appendChild(a);\n",
       "      a.click();\n",
       "      div.remove();\n",
       "    }\n",
       "  "
      ],
      "text/plain": [
       "<IPython.core.display.Javascript object>"
      ]
     },
     "metadata": {
      "tags": []
     },
     "output_type": "display_data"
    },
    {
     "data": {
      "application/javascript": [
       "download(\"download_97010eb6-87c5-497f-9ea5-abdc78b93661\", \"meta_and_review_sentiment_aspect_delivery_cs.csv\", 136689936)"
      ],
      "text/plain": [
       "<IPython.core.display.Javascript object>"
      ]
     },
     "metadata": {
      "tags": []
     },
     "output_type": "display_data"
    }
   ],
   "source": [
    "files.download('meta_and_review_sentiment_aspect_delivery_cs.csv')"
   ]
  }
 ],
 "metadata": {
  "colab": {
   "name": "5153 Aspect based sentiment analysis -customer service",
   "provenance": [],
   "toc_visible": true
  },
  "kernelspec": {
   "display_name": "Python 3",
   "language": "python",
   "name": "python3"
  },
  "language_info": {
   "codemirror_mode": {
    "name": "ipython",
    "version": 3
   },
   "file_extension": ".py",
   "mimetype": "text/x-python",
   "name": "python",
   "nbconvert_exporter": "python",
   "pygments_lexer": "ipython3",
   "version": "3.6.4"
  }
 },
 "nbformat": 4,
 "nbformat_minor": 1
}
