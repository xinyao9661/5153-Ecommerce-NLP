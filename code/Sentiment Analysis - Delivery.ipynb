{
 "cells": [
  {
   "cell_type": "code",
   "execution_count": null,
   "metadata": {
    "id": "6-T_vFCNPz8z"
   },
   "outputs": [],
   "source": [
    "pip install aspect-based-sentiment-analysis"
   ]
  },
  {
   "cell_type": "code",
   "execution_count": null,
   "metadata": {
    "id": "tep4o-D1i_uX"
   },
   "outputs": [],
   "source": [
    "import aspect_based_sentiment_analysis as absa\n",
    "\n",
    "nlp = absa.load()"
   ]
  },
  {
   "cell_type": "code",
   "execution_count": 5,
   "metadata": {
    "id": "KXibYCY1lndB"
   },
   "outputs": [],
   "source": [
    "import warnings\n",
    "warnings.filterwarnings(\"ignore\")\n",
    "from google.colab import files\n",
    "import pandas as pd\n",
    "import numpy as np"
   ]
  },
  {
   "cell_type": "markdown",
   "metadata": {
    "id": "nZzu2guVcHYU"
   },
   "source": [
    "# Sentiment - delivery"
   ]
  },
  {
   "cell_type": "code",
   "execution_count": null,
   "metadata": {
    "id": "NlnAD0SHcUSr"
   },
   "outputs": [],
   "source": [
    "import pandas as pd\n",
    "import numpy as np"
   ]
  },
  {
   "cell_type": "code",
   "execution_count": null,
   "metadata": {
    "id": "Wu5rp6S0cKkJ"
   },
   "outputs": [],
   "source": [
    "path ='/content/drive/MyDrive/5153/meta_and_review.csv'\n",
    "df = pd.read_csv(path)"
   ]
  },
  {
   "cell_type": "code",
   "execution_count": null,
   "metadata": {
    "id": "-qdZlHiteuPm"
   },
   "outputs": [],
   "source": [
    "df.dropna(subset=['review'], axis=0, inplace=True)"
   ]
  },
  {
   "cell_type": "code",
   "execution_count": null,
   "metadata": {
    "colab": {
     "base_uri": "https://localhost:8080/"
    },
    "id": "Ci_Yb7cSe505",
    "outputId": "9b7776fb-09d8-43d2-a72b-1a12497ccfb7"
   },
   "outputs": [
    {
     "data": {
      "text/plain": [
       "(133159, 13)"
      ]
     },
     "execution_count": 7,
     "metadata": {
      "tags": []
     },
     "output_type": "execute_result"
    }
   ],
   "source": [
    "df.shape"
   ]
  },
  {
   "cell_type": "code",
   "execution_count": null,
   "metadata": {
    "id": "aqGN9p4GcQ24"
   },
   "outputs": [],
   "source": [
    "text_df = df[['review']]\n",
    "text_df['Ori_index'] = text_df.index"
   ]
  },
  {
   "cell_type": "code",
   "execution_count": null,
   "metadata": {
    "colab": {
     "base_uri": "https://localhost:8080/",
     "height": 415
    },
    "id": "uMm16eYL8LXg",
    "outputId": "320d7404-bd56-45f6-fd5e-9955e703c659"
   },
   "outputs": [
    {
     "data": {
      "text/html": [
       "<div>\n",
       "<style scoped>\n",
       "    .dataframe tbody tr th:only-of-type {\n",
       "        vertical-align: middle;\n",
       "    }\n",
       "\n",
       "    .dataframe tbody tr th {\n",
       "        vertical-align: top;\n",
       "    }\n",
       "\n",
       "    .dataframe thead th {\n",
       "        text-align: right;\n",
       "    }\n",
       "</style>\n",
       "<table border=\"1\" class=\"dataframe\">\n",
       "  <thead>\n",
       "    <tr style=\"text-align: right;\">\n",
       "      <th></th>\n",
       "      <th>review</th>\n",
       "      <th>Ori_index</th>\n",
       "    </tr>\n",
       "  </thead>\n",
       "  <tbody>\n",
       "    <tr>\n",
       "      <th>0</th>\n",
       "      <td>this was a good buy great shampoo and conditio...</td>\n",
       "      <td>0</td>\n",
       "    </tr>\n",
       "    <tr>\n",
       "      <th>1</th>\n",
       "      <td>i have used kms in the past and always loved t...</td>\n",
       "      <td>1</td>\n",
       "    </tr>\n",
       "    <tr>\n",
       "      <th>2</th>\n",
       "      <td>i remember kms products being a prestige salon...</td>\n",
       "      <td>2</td>\n",
       "    </tr>\n",
       "    <tr>\n",
       "      <th>3</th>\n",
       "      <td>this is a wonderful shampoo doesnt make your h...</td>\n",
       "      <td>3</td>\n",
       "    </tr>\n",
       "    <tr>\n",
       "      <th>4</th>\n",
       "      <td>i have a very dry frizzy hair i have tried man...</td>\n",
       "      <td>4</td>\n",
       "    </tr>\n",
       "    <tr>\n",
       "      <th>...</th>\n",
       "      <td>...</td>\n",
       "      <td>...</td>\n",
       "    </tr>\n",
       "    <tr>\n",
       "      <th>133149</th>\n",
       "      <td>i use this shampoo along with another product ...</td>\n",
       "      <td>133156</td>\n",
       "    </tr>\n",
       "    <tr>\n",
       "      <th>133150</th>\n",
       "      <td>so effective within a few weeks after using th...</td>\n",
       "      <td>133157</td>\n",
       "    </tr>\n",
       "    <tr>\n",
       "      <th>133151</th>\n",
       "      <td>my hairdresser told me that there were natural...</td>\n",
       "      <td>133158</td>\n",
       "    </tr>\n",
       "    <tr>\n",
       "      <th>133152</th>\n",
       "      <td>i have never tried shea butter before but thou...</td>\n",
       "      <td>133159</td>\n",
       "    </tr>\n",
       "    <tr>\n",
       "      <th>133153</th>\n",
       "      <td>i have recently tried this set and i absolutel...</td>\n",
       "      <td>133160</td>\n",
       "    </tr>\n",
       "  </tbody>\n",
       "</table>\n",
       "<p>133154 rows × 2 columns</p>\n",
       "</div>"
      ],
      "text/plain": [
       "                                                   review  Ori_index\n",
       "0       this was a good buy great shampoo and conditio...          0\n",
       "1       i have used kms in the past and always loved t...          1\n",
       "2       i remember kms products being a prestige salon...          2\n",
       "3       this is a wonderful shampoo doesnt make your h...          3\n",
       "4       i have a very dry frizzy hair i have tried man...          4\n",
       "...                                                   ...        ...\n",
       "133149  i use this shampoo along with another product ...     133156\n",
       "133150  so effective within a few weeks after using th...     133157\n",
       "133151  my hairdresser told me that there were natural...     133158\n",
       "133152  i have never tried shea butter before but thou...     133159\n",
       "133153  i have recently tried this set and i absolutel...     133160\n",
       "\n",
       "[133154 rows x 2 columns]"
      ]
     },
     "execution_count": 9,
     "metadata": {
      "tags": []
     },
     "output_type": "execute_result"
    }
   ],
   "source": [
    "text_df.reset_index(drop=True, inplace=True)\n",
    "text_df.head(-5)"
   ]
  },
  {
   "cell_type": "markdown",
   "metadata": {
    "id": "hvwSaQ8IHTQz"
   },
   "source": []
  },
  {
   "cell_type": "markdown",
   "metadata": {
    "id": "Kj9VrryEfcWl"
   },
   "source": [
    "### filter our reviews which contains deivery_aspect"
   ]
  },
  {
   "cell_type": "code",
   "execution_count": null,
   "metadata": {},
   "outputs": [],
   "source": [
    "delivery_aspect = ['delivery', 'logistics', 'shipment', 'transportation', 'transport']\n",
    "delivery_list =[]\n",
    "for i in range(len(delivery_aspect)):\n",
    "  temp_list = list(text_df[text_df.review.str.contains(delivery_aspect[i])].index) \n",
    "  delivery_list = delivery_list + temp_list\n",
    "delivery_idx= list(set(delivery_list))"
   ]
  },
  {
   "cell_type": "code",
   "execution_count": null,
   "metadata": {
    "colab": {
     "base_uri": "https://localhost:8080/",
     "height": 245
    },
    "id": "TPSqojZDCgxB",
    "outputId": "a593a83c-5e4c-4004-f17d-b4b8e55e879e"
   },
   "outputs": [
    {
     "data": {
      "text/plain": [
       "145                                                                                                                                                                                                                                                                                                                                                                                                                                                                                                                                                                                                                                                                                                                                                                                                                                                                     i was so very disappointed with my purchase of the avalon thickening shampoo and conditioner i had such high hopes but in only two shampooings my hair was noticeably stripped of oils had that 34squeaky clean34 feeling you get when using a very harsh product and it became dry and brittle it started looking very dull they use many products that have an oil stripping effect on the hair like orange oil and lemon oil you might think because it says oil that it might add to your hairs shine but these are ingredients in industrial strength degreasers this product only damaged my hair avalon is only 70 organic and it had a rather unpleasant smell to me rather like mosquito repellant or dish soap using a harsh product like this is very detrimental for your hair i know that a lot of people will be drawn to avalon because of the low price but if it drastically stripped my extremely oily hair in two shampoos i cant imagine what it might do to yours although my hair is very fine so perhaps ethnic girls and women with coarser hair might benefit i honestly wouldnt recommend it id rather see people get something that will improve their selfesteem immediately rather than give them new problems to worry aboutin desperation i purchased the more expensive just naturals system for thinning hair and believe me it blows avalon out of the water in just one shampoo my hair regained its texture and became so silky it felt like asian hair i cant stop touching my hair now and i feel so much more confident they use incredible ingredients that greatly benefit people with hair loss due to hormonal issues or who have an increase in dht you do pay more than double for that shampoo but having something that supports your hair improves the texture and smells fantastic was worth it to me im now quite confident in what im using and plan to go on using it regardless of the cost id pay 5x what im paying for it now i love it so much and their treatment spray is oil based i use the system twice a day and im shocked at how long it is lasting it has truly been an excellent investmenti would recommend that you shampoo and condition your hair twice a day if you want to see regrowth with any system this is because one application of shampoo with dhtfighting ingredients can only do so much your body is constantly generating new hormones and new dht by helping to combat it twice a day you have a better chance of seeing results sooner this is coming from a 36 year old woman who has been fighting repeated hair loss due to hormonal imbalance from 16 on once a day just never cut it for me using a leave on treatment like just naturals has overnight can also work wonders i use it during the day too if im not going outi hope this helps you recover your hair and your selfesteem a little faster and more efficiently o\n",
       "1822      this product is now garbage aubreys death was very unfortunate because im sure he is turning in his grave if he knew how his children have completely and utterly disgraced his product line with garbage ingredients two nights ago i did my usual routine and purchased the honeysuckle rose conditioner from my local whole foods i was using the product as usual that night and as i was working it through my hair i noticed a major difference in how the product felt and how it was affecting my hair the reason i have so loved the honeysuckle rose conditioner was because it was the only conditioner among many that i have tried that left my hair feeling moisturized bouncy curly smooth and overall rejuvenated i immediately noticed a difference when i was using this new bottle on my hair something in my mind told me to pick up my old bottle that i had in the shower and the new bottle i had just purchased the bottles looked the same but the ingredients and labeling are radically different the old bottle says 100natural no parabens or petrochemicals while the new bottle only says all natural ingredients the old bottle has the following ingredientscoconut fatty acid cream base organic aloe vera organic shea butter wheat germ oil organic jojoba oil organic rosa mosqueta rose hip seed oil extracts of fennel hops balm mint mistletoe camomile yarrow chrysanthemum angelica forsythia and magnolia honeysuckle oil carrot oil aubreys preservative citrus seed extract vitamins a c and ethe new bottle has these ingredientsaqua cetyl alcohol alcohol denat 38b lavender butyrospermum parkii shea butter triticum vulgare wheat germ oil lonicera caprifolium honeysuckle extract aloe barbadensis aloe leaf juice glycerin simmondsia chinensis jojoba seed oil rosa rubignosa rosa mosqueta seed oil citrus grandis grapefruit extract tocopheryl acetate foeniculum vulgare fennel fruit extract humulus lupulus hops extract melissa officinalis balm mint leaf extract chamomilla recutita matricaria extract glycine soja soybean oil daucus carota sativa carrot root extract betacarotene hamamelis virginiana witch hazel water angelica archangelica extract chrysanthemum sinense flower extract magnolia biondii flower extract ascorbic acid organicthi is a total change in formula and a huge change in the effectiveness of the product i am incredibly disappointed that aubrey has decided to reduce their product to such garbageand still charge the same price and drag the aubrey name in the dirt aubrey organics has long been known for selling pure and natural products and have now reduced themselves to insulting its consumers and long time supporters of the brand name by selling low quality products for the same price i am willing to pay good money for quality products but i cannot stress enough how much it infuriates me to have to pay a high price for poisoning unnatural garbage ingredients  the old formula did great things for my hair and in my line of work i have recommended it to many customers who have asked me what is the best conditioner based on their hair type and i have always steered them toward aubrey knowing that i was recommending a great product now it embarrasses me to know that i may have led people to buy what i thought was a great product but what i now know is new garbage it makes me look like a liar and im offended that aubrey would change their formula to something so cheap and not inform their customers i hope the people at aubrey take note and that other users of the brand speak out against this new horrible change and low standard of products from aubreysincerely froma hurt frustrated and enraged former consumer\n",
       "2153                                                                                                                                                                                                                                                                                                                                                                                                                                                                                                                                                                                                                                                           amaaazingi will never use a nonwen product ever againyou know i read these comments when i orginally researched wen products i was very skepticalveryi was using purology products at the time and thought they were the best thing ever but still didnt like the fact that my healthy hair was starting to look and feel drier than usualdecided to give it a trybest decision i have ever madeafter about 3 weeks of using this product my hair felt smoother looked healthier and had that shine backi was skeptical about the nonsuds factor as well bc i associated clean hair with the squeaky clean feelingi wash my hair every day bc it gets greasy and was worried that wen would create a residue feeling that most other products on the market gave me not soi have continued to wash my hair everyday no residue build up no split endsi was told by wen product support that the whites on the ends of my hair were actually protein buildup from regular shampoos and conditioners not split endscouldnt be a truer statementdont have white dots anymore and its all in one just one bottle and you have your shampoo and conditionerobviously each product works for a different personafter trying all of them the cucumber one was the best for meleft my hair clean smelling great nongreasy managable body and beautiful my husband loves this one because it helps with his dry scalponce you buy it i have a few suggestions use alot i think i use 2025 pumpsi have medium length hair and spread it all over itll feel like a mask product that you would use to condition your hair and rub it in rub but not too hard your scalp and the rest of your head for 35 mins comb through then let it sit for 5 mins a bottle usually lasts me a month and half again this is the regime that works best for meremember that you are only skeptical because you are used to the products on the marketthe same ingrediant in your shampoo now is the same ingrediant that can wash your clothes or clean your body withsodium laurel sulfate every product on the market has that ingrediant except for wen productscheck this outsodium laureth sulfate or sodium lauryl ether sulfate sles is a detergent and surfactant found in many personal care products soaps shampoos toothpaste etc it is an inexpensive and very effective foamersodium laurel sulfateeffects on sensitive skinproducts containing these substances can affect those prone to eczema and other irritants these substances provide a foaming quality to the product allowing for better distribution of the product while washing hair or skin and while brushing teeth when rinsed off the product will have cleaned the area but will have taken moisture from the top layers of skin in people with sensitive skin prone to dermatitis acne eczema psoriasis and chemical sensitivity the drying property of these type of detergents can cause flareups of skin conditions or may worsen existing conditionstry this product best thing you could do for your hair i promise i have been telling all my girls all the salons etc\n",
       "3302                                                                                                                                                                                                                                                                                                                                                                                                                                                                                                                                                                                                                                                                                                                                                                                                                                                                                                                                                                                                                                                                                                                                                                                                                                                                                                                                                                                                                                                                                                                                                                                                                                                                                                                                                                                                                                                                                                                                                                                                                                                                                                                                                                                                                                                                                                                                                                                                                                                                                                                                                                                                                                                                                                                                                                                                                                                                                                                                                                                                                                                                                                                                                                                                     this is another great product from giovanni cosmetics there whole product line is awesome ive never had so many awesome hair days i just puta  some on after washing my hair follow it with their volume boost  takes me 4 mins and my hair looks amazingly healthy  light  and bouncyyou never get that combination with many other leave in conditioners the prime reason i found about this is because they are a cruelty free company  lets keep supporting these companies not only are they being compassionate and socially responsible but they are creating high quality products\n",
       "3309                                                                                                                                                                                                                                                                                                                                                                                                                                                                                                                                                                                                                                                                                                                                                                                                                                                                                                                                                                                                                                                                                                                                                                                                                                                                                                                                                                                                                                                                                                                                                                                                                                                                                                                                                                                                                                                                                                                                                                                                                                                                                                                                                                                                                                                                                                                                                                                                                                                                                                                                                                                                                                                                                                                                                                                                                                                                                                                                                                                                                                                                                                                                                                                                                                                                                                                                                                                    i love this leavein i kept trying different leaveins hoping to find something by an africanamerican owned company that i could support but its a no go this is the best leavein ive tried by far im done searching for others it is very moisturizing light melts in my hair its a good detangler fairly priced and smells good i can also get it at target and the vitamin shoppe so its readily available\n",
       "                                                                                                                                                                                                                                                                                                                                                                                                                                                                                                                                                                                                                                                                                                                                                                                                                                                                                                                                                                                                                                                                                                                                                                                                                                                                                                                                                                                                                                                                                                                                                                                                                                                                                                                                                                                                                                                                                                    ...                                                                                                                                                                                                                                                                                                                                                                                                                                                                                                                                                                                                                                                                                                                                                                                                                                                                                                                                                                                                                                                                                                                                                                                                                                                                                                                                                                                                                                                                                                                                                                                                                                                                                                                                                                                                                                                                                            \n",
       "130142                                                                                                                                                                                                                                                                                                                                                                                                                                                                                                                                                                                                                                                                                                                                                                                                                                                                                                                                                                                                                                                                                                                                                                                                                                                                                                                                                                                                                                                                                                                                                                                                                                                                                                                                                                                                                                                                                                                                                                                                                                                                                                                                                                                                                                                                                                                                                                                                                                                                                                                                                                                                                                                                                                                                                                                                                                                                                                                                                                                                                                                                                                                                                                                                                                                                                                                                                                                                       the best antidandruff shampoo ever the intense cleanse scrub really cleans the scalp and the shampoo has a pleasant clean smell unlike the traditional antidandruff shampoos however it does not appear that stores are stocking this  also it is unclear whether garnier fructis is continuing to support this shampoo line  if you find it  buy it use it and experience it yourself\n",
       "130276                                                                                                                                                                                                                                                                                                                                                                                                                                                                                                                                                                                                                                                                                                                                                                                                                                                                                                                                                                                                                                                                                                                                                                                                                                                                                                                                                                                                                                                                                                                                                                                                                                                                                                                                                                                                                                                                                                                                                                                                                                                                                                                                                                                                                                                                                                                                                                                                                                                                                                                                                                                                                                                                                                                                                                                                                                                                                                                              i seldom write reviews but i find the lack of reviews for this product to be surprising  i was on the prowl for an alternative to the 34peppermint cleanse34 shampoo that i used for years and this is definitely it  good quantity at a reasonable pricewith my short buzzed haircut i prefer a shampoo that leaves my head feeling squeaky clean  this product does just that without having to use a lot of product  as advertised it also has a great smell  it also has a thicker consistency so it doesnt try to run out of your hand before you put it to usethe company also included some general wellness info and small product samples in the box  i havent tried them but my impression is that they put a lot of effort into their products  all organic and vegan approved isnt important to me but its made in the usa which im glad to support\n",
       "130539                                                                                                                                                                                                                                                                                                                                                                                                                                                                                                                                                                                                                                                                                                                                                                                                                                                                                                                                                                                                                                                                                                                                                                                                                                                                                                                                                                                                                                                                                                                                                                                                                                                                                                                                                                                                                                                                                                                                                                                                                                                                                                                                                                                                                                                                                                                                                                                                                                                                                                                                                                                                                                                                                                                                                                                                                                                                                                                                                                                                                                                                                                                                                                                                     i bought this along with the volumifique conditioner  neither did a thing to add volume to my fine thin hair  i used this product before and loved it but apparently kerastase changed the formula  why change a great thing  i am extremely disappointed and contacted kerastase who agreed to return it for a refund  they suggested another line which i will try  i was also disappointed when i received this shampoo two weeks later that it had come from united kingdom  can we not support america first amazon  im sure there is one company in the us that sells this shampoo\n",
       "130559                                                                                                                                                                                                                                                                                                                                                                                                                                                                                                                                                                                                                                                                                                                                                                                                                                                                                                                                                                                                                                                                                                                                                                                                                                                                                                                                                                                                                                                                                                                                                                                                                                                                                                                                                                                                                                                                                                                                                                                                                                                                                                                                                                                                                                                                                                                                                                                                                                                                                                                                                                                                                                                                                                                                                                                                                                                                                                                                                                                                                                                                                                                                                                                                                                                                                                                                                                                         unfortunately i am disappointed in this product visually it is quite nice looking functionality it is poorly made the bottom base is way to small to properly support and handle the large seat it is very unstable and wobbly the directions were horrific at best the pictured diagram where inconclusive the statement a single person can put this together is a falsehood as far as i concerned\n",
       "131042                                                                                                                                                                                                                                                                                                                                                                                                                                                                                                                                                                                                                                                                                                                                                                                                                                                                                                                                                                                                                                                                                                                                                                                                                                                                                                                                                                                                                                                                                                                                                                                                                                                                                                                                                                                                                                                       this is a product i was so interested in trying its another wonderful pura dor brand sold by vitals international group a company that sells the most potent and good for you natural hair and skin care products  now why was i so interested well ive dealt with a lot of stress and being bipolar has its ups and downs which doesnt help in my case therefore my hair has changed over the years from being super thick to becoming much finer and thinner i dont really have a problem with my hair but sometimes i do notice that i feel a bit selfconscious because of it  so when i received this bottle of pura dor premium organic antihair loss shampoo gold label i knew i might have a chance to keep my hair safe from dropping anymorehere is some information about this product antihair loss formula with active dht blocker100 natural preservative system no sls no parabens no harsh chemicalssupports healthy scalp hair follicles and cell growthadds body increases volume and thickens hairfor all hair type men and women and color safei think this is one product that you will be better off trying first than trying those name brands what i love about this product is that its all natural and safe for everyone to usethere is never a bad time to replace your old shampoo for something that can keep your hair from becoming lifeless and thinnerthe added dht blocker helps prevent hair loss and the nourishing ingredients help feed the scalp and your hair to become shiny full of life bounce and increase growthwhen i used this product i notice after wards the shine that appeared due to the argan oil one of the ingredients in the product i also notice the lovely smell and how soft my hair looked as well as how much more movement it hadyou will not regret purchasing this before trying a product made of chemicals and ingredients that will ruin your hair in the long run\n",
       "Name: review, Length: 180, dtype: object"
      ]
     },
     "metadata": {
      "tags": []
     },
     "output_type": "display_data"
    }
   ],
   "source": [
    "with pd.option_context ('display.max_colwidth', None):\n",
    "  display(text_df[text_df.review.str.contains('support')].review)"
   ]
  },
  {
   "cell_type": "code",
   "execution_count": null,
   "metadata": {
    "id": "gatdD4RUiOx1"
   },
   "outputs": [],
   "source": [
    "delivery_idx = sorted(delivery_idx)"
   ]
  },
  {
   "cell_type": "code",
   "execution_count": null,
   "metadata": {
    "id": "ngQjHTJrpR0j"
   },
   "outputs": [],
   "source": [
    "long_text_512_idx_list = list(text_df[text_df.loc[:,'review'].str.len() >=1999].review.index)"
   ]
  },
  {
   "cell_type": "code",
   "execution_count": null,
   "metadata": {
    "colab": {
     "base_uri": "https://localhost:8080/"
    },
    "id": "onnQN9-hqKfg",
    "outputId": "5dae483c-5e9d-4979-9fdf-9c98287974e8"
   },
   "outputs": [
    {
     "data": {
      "text/plain": [
       "13"
      ]
     },
     "execution_count": 82,
     "metadata": {
      "tags": []
     },
     "output_type": "execute_result"
    }
   ],
   "source": [
    "delivery_index_removed = [x  for x in delivery_idx if x in long_text_512_idx_list]\n",
    "len(delivery_index_removed)"
   ]
  },
  {
   "cell_type": "code",
   "execution_count": null,
   "metadata": {
    "id": "psNh8GbQsFUc"
   },
   "outputs": [],
   "source": [
    "#update delivery index\n",
    "#delivery_idx.remove(delivery_index_removed)\n",
    "#remove extremel long text which this package can not handle\n",
    "delivery_idx =[x for x in delivery_idx if x not in delivery_index_removed]"
   ]
  },
  {
   "cell_type": "code",
   "execution_count": null,
   "metadata": {
    "colab": {
     "base_uri": "https://localhost:8080/"
    },
    "id": "x4FZEoN64CuD",
    "outputId": "10b10893-2dfa-403f-df5f-1067c58000ef"
   },
   "outputs": [
    {
     "data": {
      "text/plain": [
       "1243"
      ]
     },
     "execution_count": 84,
     "metadata": {
      "tags": []
     },
     "output_type": "execute_result"
    }
   ],
   "source": [
    "len(delivery_idx)"
   ]
  },
  {
   "cell_type": "code",
   "execution_count": null,
   "metadata": {
    "colab": {
     "base_uri": "https://localhost:8080/"
    },
    "id": "GeUSHUo3szub",
    "outputId": "6a05838f-9846-43fa-af8d-39ec7a4f2c72"
   },
   "outputs": [
    {
     "name": "stdout",
     "output_type": "stream",
     "text": [
      "356 1901\n",
      "404 1959\n"
     ]
    }
   ],
   "source": [
    "n = 350\n",
    "for idx in delivery_idx[350:450]:\n",
    "  if len(text_df.review.iloc[idx]) >1900:\n",
    "    print(n, len(text_df.review.iloc[idx]))\n",
    "  n+=1"
   ]
  },
  {
   "cell_type": "code",
   "execution_count": null,
   "metadata": {
    "colab": {
     "base_uri": "https://localhost:8080/"
    },
    "id": "OaDymkYx8rcN",
    "outputId": "35fced0d-2b6f-484f-86fc-02a5be8ac9d3"
   },
   "outputs": [
    {
     "data": {
      "text/plain": [
       "CompletedTask(text='dont be fooled because this conditioner is not expensive  this is one of the best conditioners i have ever used and i have paid for some of the best  neutrogena clean conditoner rinses clean so your hair feels nice and clean and full of body and you only need to use the smallest amount', aspects=['delivery', 'shipment'], subtasks=OrderedDict([('delivery', CompletedSubTask(text='dont be fooled because this conditioner is not expensive  this is one of the best conditioners i have ever used and i have paid for some of the best  neutrogena clean conditoner rinses clean so your hair feels nice and clean and full of body and you only need to use the smallest amount', aspect='delivery', examples=[PredictedExample(text='dont be fooled because this conditioner is not expensive  this is one of the best conditioners i have ever used and i have paid for some of the best  neutrogena clean conditoner rinses clean so your hair feels nice and clean and full of body and you only need to use the smallest amount', aspect='delivery', sentiment=<Sentiment.negative: 1>, text_tokens=['dont', 'be', 'fooled', 'because', 'this', 'conditioner', 'is', 'not', 'expensive', 'this', 'is', 'one', 'of', 'the', 'best', 'conditioners', 'i', 'have', 'ever', 'used', 'and', 'i', 'have', 'paid', 'for', 'some', 'of', 'the', 'best', 'neutrogena', 'clean', 'conditoner', 'rinses', 'clean', 'so', 'your', 'hair', 'feels', 'nice', 'and', 'clean', 'and', 'full', 'of', 'body', 'and', 'you', 'only', 'need', 'to', 'use', 'the', 'smallest', 'amount'], text_subtokens=['don', '##t', 'be', 'fooled', 'because', 'this', 'condition', '##er', 'is', 'not', 'expensive', 'this', 'is', 'one', 'of', 'the', 'best', 'condition', '##ers', 'i', 'have', 'ever', 'used', 'and', 'i', 'have', 'paid', 'for', 'some', 'of', 'the', 'best', 'ne', '##ut', '##rogen', '##a', 'clean', 'con', '##dit', '##one', '##r', 'ri', '##nse', '##s', 'clean', 'so', 'your', 'hair', 'feels', 'nice', 'and', 'clean', 'and', 'full', 'of', 'body', 'and', 'you', 'only', 'need', 'to', 'use', 'the', 'smallest', 'amount'], aspect_tokens=['delivery'], aspect_subtokens=['delivery'], tokens=['[CLS]', 'dont', 'be', 'fooled', 'because', 'this', 'conditioner', 'is', 'not', 'expensive', 'this', 'is', 'one', 'of', 'the', 'best', 'conditioners', 'i', 'have', 'ever', 'used', 'and', 'i', 'have', 'paid', 'for', 'some', 'of', 'the', 'best', 'neutrogena', 'clean', 'conditoner', 'rinses', 'clean', 'so', 'your', 'hair', 'feels', 'nice', 'and', 'clean', 'and', 'full', 'of', 'body', 'and', 'you', 'only', 'need', 'to', 'use', 'the', 'smallest', 'amount', '[SEP]', 'delivery', '[SEP]'], subtokens=['[CLS]', 'don', '##t', 'be', 'fooled', 'because', 'this', 'condition', '##er', 'is', 'not', 'expensive', 'this', 'is', 'one', 'of', 'the', 'best', 'condition', '##ers', 'i', 'have', 'ever', 'used', 'and', 'i', 'have', 'paid', 'for', 'some', 'of', 'the', 'best', 'ne', '##ut', '##rogen', '##a', 'clean', 'con', '##dit', '##one', '##r', 'ri', '##nse', '##s', 'clean', 'so', 'your', 'hair', 'feels', 'nice', 'and', 'clean', 'and', 'full', 'of', 'body', 'and', 'you', 'only', 'need', 'to', 'use', 'the', 'smallest', 'amount', '[SEP]', 'delivery', '[SEP]'], alignment=[[0], [1, 2], [3], [4], [5], [6], [7, 8], [9], [10], [11], [12], [13], [14], [15], [16], [17], [18, 19], [20], [21], [22], [23], [24], [25], [26], [27], [28], [29], [30], [31], [32], [33, 34, 35, 36], [37], [38, 39, 40, 41], [42, 43, 44], [45], [46], [47], [48], [49], [50], [51], [52], [53], [54], [55], [56], [57], [58], [59], [60], [61], [62], [63], [64], [65], [66], [67], [68]], scores=[0.24111986, 0.6293446, 0.12953556], review=Review(is_reference=None, patterns=None))], sentiment=<Sentiment.negative: 1>, scores=[0.24111986, 0.6293446, 0.12953556])), ('shipment', CompletedSubTask(text='dont be fooled because this conditioner is not expensive  this is one of the best conditioners i have ever used and i have paid for some of the best  neutrogena clean conditoner rinses clean so your hair feels nice and clean and full of body and you only need to use the smallest amount', aspect='shipment', examples=[PredictedExample(text='dont be fooled because this conditioner is not expensive  this is one of the best conditioners i have ever used and i have paid for some of the best  neutrogena clean conditoner rinses clean so your hair feels nice and clean and full of body and you only need to use the smallest amount', aspect='shipment', sentiment=<Sentiment.negative: 1>, text_tokens=['dont', 'be', 'fooled', 'because', 'this', 'conditioner', 'is', 'not', 'expensive', 'this', 'is', 'one', 'of', 'the', 'best', 'conditioners', 'i', 'have', 'ever', 'used', 'and', 'i', 'have', 'paid', 'for', 'some', 'of', 'the', 'best', 'neutrogena', 'clean', 'conditoner', 'rinses', 'clean', 'so', 'your', 'hair', 'feels', 'nice', 'and', 'clean', 'and', 'full', 'of', 'body', 'and', 'you', 'only', 'need', 'to', 'use', 'the', 'smallest', 'amount'], text_subtokens=['don', '##t', 'be', 'fooled', 'because', 'this', 'condition', '##er', 'is', 'not', 'expensive', 'this', 'is', 'one', 'of', 'the', 'best', 'condition', '##ers', 'i', 'have', 'ever', 'used', 'and', 'i', 'have', 'paid', 'for', 'some', 'of', 'the', 'best', 'ne', '##ut', '##rogen', '##a', 'clean', 'con', '##dit', '##one', '##r', 'ri', '##nse', '##s', 'clean', 'so', 'your', 'hair', 'feels', 'nice', 'and', 'clean', 'and', 'full', 'of', 'body', 'and', 'you', 'only', 'need', 'to', 'use', 'the', 'smallest', 'amount'], aspect_tokens=['shipment'], aspect_subtokens=['shipment'], tokens=['[CLS]', 'dont', 'be', 'fooled', 'because', 'this', 'conditioner', 'is', 'not', 'expensive', 'this', 'is', 'one', 'of', 'the', 'best', 'conditioners', 'i', 'have', 'ever', 'used', 'and', 'i', 'have', 'paid', 'for', 'some', 'of', 'the', 'best', 'neutrogena', 'clean', 'conditoner', 'rinses', 'clean', 'so', 'your', 'hair', 'feels', 'nice', 'and', 'clean', 'and', 'full', 'of', 'body', 'and', 'you', 'only', 'need', 'to', 'use', 'the', 'smallest', 'amount', '[SEP]', 'shipment', '[SEP]'], subtokens=['[CLS]', 'don', '##t', 'be', 'fooled', 'because', 'this', 'condition', '##er', 'is', 'not', 'expensive', 'this', 'is', 'one', 'of', 'the', 'best', 'condition', '##ers', 'i', 'have', 'ever', 'used', 'and', 'i', 'have', 'paid', 'for', 'some', 'of', 'the', 'best', 'ne', '##ut', '##rogen', '##a', 'clean', 'con', '##dit', '##one', '##r', 'ri', '##nse', '##s', 'clean', 'so', 'your', 'hair', 'feels', 'nice', 'and', 'clean', 'and', 'full', 'of', 'body', 'and', 'you', 'only', 'need', 'to', 'use', 'the', 'smallest', 'amount', '[SEP]', 'shipment', '[SEP]'], alignment=[[0], [1, 2], [3], [4], [5], [6], [7, 8], [9], [10], [11], [12], [13], [14], [15], [16], [17], [18, 19], [20], [21], [22], [23], [24], [25], [26], [27], [28], [29], [30], [31], [32], [33, 34, 35, 36], [37], [38, 39, 40, 41], [42, 43, 44], [45], [46], [47], [48], [49], [50], [51], [52], [53], [54], [55], [56], [57], [58], [59], [60], [61], [62], [63], [64], [65], [66], [67], [68]], scores=[0.27893904, 0.4158168, 0.30524412], review=Review(is_reference=None, patterns=None))], sentiment=<Sentiment.negative: 1>, scores=[0.27893904, 0.4158168, 0.30524412]))]))"
      ]
     },
     "execution_count": 111,
     "metadata": {
      "tags": []
     },
     "output_type": "execute_result"
    }
   ],
   "source": [
    "nlp(text_df.review.iloc[404], aspects=['delivery','shipment'])"
   ]
  },
  {
   "cell_type": "code",
   "execution_count": null,
   "metadata": {
    "colab": {
     "base_uri": "https://localhost:8080/"
    },
    "id": "jueQlgeB57ob",
    "outputId": "47718925-c7ca-4ef2-dc95-21ba4527c811"
   },
   "outputs": [
    {
     "data": {
      "text/plain": [
       "1243"
      ]
     },
     "execution_count": 114,
     "metadata": {
      "tags": []
     },
     "output_type": "execute_result"
    }
   ],
   "source": [
    "len(delivery_idx)"
   ]
  },
  {
   "cell_type": "code",
   "execution_count": null,
   "metadata": {
    "id": "pl05vbopgExX"
   },
   "outputs": [],
   "source": [
    "for idx in delivery_idx[:1243]: \n",
    "  delivery, shipment = nlp(text_df.review.iloc[idx], aspects=['delivery','shipment'])\n",
    "  text_df.loc[idx, 'neu_delivery'] = delivery.scores[0]\n",
    "  text_df.loc[idx,'neg_delivery'] = delivery.scores[1]\n",
    "  text_df.loc[idx,'pos_delivery'] = delivery.scores[2]\n",
    "  text_df.loc[idx, 'neu_shipment'] = shipment.scores[0]\n",
    "  text_df.loc[idx,'neg_shipment'] = shipment.scores[1]\n",
    "  text_df.loc[idx,'pos_shipment'] = shipment.scores[2]"
   ]
  },
  {
   "cell_type": "code",
   "execution_count": null,
   "metadata": {
    "id": "PqzMYFCKPgDU"
   },
   "outputs": [],
   "source": [
    "# impute na by zero \n",
    "text_df = text_df.fillna(0)"
   ]
  },
  {
   "cell_type": "code",
   "execution_count": null,
   "metadata": {
    "colab": {
     "base_uri": "https://localhost:8080/",
     "height": 202
    },
    "id": "Eu3QbuB2PlgW",
    "outputId": "76f62cb7-6289-41d0-b0ad-37eebc4553d8"
   },
   "outputs": [
    {
     "data": {
      "text/html": [
       "<div>\n",
       "<style scoped>\n",
       "    .dataframe tbody tr th:only-of-type {\n",
       "        vertical-align: middle;\n",
       "    }\n",
       "\n",
       "    .dataframe tbody tr th {\n",
       "        vertical-align: top;\n",
       "    }\n",
       "\n",
       "    .dataframe thead th {\n",
       "        text-align: right;\n",
       "    }\n",
       "</style>\n",
       "<table border=\"1\" class=\"dataframe\">\n",
       "  <thead>\n",
       "    <tr style=\"text-align: right;\">\n",
       "      <th></th>\n",
       "      <th>review</th>\n",
       "      <th>Ori_index</th>\n",
       "      <th>neu_delivery</th>\n",
       "      <th>neg_delivery</th>\n",
       "      <th>pos_delivery</th>\n",
       "      <th>neu_shipment</th>\n",
       "      <th>neg_shipment</th>\n",
       "      <th>pos_shipment</th>\n",
       "    </tr>\n",
       "  </thead>\n",
       "  <tbody>\n",
       "    <tr>\n",
       "      <th>0</th>\n",
       "      <td>this was a good buy great shampoo and conditio...</td>\n",
       "      <td>0</td>\n",
       "      <td>0.000000</td>\n",
       "      <td>0.000000</td>\n",
       "      <td>0.00000</td>\n",
       "      <td>0.000000</td>\n",
       "      <td>0.000000</td>\n",
       "      <td>0.000000</td>\n",
       "    </tr>\n",
       "    <tr>\n",
       "      <th>1</th>\n",
       "      <td>i have used kms in the past and always loved t...</td>\n",
       "      <td>1</td>\n",
       "      <td>0.000000</td>\n",
       "      <td>0.000000</td>\n",
       "      <td>0.00000</td>\n",
       "      <td>0.000000</td>\n",
       "      <td>0.000000</td>\n",
       "      <td>0.000000</td>\n",
       "    </tr>\n",
       "    <tr>\n",
       "      <th>2</th>\n",
       "      <td>i remember kms products being a prestige salon...</td>\n",
       "      <td>2</td>\n",
       "      <td>0.000000</td>\n",
       "      <td>0.000000</td>\n",
       "      <td>0.00000</td>\n",
       "      <td>0.000000</td>\n",
       "      <td>0.000000</td>\n",
       "      <td>0.000000</td>\n",
       "    </tr>\n",
       "    <tr>\n",
       "      <th>3</th>\n",
       "      <td>this is a wonderful shampoo doesnt make your h...</td>\n",
       "      <td>3</td>\n",
       "      <td>0.002123</td>\n",
       "      <td>0.001227</td>\n",
       "      <td>0.99665</td>\n",
       "      <td>0.148797</td>\n",
       "      <td>0.167336</td>\n",
       "      <td>0.683867</td>\n",
       "    </tr>\n",
       "    <tr>\n",
       "      <th>4</th>\n",
       "      <td>i have a very dry frizzy hair i have tried man...</td>\n",
       "      <td>4</td>\n",
       "      <td>0.000000</td>\n",
       "      <td>0.000000</td>\n",
       "      <td>0.00000</td>\n",
       "      <td>0.000000</td>\n",
       "      <td>0.000000</td>\n",
       "      <td>0.000000</td>\n",
       "    </tr>\n",
       "  </tbody>\n",
       "</table>\n",
       "</div>"
      ],
      "text/plain": [
       "                                              review  ...  pos_shipment\n",
       "0  this was a good buy great shampoo and conditio...  ...      0.000000\n",
       "1  i have used kms in the past and always loved t...  ...      0.000000\n",
       "2  i remember kms products being a prestige salon...  ...      0.000000\n",
       "3  this is a wonderful shampoo doesnt make your h...  ...      0.683867\n",
       "4  i have a very dry frizzy hair i have tried man...  ...      0.000000\n",
       "\n",
       "[5 rows x 8 columns]"
      ]
     },
     "execution_count": 133,
     "metadata": {
      "tags": []
     },
     "output_type": "execute_result"
    }
   ],
   "source": [
    "text_df.head()"
   ]
  },
  {
   "cell_type": "code",
   "execution_count": null,
   "metadata": {
    "id": "pAFPgEtaPosz"
   },
   "outputs": [],
   "source": [
    "#overall sentiment score output\n",
    "#merge dataset\n",
    "path2= '/content/drive/MyDrive/5153/meta_and_review_Overall_sentiment.csv'\n",
    "df_sentiment = pd.read_csv(path2)"
   ]
  },
  {
   "cell_type": "code",
   "execution_count": null,
   "metadata": {
    "id": "pxYu4jbSQowh"
   },
   "outputs": [],
   "source": [
    "df_sentiment.dropna(subset=['review'], axis=0, inplace=True)"
   ]
  },
  {
   "cell_type": "code",
   "execution_count": null,
   "metadata": {
    "colab": {
     "base_uri": "https://localhost:8080/"
    },
    "id": "A93BlvKTPovW",
    "outputId": "c9b107b4-bc01-4da2-9aa3-016c05fde7c6"
   },
   "outputs": [
    {
     "name": "stdout",
     "output_type": "stream",
     "text": [
      "(133159, 13) (133159, 17)\n"
     ]
    }
   ],
   "source": [
    "#df na removed\n",
    "print(df.shape, df_sentiment.shape)"
   ]
  },
  {
   "cell_type": "code",
   "execution_count": null,
   "metadata": {
    "id": "u8AZymqCQQ47"
   },
   "outputs": [],
   "source": [
    "df_full = df_sentiment.merge(text_df, how = 'left', left_index=True, right_on= 'Ori_index')"
   ]
  },
  {
   "cell_type": "code",
   "execution_count": null,
   "metadata": {
    "id": "O6JXhXYmQQ8L"
   },
   "outputs": [],
   "source": [
    "df_full.rename(columns = {'review_x':'review'},inplace=True)\n",
    "df_full.drop(['Ori_index', 'review_y'], axis=1, inplace=True)"
   ]
  },
  {
   "cell_type": "code",
   "execution_count": null,
   "metadata": {
    "colab": {
     "base_uri": "https://localhost:8080/",
     "height": 141
    },
    "id": "_bNJh7CAWwd5",
    "outputId": "875ba84f-1e11-444a-c4a0-408a94bfdc35"
   },
   "outputs": [
    {
     "data": {
      "text/plain": [
       "0                                                                                                                                                                                                                                         this was a good buy great shampoo and conditioner im pregnant right now and for some reason by hairs really dry and these products did the trick\n",
       "1                                                                                                                                                                                                                                                                           i have used kms in the past and always loved their products this time around im not sure if i liked it as much\n",
       "2                                                             i remember kms products being a prestige salon brand from the late 70s early 80s then they seemed to disappear  i use this as one of the rotating conditioners after washing vinegar rinsing my henna colored hair  you only need a small amount and it does a beautiful job  also another item from amazon at a great price\n",
       "3                                                                                                                                              this is a wonderful shampoo doesnt make your hair too soft doesnt make it dandruffy your scalp doesnt itch afterwards hair is glossy etc isnt cheap but really good just compare the prices online and pick the cheapest with free delivery\n",
       "4    i have a very dry frizzy hair i have tried many hair products and cannot make it look sleek i bought kms product through my friend recommendation it was not overnight change but after a month my hair looks much sleek the conditioner is very rich and i do like the light smell a lotthe product arrives on time although the package looks different from what is on the picture\n",
       "Name: review, dtype: object"
      ]
     },
     "metadata": {
      "tags": []
     },
     "output_type": "display_data"
    }
   ],
   "source": [
    "with pd.option_context ('display.max_colwidth', None):\n",
    "  display(df_full.iloc[:5].review)"
   ]
  },
  {
   "cell_type": "code",
   "execution_count": null,
   "metadata": {
    "id": "TLr1cYxuQRAJ"
   },
   "outputs": [],
   "source": [
    "df_full.loc[:, 'review_len'] = df_full.review.str.len()"
   ]
  },
  {
   "cell_type": "code",
   "execution_count": null,
   "metadata": {
    "colab": {
     "base_uri": "https://localhost:8080/"
    },
    "id": "CwIkVUQpXiun",
    "outputId": "d1750c5a-346f-462d-dbae-e6ae87e79e65"
   },
   "outputs": [
    {
     "name": "stdout",
     "output_type": "stream",
     "text": [
      "(133159, 24)\n"
     ]
    }
   ],
   "source": [
    "df_full.head()\n",
    "print(df_full.shape)"
   ]
  },
  {
   "cell_type": "code",
   "execution_count": null,
   "metadata": {
    "colab": {
     "base_uri": "https://localhost:8080/",
     "height": 17
    },
    "id": "GJbXQC2kXhw0",
    "outputId": "979c5eac-9206-4491-b7fa-5d304cc2bb6b"
   },
   "outputs": [
    {
     "data": {
      "application/javascript": [
       "\n",
       "    async function download(id, filename, size) {\n",
       "      if (!google.colab.kernel.accessAllowed) {\n",
       "        return;\n",
       "      }\n",
       "      const div = document.createElement('div');\n",
       "      const label = document.createElement('label');\n",
       "      label.textContent = `Downloading \"${filename}\": `;\n",
       "      div.appendChild(label);\n",
       "      const progress = document.createElement('progress');\n",
       "      progress.max = size;\n",
       "      div.appendChild(progress);\n",
       "      document.body.appendChild(div);\n",
       "\n",
       "      const buffers = [];\n",
       "      let downloaded = 0;\n",
       "\n",
       "      const channel = await google.colab.kernel.comms.open(id);\n",
       "      // Send a message to notify the kernel that we're ready.\n",
       "      channel.send({})\n",
       "\n",
       "      for await (const message of channel.messages) {\n",
       "        // Send a message to notify the kernel that we're ready.\n",
       "        channel.send({})\n",
       "        if (message.buffers) {\n",
       "          for (const buffer of message.buffers) {\n",
       "            buffers.push(buffer);\n",
       "            downloaded += buffer.byteLength;\n",
       "            progress.value = downloaded;\n",
       "          }\n",
       "        }\n",
       "      }\n",
       "      const blob = new Blob(buffers, {type: 'application/binary'});\n",
       "      const a = document.createElement('a');\n",
       "      a.href = window.URL.createObjectURL(blob);\n",
       "      a.download = filename;\n",
       "      div.appendChild(a);\n",
       "      a.click();\n",
       "      div.remove();\n",
       "    }\n",
       "  "
      ],
      "text/plain": [
       "<IPython.core.display.Javascript object>"
      ]
     },
     "metadata": {
      "tags": []
     },
     "output_type": "display_data"
    },
    {
     "data": {
      "application/javascript": [
       "download(\"download_404dd91f-9272-4ef7-803c-43d416f69d01\", \"meta_and_review_sentiment_aspect_delivery.csv\", 80682930)"
      ],
      "text/plain": [
       "<IPython.core.display.Javascript object>"
      ]
     },
     "metadata": {
      "tags": []
     },
     "output_type": "display_data"
    }
   ],
   "source": [
    "df_full.to_csv('meta_and_review_sentiment_aspect_delivery.csv', index=None)\n",
    "files.download('meta_and_review_sentiment_aspect_delivery.csv')"
   ]
  },
  {
   "cell_type": "code",
   "execution_count": null,
   "metadata": {
    "id": "oY1aXmCiFY7n"
   },
   "outputs": [],
   "source": []
  }
 ],
 "metadata": {
  "colab": {
   "name": "5153 Aspect based sentiment analysis full - rerun null reviews based on review summary",
   "provenance": []
  },
  "kernelspec": {
   "display_name": "Python 3",
   "language": "python",
   "name": "python3"
  },
  "language_info": {
   "codemirror_mode": {
    "name": "ipython",
    "version": 3
   },
   "file_extension": ".py",
   "mimetype": "text/x-python",
   "name": "python",
   "nbconvert_exporter": "python",
   "pygments_lexer": "ipython3",
   "version": "3.6.4"
  }
 },
 "nbformat": 4,
 "nbformat_minor": 1
}
