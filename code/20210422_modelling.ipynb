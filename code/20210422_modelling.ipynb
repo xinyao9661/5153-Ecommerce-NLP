{
 "cells": [
  {
   "cell_type": "code",
   "execution_count": 1,
   "metadata": {},
   "outputs": [],
   "source": [
    "import pandas as pd\n",
    "import numpy as np\n",
    "from sklearn.model_selection import train_test_split\n",
    "import statsmodels.api as sm\n",
    "from sklearn.ensemble import RandomForestRegressor\n",
    "from sklearn.metrics import r2_score\n",
    "from sklearn.preprocessing import LabelEncoder\n",
    "pd.set_option('display.max_columns', 500)"
   ]
  },
  {
   "cell_type": "code",
   "execution_count": 2,
   "metadata": {},
   "outputs": [],
   "source": [
    "df1 = pd.read_csv('functions_and_aspects_v2.csv', converters = {'asin': str, 'unixReviewTime': str})\n",
    "df2 = pd.read_csv('meta_and_review_sentiment_delivery_customer_package_price_updated.csv',converters = {'asin': str, 'unixReviewTime': str})"
   ]
  },
  {
   "cell_type": "code",
   "execution_count": 3,
   "metadata": {},
   "outputs": [],
   "source": [
    "df1['map_id'] = df1['asin'] + df1['unixReviewTime'] + df1['reviewerID']\n",
    "df2['map_id'] = df2['asin'] + df2['unixReviewTime'] + df2['reviewerID']"
   ]
  },
  {
   "cell_type": "code",
   "execution_count": 4,
   "metadata": {},
   "outputs": [],
   "source": [
    "package_sentiment = ['polarity_score', 'neutral_score', 'negative_score',\n",
    "       'positive_score', 'neu_delivery', 'neg_delivery', 'pos_delivery',\n",
    "       'neu_shipment', 'neg_shipment', 'pos_shipment', 'review_len',\n",
    "       'neu_return_policy', 'neg_return_policy', 'pos_return_policy',\n",
    "       'neu_exchange', 'neg_exchange', 'pos_exchange', 'neu_service',\n",
    "       'neg_service', 'pos_service', 'neu_support', 'neg_support',\n",
    "       'pos_support', 'neu_pack', 'neg_pack', 'pos_pack', 'neu_package',\n",
    "       'neg_package', 'pos_package', 'neu_price', 'neg_price', 'pos_price']"
   ]
  },
  {
   "cell_type": "code",
   "execution_count": 5,
   "metadata": {},
   "outputs": [],
   "source": [
    "for i in package_sentiment:\n",
    "    df2 = df2.rename(columns = {i: i+'_package'})"
   ]
  },
  {
   "cell_type": "code",
   "execution_count": 6,
   "metadata": {},
   "outputs": [],
   "source": [
    "df2 = df2[['polarity_score_package', 'neutral_score_package',\n",
    "       'negative_score_package', 'positive_score_package',\n",
    "       'neu_delivery_package', 'neg_delivery_package', 'pos_delivery_package',\n",
    "       'neu_shipment_package', 'neg_shipment_package', 'pos_shipment_package',\n",
    "       'review_len_package', 'neu_return_policy_package',\n",
    "       'neg_return_policy_package', 'pos_return_policy_package',\n",
    "       'neu_exchange_package', 'neg_exchange_package', 'pos_exchange_package',\n",
    "       'neu_service_package', 'neg_service_package', 'pos_service_package',\n",
    "       'neu_support_package', 'neg_support_package', 'pos_support_package',\n",
    "       'neu_pack_package', 'neg_pack_package', 'pos_pack_package',\n",
    "       'neu_package_package', 'neg_package_package', 'pos_package_package',\n",
    "       'neu_price_package', 'neg_price_package', 'pos_price_package',\n",
    "       'map_id']]"
   ]
  },
  {
   "cell_type": "code",
   "execution_count": 7,
   "metadata": {},
   "outputs": [],
   "source": [
    "df = pd.merge(df1, df2, how = 'inner', on = 'map_id')"
   ]
  },
  {
   "cell_type": "code",
   "execution_count": 8,
   "metadata": {},
   "outputs": [],
   "source": [
    "df['helpful_senti_package'] = df['helpful_overall'] * df['polarity_score_package']"
   ]
  },
  {
   "cell_type": "code",
   "execution_count": 9,
   "metadata": {},
   "outputs": [],
   "source": [
    "df[['negative_score_package','neg_delivery_package', 'neg_shipment_package', 'neg_return_policy_package',\n",
    "    'neg_exchange_package',  'neg_service_package',  'neg_support_package',  'neg_pack_package',\n",
    "    'neg_package_package', 'neg_price_package']] = df[['negative_score_package','neg_delivery_package', 'neg_shipment_package', 'neg_return_policy_package',\n",
    "    'neg_exchange_package',  'neg_service_package',  'neg_support_package',  'neg_pack_package',\n",
    "    'neg_package_package', 'neg_price_package']] *-1"
   ]
  },
  {
   "cell_type": "code",
   "execution_count": 10,
   "metadata": {},
   "outputs": [],
   "source": [
    "# function to groupby the data\n",
    "def group_by_prod_1 (df):\n",
    "    to_average = ['net_len', 'helpful_overall', 'helpful_positive','t_func_cleansing',\n",
    "              'r_func_cleansing', 't_func_dandruff','r_func_dandruff', 't_func_growth',\n",
    "              'r_func_growth', 't_func_moisture', 'r_func_moisture', 't_func_repair',\n",
    "              'r_func_repair', 't_func_color','r_func_color', 'satisfactory', 'temp', \n",
    "              'pos_delivery', 'neg_delivery', 'polarity_delivery', 'pos_price', 'neg_price',\n",
    "              'polarity_price', 'pos_service', 'neg_service', 'polarity_service', \n",
    "              'pos_package', 'neg_package', 'polarity_package', 'salesRank',\n",
    "              'polarity_score_package', 'negative_score_package','positive_score_package',\n",
    "              'neg_delivery_package', 'pos_delivery_package', 'neg_shipment_package',\n",
    "              'pos_shipment_package', 'neg_return_policy_package','pos_return_policy_package', \n",
    "              'neg_exchange_package', 'pos_exchange_package',  'neg_service_package',\n",
    "              'pos_service_package',  'neg_support_package', 'pos_support_package', \n",
    "              'neg_pack_package', 'pos_pack_package', 'neg_package_package', \n",
    "              'pos_package_package','neg_price_package', 'pos_price_package', 'helpful_senti_package']\n",
    "    for i in to_average:\n",
    "        df[i + \"_avg\"] = df[i].mean()\n",
    "    df['numbers_of_reviews'] = df['title'].count()\n",
    "    df['numbers_of_reviewers'] = df['reviewerID'].count()\n",
    "    # other calculations to add\n",
    "    return df"
   ]
  },
  {
   "cell_type": "code",
   "execution_count": 11,
   "metadata": {},
   "outputs": [],
   "source": [
    "# function to groupby the data\n",
    "def group_by_prod_2 (df):\n",
    "    to_average = ['net_len', 'helpful_overall', 'helpful_positive','t_func_cleansing',\n",
    "              'r_func_cleansing', 't_func_dandruff','r_func_dandruff', 't_func_growth',\n",
    "              'r_func_growth', 't_func_moisture', 'r_func_moisture', 't_func_repair',\n",
    "              'r_func_repair', 't_func_color','r_func_color', 'satisfactory', 'temp','helpful_senti_package', 'salesRank',]\n",
    "    \n",
    "    to_average_without0 = ['pos_delivery', 'neg_delivery', 'polarity_delivery', 'pos_price', 'neg_price',\n",
    "              'polarity_price', 'pos_service', 'neg_service', 'polarity_service', \n",
    "              'pos_package', 'neg_package', 'polarity_package', \n",
    "              'polarity_score_package', 'negative_score_package','positive_score_package',\n",
    "              'neg_delivery_package', 'pos_delivery_package', 'neg_shipment_package',\n",
    "              'pos_shipment_package', 'neg_return_policy_package','pos_return_policy_package', \n",
    "              'neg_exchange_package', 'pos_exchange_package',  'neg_service_package',\n",
    "              'pos_service_package',  'neg_support_package', 'pos_support_package', \n",
    "              'neg_pack_package', 'pos_pack_package', 'neg_package_package', \n",
    "              'pos_package_package','neg_price_package', 'pos_price_package', ]\n",
    "\n",
    "    for i in to_average:\n",
    "        df[i + \"_avg\"] = df[i].mean()\n",
    "    for i in to_average_without0:\n",
    "        df[i + \"_avg\"] = df[i][df[i]>0].mean()\n",
    "\n",
    "    df['numbers_of_reviews'] = df['title'].count()\n",
    "    df['numbers_of_reviewers'] = df['reviewerID'].count()\n",
    "    \n",
    "    return df"
   ]
  },
  {
   "cell_type": "code",
   "execution_count": 12,
   "metadata": {},
   "outputs": [],
   "source": [
    "prod1 = df.groupby('asin').apply(group_by_prod_1)\n",
    "prod2 = df.groupby('asin').apply(group_by_prod_2)"
   ]
  },
  {
   "cell_type": "code",
   "execution_count": 13,
   "metadata": {},
   "outputs": [],
   "source": [
    "a = prod1.copy()\n",
    "b = prod2.copy()"
   ]
  },
  {
   "cell_type": "code",
   "execution_count": 14,
   "metadata": {},
   "outputs": [],
   "source": [
    "prod1 = prod1.drop_duplicates(subset = 'asin')\n",
    "prod2 = prod2.drop_duplicates(subset = 'asin')"
   ]
  },
  {
   "cell_type": "code",
   "execution_count": 15,
   "metadata": {},
   "outputs": [],
   "source": [
    "prod1 = prod1.drop(columns = ['net_len', 'helpful_overall', 'helpful_positive','t_func_cleansing',\n",
    "              'r_func_cleansing', 't_func_dandruff','r_func_dandruff', 't_func_growth',\n",
    "              'r_func_growth', 't_func_moisture', 'r_func_moisture', 't_func_repair',\n",
    "              'r_func_repair', 't_func_color','r_func_color', 'satisfactory', 'temp', \n",
    "              'pos_delivery', 'neg_delivery', 'polarity_delivery', 'pos_price', 'neg_price',\n",
    "              'polarity_price', 'pos_service', 'neg_service', 'polarity_service', \n",
    "              'pos_package', 'neg_package', 'polarity_package', 'polarity_score_package', 'neutral_score_package',\n",
    "       'negative_score_package', 'positive_score_package',\n",
    "       'neu_delivery_package', 'neg_delivery_package', 'pos_delivery_package',\n",
    "       'neu_shipment_package', 'neg_shipment_package', 'pos_shipment_package',\n",
    "       'review_len_package', 'neu_return_policy_package',\n",
    "       'neg_return_policy_package', 'pos_return_policy_package',\n",
    "       'neu_exchange_package', 'neg_exchange_package', 'pos_exchange_package',\n",
    "       'neu_service_package', 'neg_service_package', 'pos_service_package',\n",
    "       'neu_support_package', 'neg_support_package', 'pos_support_package',\n",
    "       'neu_pack_package', 'neg_pack_package', 'pos_pack_package',\n",
    "       'neu_package_package', 'neg_package_package', 'pos_package_package',\n",
    "       'neu_price_package', 'neg_price_package', 'pos_price_package',\n",
    "       'map_id', 'net','neu_delivery','neu_price','neu_service','neu_package','helpful_senti_package','Unnamed: 0'])\n",
    "\n",
    "prod1 = prod2.drop(columns = ['net_len', 'helpful_overall', 'helpful_positive','t_func_cleansing',\n",
    "              'r_func_cleansing', 't_func_dandruff','r_func_dandruff', 't_func_growth',\n",
    "              'r_func_growth', 't_func_moisture', 'r_func_moisture', 't_func_repair',\n",
    "              'r_func_repair', 't_func_color','r_func_color', 'satisfactory', 'temp', \n",
    "              'pos_delivery', 'neg_delivery', 'polarity_delivery', 'pos_price', 'neg_price',\n",
    "              'polarity_price', 'pos_service', 'neg_service', 'polarity_service', \n",
    "              'pos_package', 'neg_package', 'polarity_package', 'polarity_score_package', 'neutral_score_package',\n",
    "       'negative_score_package', 'positive_score_package',\n",
    "       'neu_delivery_package', 'neg_delivery_package', 'pos_delivery_package',\n",
    "       'neu_shipment_package', 'neg_shipment_package', 'pos_shipment_package',\n",
    "       'review_len_package', 'neu_return_policy_package',\n",
    "       'neg_return_policy_package', 'pos_return_policy_package',\n",
    "       'neu_exchange_package', 'neg_exchange_package', 'pos_exchange_package',\n",
    "       'neu_service_package', 'neg_service_package', 'pos_service_package',\n",
    "       'neu_support_package', 'neg_support_package', 'pos_support_package',\n",
    "       'neu_pack_package', 'neg_pack_package', 'pos_pack_package',\n",
    "       'neu_package_package', 'neg_package_package', 'pos_package_package',\n",
    "       'neu_price_package', 'neg_price_package', 'pos_price_package',\n",
    "       'map_id', 'net','neu_delivery','neu_price','neu_service','neu_package','helpful_senti_package','Unnamed: 0'])"
   ]
  },
  {
   "cell_type": "code",
   "execution_count": 16,
   "metadata": {},
   "outputs": [],
   "source": [
    "# only analyze product with more than 2 reviews\n",
    "data1 = prod1.loc[prod1['numbers_of_reviews']>=3]\n",
    "# remove product with 0 average sales ranks\n",
    "data1 = data1.loc[data1['salesRank_avg']!=0]\n",
    "# re-rank the sales ranks\n",
    "data1['rank'] = data1['salesRank_avg'].rank()\n",
    "data1 = data1.fillna(0)\n",
    "\n",
    "# only analyze product with more than 2 reviews\n",
    "data2 = prod2.loc[prod2['numbers_of_reviews']>=3]\n",
    "# remove product with 0 average sales ranks\n",
    "data2 = data2.loc[data2['salesRank_avg']!=0]\n",
    "# re-rank the sales ranks\n",
    "data2['rank'] = data2['salesRank_avg'].rank()\n",
    "data2 = data2.fillna(0)"
   ]
  },
  {
   "cell_type": "code",
   "execution_count": 17,
   "metadata": {},
   "outputs": [],
   "source": [
    "# brand\n",
    "big_brand = data1['brand'].value_counts().index[1:20]\n",
    "data1['brand'] = np.where(data1['brand'].isin(big_brand), data1['brand'], 'other')\n",
    "dummy = pd.get_dummies(data1['brand'],drop_first=False,prefix='brand')\n",
    "data1 = pd.concat([data1, dummy], axis = 1)\n",
    "data1.drop('brand', axis = 1, inplace = True)"
   ]
  },
  {
   "cell_type": "code",
   "execution_count": 18,
   "metadata": {},
   "outputs": [],
   "source": [
    "# brand\n",
    "big_brand = data2['brand'].value_counts().index[1:20]\n",
    "data2['brand'] = np.where(data2['brand'].isin(big_brand), data2['brand'], 'other')\n",
    "dummy = pd.get_dummies(data2['brand'],drop_first=False,prefix='brand')\n",
    "data2 = pd.concat([data2, dummy], axis = 1)\n",
    "data2.drop('brand', axis = 1, inplace = True)"
   ]
  },
  {
   "cell_type": "code",
   "execution_count": 19,
   "metadata": {},
   "outputs": [],
   "source": [
    "data1['class'] = np.where(data1['rank']<=round((0.1*len(data1)), 0), 'top_class', 'middle_class')\n",
    "data1['class'] = np.where(data1['rank']>=round((0.4*len(data1)), 0), 'bottom_class', data1['class'])\n",
    "\n",
    "data2['class'] = np.where(data2['rank']<=round((0.1*len(data2)), 0), 'top_class', 'middle_class')\n",
    "data2['class'] = np.where(data2['rank']>=round((0.4*len(data2)), 0), 'bottom_class', data2['class'])"
   ]
  },
  {
   "cell_type": "code",
   "execution_count": 79,
   "metadata": {},
   "outputs": [
    {
     "data": {
      "text/plain": [
       "bottom_class    3620\n",
       "middle_class    1809\n",
       "top_class        602\n",
       "Name: class, dtype: int64"
      ]
     },
     "execution_count": 79,
     "metadata": {},
     "output_type": "execute_result"
    }
   ],
   "source": [
    "data2['class'].value_counts()"
   ]
  },
  {
   "cell_type": "code",
   "execution_count": 20,
   "metadata": {},
   "outputs": [],
   "source": [
    "X_1_1 = data1.copy().drop(columns = ['salesRank','asin','salesRank_avg', \n",
    "                                'review', 'overall', 'helpful', 'summary', 'unixReviewTime',\n",
    "                                'reviewTime', 'reviewerID', 'title','rank','numbers_of_reviews',\n",
    "                               'numbers_of_reviewers', 'helpful_senti_package_avg',\n",
    "                               'salesRank_avg', 'pos_delivery_avg', 'neg_delivery_avg',\n",
    "                               'polarity_delivery_avg', 'pos_price_avg', 'neg_price_avg',\n",
    "                               'polarity_price_avg', 'pos_service_avg', 'neg_service_avg',\n",
    "                               'polarity_service_avg','class'])\n",
    "\n",
    "X_1_2 = data1.copy().drop(columns = ['salesRank', 'asin','salesRank_avg', \n",
    "                                'review', 'overall', 'helpful', 'summary', 'unixReviewTime',\n",
    "                                'reviewTime', 'reviewerID', 'title','rank','numbers_of_reviews',\n",
    "                               'numbers_of_reviewers', 'pos_package_avg', 'neg_package_avg',\n",
    "                               'polarity_package_avg', 'polarity_score_package_avg',\n",
    "                               'negative_score_package_avg', 'positive_score_package_avg',\n",
    "                               'neg_delivery_package_avg', 'pos_delivery_package_avg',\n",
    "                               'neg_shipment_package_avg', 'pos_shipment_package_avg',\n",
    "                               'neg_return_policy_package_avg', 'pos_return_policy_package_avg',\n",
    "                               'neg_exchange_package_avg', 'pos_exchange_package_avg',\n",
    "                               'neg_service_package_avg', 'pos_service_package_avg',\n",
    "                               'neg_support_package_avg', 'pos_support_package_avg',\n",
    "                               'neg_pack_package_avg', 'pos_pack_package_avg',\n",
    "                               'neg_package_package_avg', 'pos_package_package_avg',\n",
    "                               'neg_price_package_avg', 'pos_price_package_avg','class'])\n",
    "\n",
    "X_1_3 = data1.copy().drop(columns = ['salesRank', 'asin','salesRank_avg', \n",
    "                                'review', 'overall', 'helpful', 'summary', 'unixReviewTime',\n",
    "                                'reviewTime', 'reviewerID', 'title','rank','numbers_of_reviews',\n",
    "                               'numbers_of_reviewers','class'])\n",
    "\n",
    "y_1 = data1.copy()['class']"
   ]
  },
  {
   "cell_type": "code",
   "execution_count": 21,
   "metadata": {},
   "outputs": [],
   "source": [
    "le = LabelEncoder()\n",
    "y_1 = le.fit_transform(y_1)"
   ]
  },
  {
   "cell_type": "code",
   "execution_count": 81,
   "metadata": {},
   "outputs": [],
   "source": [
    "a = pd.DataFrame(y_1)"
   ]
  },
  {
   "cell_type": "code",
   "execution_count": 22,
   "metadata": {},
   "outputs": [],
   "source": [
    "X_1_1_train, X_1_1_test, y_1_train, y_1_test = train_test_split(X_1_1, y_1, test_size = 0.3, random_state = 1)\n",
    "X_1_2_train, X_1_2_test, y_1_train, y_1_test = train_test_split(X_1_2, y_1, test_size = 0.3, random_state = 1)\n",
    "X_1_3_train, X_1_3_test, y_1_train, y_1_test = train_test_split(X_1_3, y_1, test_size = 0.3, random_state = 1)"
   ]
  },
  {
   "cell_type": "code",
   "execution_count": 23,
   "metadata": {},
   "outputs": [],
   "source": [
    "X_2_1 = data2.copy().drop(columns = ['salesRank', 'asin','salesRank_avg', 'net', 'Unnamed: 0','map_id',\n",
    "                                'review', 'overall', 'helpful', 'summary', 'unixReviewTime',\n",
    "                                'reviewTime', 'reviewerID', 'title','rank','numbers_of_reviews',\n",
    "                               'numbers_of_reviewers', 'helpful_senti_package_avg',\n",
    "                               'salesRank_avg', 'pos_delivery_avg', 'neg_delivery_avg',\n",
    "                               'polarity_delivery_avg', 'pos_price_avg', 'neg_price_avg',\n",
    "                               'polarity_price_avg', 'pos_service_avg', 'neg_service_avg',\n",
    "                               'polarity_service_avg','class'])\n",
    "\n",
    "X_2_2 = data2.copy().drop(columns = ['salesRank', 'asin','salesRank_avg', 'net', 'Unnamed: 0','map_id',\n",
    "                                'review', 'overall', 'helpful', 'summary', 'unixReviewTime',\n",
    "                                'reviewTime', 'reviewerID', 'title','rank','numbers_of_reviews',\n",
    "                               'numbers_of_reviewers', 'pos_package_avg', 'neg_package_avg',\n",
    "                               'polarity_package_avg', 'polarity_score_package_avg',\n",
    "                               'negative_score_package_avg', 'positive_score_package_avg',\n",
    "                               'neg_delivery_package_avg', 'pos_delivery_package_avg',\n",
    "                               'neg_shipment_package_avg', 'pos_shipment_package_avg',\n",
    "                               'neg_return_policy_package_avg', 'pos_return_policy_package_avg',\n",
    "                               'neg_exchange_package_avg', 'pos_exchange_package_avg',\n",
    "                               'neg_service_package_avg', 'pos_service_package_avg',\n",
    "                               'neg_support_package_avg', 'pos_support_package_avg',\n",
    "                               'neg_pack_package_avg', 'pos_pack_package_avg',\n",
    "                               'neg_package_package_avg', 'pos_package_package_avg',\n",
    "                               'neg_price_package_avg', 'pos_price_package_avg','class'])\n",
    "\n",
    "X_2_3 = data2.copy().drop(columns = ['salesRank', 'asin','salesRank_avg', 'net', 'Unnamed: 0','map_id',\n",
    "                                'review', 'overall', 'helpful', 'summary', 'unixReviewTime',\n",
    "                                'reviewTime', 'reviewerID', 'title','rank','numbers_of_reviews',\n",
    "                               'numbers_of_reviewers','class'])\n",
    "\n",
    "y_2 = data2.copy()['class']"
   ]
  },
  {
   "cell_type": "code",
   "execution_count": 24,
   "metadata": {},
   "outputs": [],
   "source": [
    "le = LabelEncoder()\n",
    "y_2 = le.fit_transform(y_2)"
   ]
  },
  {
   "cell_type": "code",
   "execution_count": 25,
   "metadata": {},
   "outputs": [],
   "source": [
    "X_2_1_train, X_2_1_test, y_2_train, y_2_test = train_test_split(X_2_1, y_2, test_size = 0.3, random_state = 1)\n",
    "X_2_2_train, X_2_2_test, y_2_train, y_2_test = train_test_split(X_2_2, y_2, test_size = 0.3, random_state = 1)\n",
    "X_2_3_train, X_2_3_test, y_2_train, y_2_test = train_test_split(X_2_3, y_2, test_size = 0.3, random_state = 1)"
   ]
  },
  {
   "cell_type": "code",
   "execution_count": 26,
   "metadata": {},
   "outputs": [],
   "source": [
    "from sklearn.ensemble import RandomForestClassifier\n",
    "from xgboost import XGBClassifier\n",
    "from sklearn.svm import SVC"
   ]
  },
  {
   "cell_type": "code",
   "execution_count": 108,
   "metadata": {},
   "outputs": [],
   "source": [
    "rf = RandomForestClassifier()\n",
    "xgb = XGBClassifier()\n",
    "svc = SVC()"
   ]
  },
  {
   "cell_type": "code",
   "execution_count": 109,
   "metadata": {},
   "outputs": [],
   "source": [
    "from imblearn.pipeline import Pipeline\n",
    "from sklearn.model_selection import GridSearchCV\n",
    "from sklearn.model_selection import cross_val_score"
   ]
  },
  {
   "cell_type": "code",
   "execution_count": 110,
   "metadata": {},
   "outputs": [],
   "source": [
    "pipe = Pipeline ([('model',rf)])"
   ]
  },
  {
   "cell_type": "code",
   "execution_count": 183,
   "metadata": {},
   "outputs": [],
   "source": [
    "params = [{\n",
    "            'model': [rf],\n",
    "            'model__n_estimators': [50, 100, 200],\n",
    "            'model__max_depth': [5,8],\n",
    "            'model__min_samples_leaf': [10, 50, 100]\n",
    "          },\n",
    "         {\n",
    "            'model': [xgb],\n",
    "            'model__eta': [0.05, 0.1, 0.2],\n",
    "            'model__max_depth': [7,8,9],\n",
    "            'model__n_estimators': [150,200,300],\n",
    "         }\n",
    "]"
   ]
  },
  {
   "cell_type": "code",
   "execution_count": 184,
   "metadata": {},
   "outputs": [
    {
     "name": "stderr",
     "output_type": "stream",
     "text": [
      "C:\\Users\\zhao.d.5\\Anaconda3\\lib\\site-packages\\xgboost\\sklearn.py:888: UserWarning: The use of label encoder in XGBClassifier is deprecated and will be removed in a future release. To remove this warning, do the following: 1) Pass option use_label_encoder=False when constructing XGBClassifier object; and 2) Encode your labels (y) as integers starting with 0, i.e. 0, 1, 2, ..., [num_class - 1].\n",
      "  warnings.warn(label_encoder_deprecation_msg, UserWarning)\n"
     ]
    },
    {
     "name": "stdout",
     "output_type": "stream",
     "text": [
      "[00:42:36] WARNING: C:/Users/Administrator/workspace/xgboost-win64_release_1.3.0/src/learner.cc:1061: Starting in XGBoost 1.3.0, the default evaluation metric used with the objective 'multi:softprob' was changed from 'merror' to 'mlogloss'. Explicitly set eval_metric if you'd like to restore the old behavior.\n"
     ]
    },
    {
     "data": {
      "text/plain": [
       "GridSearchCV(cv=5,\n",
       "             estimator=Pipeline(steps=[('model',\n",
       "                                        RandomForestClassifier(max_depth=5,\n",
       "                                                               min_samples_leaf=10,\n",
       "                                                               n_estimators=50))]),\n",
       "             n_jobs=-1,\n",
       "             param_grid=[{'model': [RandomForestClassifier(max_depth=5,\n",
       "                                                           min_samples_leaf=10,\n",
       "                                                           n_estimators=50)],\n",
       "                          'model__max_depth': [5, 8],\n",
       "                          'model__min_samples_leaf': [10, 50, 100],\n",
       "                          'model__n_estimators': [50, 100, 200]},\n",
       "                         {'model': [XGBClass...\n",
       "                                                  min_child_weight=None,\n",
       "                                                  missing=nan,\n",
       "                                                  monotone_constraints=None,\n",
       "                                                  n_estimators=150, n_jobs=None,\n",
       "                                                  num_parallel_tree=None,\n",
       "                                                  random_state=None,\n",
       "                                                  reg_alpha=None,\n",
       "                                                  reg_lambda=None,\n",
       "                                                  scale_pos_weight=None,\n",
       "                                                  subsample=None,\n",
       "                                                  tree_method=None,\n",
       "                                                  validate_parameters=None,\n",
       "                                                  verbosity=None)],\n",
       "                          'model__eta': [0.05, 0.1, 0.2],\n",
       "                          'model__max_depth': [7, 8, 9],\n",
       "                          'model__n_estimators': [150, 200, 300]}])"
      ]
     },
     "execution_count": 184,
     "metadata": {},
     "output_type": "execute_result"
    }
   ],
   "source": [
    "gs1 = GridSearchCV(pipe, params, n_jobs = -1, cv = 5)\n",
    "gs1.fit(X_1_1_train, y_1_train)"
   ]
  },
  {
   "cell_type": "code",
   "execution_count": 185,
   "metadata": {},
   "outputs": [
    {
     "name": "stderr",
     "output_type": "stream",
     "text": [
      "C:\\Users\\zhao.d.5\\Anaconda3\\lib\\site-packages\\xgboost\\sklearn.py:888: UserWarning: The use of label encoder in XGBClassifier is deprecated and will be removed in a future release. To remove this warning, do the following: 1) Pass option use_label_encoder=False when constructing XGBClassifier object; and 2) Encode your labels (y) as integers starting with 0, i.e. 0, 1, 2, ..., [num_class - 1].\n",
      "  warnings.warn(label_encoder_deprecation_msg, UserWarning)\n"
     ]
    },
    {
     "name": "stdout",
     "output_type": "stream",
     "text": [
      "[00:45:30] WARNING: C:/Users/Administrator/workspace/xgboost-win64_release_1.3.0/src/learner.cc:1061: Starting in XGBoost 1.3.0, the default evaluation metric used with the objective 'multi:softprob' was changed from 'merror' to 'mlogloss'. Explicitly set eval_metric if you'd like to restore the old behavior.\n"
     ]
    },
    {
     "data": {
      "text/plain": [
       "GridSearchCV(cv=5,\n",
       "             estimator=Pipeline(steps=[('model',\n",
       "                                        RandomForestClassifier(max_depth=5,\n",
       "                                                               min_samples_leaf=10,\n",
       "                                                               n_estimators=50))]),\n",
       "             n_jobs=-1,\n",
       "             param_grid=[{'model': [RandomForestClassifier(max_depth=5,\n",
       "                                                           min_samples_leaf=10,\n",
       "                                                           n_estimators=50)],\n",
       "                          'model__max_depth': [5, 8],\n",
       "                          'model__min_samples_leaf': [10, 50, 100],\n",
       "                          'model__n_estimators': [50, 100, 200]},\n",
       "                         {'model': [XGBClass...\n",
       "                                                  min_child_weight=None,\n",
       "                                                  missing=nan,\n",
       "                                                  monotone_constraints=None,\n",
       "                                                  n_estimators=150, n_jobs=None,\n",
       "                                                  num_parallel_tree=None,\n",
       "                                                  random_state=None,\n",
       "                                                  reg_alpha=None,\n",
       "                                                  reg_lambda=None,\n",
       "                                                  scale_pos_weight=None,\n",
       "                                                  subsample=None,\n",
       "                                                  tree_method=None,\n",
       "                                                  validate_parameters=None,\n",
       "                                                  verbosity=None)],\n",
       "                          'model__eta': [0.05, 0.1, 0.2],\n",
       "                          'model__max_depth': [7, 8, 9],\n",
       "                          'model__n_estimators': [150, 200, 300]}])"
      ]
     },
     "execution_count": 185,
     "metadata": {},
     "output_type": "execute_result"
    }
   ],
   "source": [
    "gs2 = GridSearchCV(pipe, params, n_jobs = -1, cv = 5)\n",
    "gs2.fit(X_1_2_train, y_1_train)"
   ]
  },
  {
   "cell_type": "code",
   "execution_count": 186,
   "metadata": {},
   "outputs": [
    {
     "name": "stderr",
     "output_type": "stream",
     "text": [
      "C:\\Users\\zhao.d.5\\Anaconda3\\lib\\site-packages\\xgboost\\sklearn.py:888: UserWarning: The use of label encoder in XGBClassifier is deprecated and will be removed in a future release. To remove this warning, do the following: 1) Pass option use_label_encoder=False when constructing XGBClassifier object; and 2) Encode your labels (y) as integers starting with 0, i.e. 0, 1, 2, ..., [num_class - 1].\n",
      "  warnings.warn(label_encoder_deprecation_msg, UserWarning)\n"
     ]
    },
    {
     "name": "stdout",
     "output_type": "stream",
     "text": [
      "[00:49:59] WARNING: C:/Users/Administrator/workspace/xgboost-win64_release_1.3.0/src/learner.cc:1061: Starting in XGBoost 1.3.0, the default evaluation metric used with the objective 'multi:softprob' was changed from 'merror' to 'mlogloss'. Explicitly set eval_metric if you'd like to restore the old behavior.\n"
     ]
    },
    {
     "data": {
      "text/plain": [
       "GridSearchCV(cv=5,\n",
       "             estimator=Pipeline(steps=[('model',\n",
       "                                        RandomForestClassifier(max_depth=5,\n",
       "                                                               min_samples_leaf=10,\n",
       "                                                               n_estimators=50))]),\n",
       "             n_jobs=-1,\n",
       "             param_grid=[{'model': [RandomForestClassifier(max_depth=5,\n",
       "                                                           min_samples_leaf=10,\n",
       "                                                           n_estimators=50)],\n",
       "                          'model__max_depth': [5, 8],\n",
       "                          'model__min_samples_leaf': [10, 50, 100],\n",
       "                          'model__n_estimators': [50, 100, 200]},\n",
       "                         {'model': [XGBClass...\n",
       "                                                  min_child_weight=None,\n",
       "                                                  missing=nan,\n",
       "                                                  monotone_constraints=None,\n",
       "                                                  n_estimators=150, n_jobs=None,\n",
       "                                                  num_parallel_tree=None,\n",
       "                                                  random_state=None,\n",
       "                                                  reg_alpha=None,\n",
       "                                                  reg_lambda=None,\n",
       "                                                  scale_pos_weight=None,\n",
       "                                                  subsample=None,\n",
       "                                                  tree_method=None,\n",
       "                                                  validate_parameters=None,\n",
       "                                                  verbosity=None)],\n",
       "                          'model__eta': [0.05, 0.1, 0.2],\n",
       "                          'model__max_depth': [7, 8, 9],\n",
       "                          'model__n_estimators': [150, 200, 300]}])"
      ]
     },
     "execution_count": 186,
     "metadata": {},
     "output_type": "execute_result"
    }
   ],
   "source": [
    "gs3 = GridSearchCV(pipe, params, n_jobs = -1, cv = 5)\n",
    "gs3.fit(X_1_3_train, y_1_train)"
   ]
  },
  {
   "cell_type": "code",
   "execution_count": 187,
   "metadata": {},
   "outputs": [
    {
     "name": "stderr",
     "output_type": "stream",
     "text": [
      "C:\\Users\\zhao.d.5\\Anaconda3\\lib\\site-packages\\xgboost\\sklearn.py:888: UserWarning: The use of label encoder in XGBClassifier is deprecated and will be removed in a future release. To remove this warning, do the following: 1) Pass option use_label_encoder=False when constructing XGBClassifier object; and 2) Encode your labels (y) as integers starting with 0, i.e. 0, 1, 2, ..., [num_class - 1].\n",
      "  warnings.warn(label_encoder_deprecation_msg, UserWarning)\n"
     ]
    },
    {
     "name": "stdout",
     "output_type": "stream",
     "text": [
      "[00:55:51] WARNING: C:/Users/Administrator/workspace/xgboost-win64_release_1.3.0/src/learner.cc:1061: Starting in XGBoost 1.3.0, the default evaluation metric used with the objective 'multi:softprob' was changed from 'merror' to 'mlogloss'. Explicitly set eval_metric if you'd like to restore the old behavior.\n"
     ]
    },
    {
     "data": {
      "text/plain": [
       "GridSearchCV(cv=5,\n",
       "             estimator=Pipeline(steps=[('model',\n",
       "                                        RandomForestClassifier(max_depth=5,\n",
       "                                                               min_samples_leaf=10,\n",
       "                                                               n_estimators=50))]),\n",
       "             n_jobs=-1,\n",
       "             param_grid=[{'model': [RandomForestClassifier(max_depth=5,\n",
       "                                                           min_samples_leaf=10,\n",
       "                                                           n_estimators=50)],\n",
       "                          'model__max_depth': [5, 8],\n",
       "                          'model__min_samples_leaf': [10, 50, 100],\n",
       "                          'model__n_estimators': [50, 100, 200]},\n",
       "                         {'model': [XGBClass...\n",
       "                                                  min_child_weight=None,\n",
       "                                                  missing=nan,\n",
       "                                                  monotone_constraints=None,\n",
       "                                                  n_estimators=150, n_jobs=None,\n",
       "                                                  num_parallel_tree=None,\n",
       "                                                  random_state=None,\n",
       "                                                  reg_alpha=None,\n",
       "                                                  reg_lambda=None,\n",
       "                                                  scale_pos_weight=None,\n",
       "                                                  subsample=None,\n",
       "                                                  tree_method=None,\n",
       "                                                  validate_parameters=None,\n",
       "                                                  verbosity=None)],\n",
       "                          'model__eta': [0.05, 0.1, 0.2],\n",
       "                          'model__max_depth': [7, 8, 9],\n",
       "                          'model__n_estimators': [150, 200, 300]}])"
      ]
     },
     "execution_count": 187,
     "metadata": {},
     "output_type": "execute_result"
    }
   ],
   "source": [
    "gs4 = GridSearchCV(pipe, params, n_jobs = -1, cv = 5)\n",
    "gs4.fit(X_2_1_train, y_2_train)"
   ]
  },
  {
   "cell_type": "code",
   "execution_count": 188,
   "metadata": {},
   "outputs": [
    {
     "name": "stderr",
     "output_type": "stream",
     "text": [
      "C:\\Users\\zhao.d.5\\Anaconda3\\lib\\site-packages\\xgboost\\sklearn.py:888: UserWarning: The use of label encoder in XGBClassifier is deprecated and will be removed in a future release. To remove this warning, do the following: 1) Pass option use_label_encoder=False when constructing XGBClassifier object; and 2) Encode your labels (y) as integers starting with 0, i.e. 0, 1, 2, ..., [num_class - 1].\n",
      "  warnings.warn(label_encoder_deprecation_msg, UserWarning)\n"
     ]
    },
    {
     "name": "stdout",
     "output_type": "stream",
     "text": [
      "[01:01:04] WARNING: C:/Users/Administrator/workspace/xgboost-win64_release_1.3.0/src/learner.cc:1061: Starting in XGBoost 1.3.0, the default evaluation metric used with the objective 'multi:softprob' was changed from 'merror' to 'mlogloss'. Explicitly set eval_metric if you'd like to restore the old behavior.\n"
     ]
    },
    {
     "data": {
      "text/plain": [
       "GridSearchCV(cv=5,\n",
       "             estimator=Pipeline(steps=[('model',\n",
       "                                        RandomForestClassifier(max_depth=5,\n",
       "                                                               min_samples_leaf=10,\n",
       "                                                               n_estimators=50))]),\n",
       "             n_jobs=-1,\n",
       "             param_grid=[{'model': [RandomForestClassifier(max_depth=5,\n",
       "                                                           min_samples_leaf=10,\n",
       "                                                           n_estimators=50)],\n",
       "                          'model__max_depth': [5, 8],\n",
       "                          'model__min_samples_leaf': [10, 50, 100],\n",
       "                          'model__n_estimators': [50, 100, 200]},\n",
       "                         {'model': [XGBClass...\n",
       "                                                  min_child_weight=None,\n",
       "                                                  missing=nan,\n",
       "                                                  monotone_constraints=None,\n",
       "                                                  n_estimators=200, n_jobs=None,\n",
       "                                                  num_parallel_tree=None,\n",
       "                                                  random_state=None,\n",
       "                                                  reg_alpha=None,\n",
       "                                                  reg_lambda=None,\n",
       "                                                  scale_pos_weight=None,\n",
       "                                                  subsample=None,\n",
       "                                                  tree_method=None,\n",
       "                                                  validate_parameters=None,\n",
       "                                                  verbosity=None)],\n",
       "                          'model__eta': [0.05, 0.1, 0.2],\n",
       "                          'model__max_depth': [7, 8, 9],\n",
       "                          'model__n_estimators': [150, 200, 300]}])"
      ]
     },
     "execution_count": 188,
     "metadata": {},
     "output_type": "execute_result"
    }
   ],
   "source": [
    "gs5 = GridSearchCV(pipe, params, n_jobs = -1, cv = 5)\n",
    "gs5.fit(X_2_2_train, y_2_train)"
   ]
  },
  {
   "cell_type": "code",
   "execution_count": 189,
   "metadata": {},
   "outputs": [
    {
     "name": "stderr",
     "output_type": "stream",
     "text": [
      "C:\\Users\\zhao.d.5\\Anaconda3\\lib\\site-packages\\xgboost\\sklearn.py:888: UserWarning: The use of label encoder in XGBClassifier is deprecated and will be removed in a future release. To remove this warning, do the following: 1) Pass option use_label_encoder=False when constructing XGBClassifier object; and 2) Encode your labels (y) as integers starting with 0, i.e. 0, 1, 2, ..., [num_class - 1].\n",
      "  warnings.warn(label_encoder_deprecation_msg, UserWarning)\n"
     ]
    },
    {
     "name": "stdout",
     "output_type": "stream",
     "text": [
      "[01:08:25] WARNING: C:/Users/Administrator/workspace/xgboost-win64_release_1.3.0/src/learner.cc:1061: Starting in XGBoost 1.3.0, the default evaluation metric used with the objective 'multi:softprob' was changed from 'merror' to 'mlogloss'. Explicitly set eval_metric if you'd like to restore the old behavior.\n"
     ]
    },
    {
     "data": {
      "text/plain": [
       "GridSearchCV(cv=5,\n",
       "             estimator=Pipeline(steps=[('model',\n",
       "                                        RandomForestClassifier(max_depth=5,\n",
       "                                                               min_samples_leaf=10,\n",
       "                                                               n_estimators=50))]),\n",
       "             n_jobs=-1,\n",
       "             param_grid=[{'model': [RandomForestClassifier(max_depth=5,\n",
       "                                                           min_samples_leaf=10,\n",
       "                                                           n_estimators=50)],\n",
       "                          'model__max_depth': [5, 8],\n",
       "                          'model__min_samples_leaf': [10, 50, 100],\n",
       "                          'model__n_estimators': [50, 100, 200]},\n",
       "                         {'model': [XGBClass...\n",
       "                                                  min_child_weight=None,\n",
       "                                                  missing=nan,\n",
       "                                                  monotone_constraints=None,\n",
       "                                                  n_estimators=150, n_jobs=None,\n",
       "                                                  num_parallel_tree=None,\n",
       "                                                  random_state=None,\n",
       "                                                  reg_alpha=None,\n",
       "                                                  reg_lambda=None,\n",
       "                                                  scale_pos_weight=None,\n",
       "                                                  subsample=None,\n",
       "                                                  tree_method=None,\n",
       "                                                  validate_parameters=None,\n",
       "                                                  verbosity=None)],\n",
       "                          'model__eta': [0.05, 0.1, 0.2],\n",
       "                          'model__max_depth': [7, 8, 9],\n",
       "                          'model__n_estimators': [150, 200, 300]}])"
      ]
     },
     "execution_count": 189,
     "metadata": {},
     "output_type": "execute_result"
    }
   ],
   "source": [
    "gs6 = GridSearchCV(pipe, params, n_jobs = -1, cv = 5)\n",
    "gs6.fit(X_2_3_train, y_2_train)"
   ]
  },
  {
   "cell_type": "code",
   "execution_count": 27,
   "metadata": {},
   "outputs": [],
   "source": [
    "import joblib"
   ]
  },
  {
   "cell_type": "code",
   "execution_count": 28,
   "metadata": {},
   "outputs": [],
   "source": [
    "# gs1 = joblib.load('gs1.pkl')\n",
    "# gs2 = joblib.load('gs2.pkl')\n",
    "# gs3 = joblib.load('gs3.pkl')\n",
    "# gs4 = joblib.load('gs4.pkl')\n",
    "# gs5 = joblib.load('gs5.pkl')\n",
    "# gs6 = joblib.load('gs6.pkl')"
   ]
  },
  {
   "cell_type": "code",
   "execution_count": 37,
   "metadata": {},
   "outputs": [],
   "source": [
    "y_pred1 = gs1.predict (X_1_1_test)\n",
    "y_pred2 = gs2.predict (X_1_2_test)\n",
    "y_pred3 = gs3.predict (X_1_3_test)\n",
    "y_pred4 = gs4.predict (X_2_1_test)\n",
    "y_pred5 = gs5.predict (X_2_2_test)\n",
    "y_pred6 = gs6.predict (X_2_3_test)"
   ]
  },
  {
   "cell_type": "code",
   "execution_count": 38,
   "metadata": {
    "collapsed": true,
    "jupyter": {
     "outputs_hidden": true
    }
   },
   "outputs": [
    {
     "name": "stdout",
     "output_type": "stream",
     "text": [
      "{'model': XGBClassifier(base_score=None, booster=None, colsample_bylevel=None,\n",
      "              colsample_bynode=None, colsample_bytree=None, eta=0.1, gamma=None,\n",
      "              gpu_id=None, importance_type='gain', interaction_constraints=None,\n",
      "              learning_rate=None, max_delta_step=None, max_depth=7,\n",
      "              min_child_weight=None, missing=nan, monotone_constraints=None,\n",
      "              n_estimators=150, n_jobs=None, num_parallel_tree=None,\n",
      "              random_state=None, reg_alpha=None, reg_lambda=None,\n",
      "              scale_pos_weight=None, subsample=None, tree_method=None,\n",
      "              validate_parameters=None, verbosity=None), 'model__eta': 0.05, 'model__max_depth': 7, 'model__n_estimators': 150} 0.6569586920553016\n",
      "{'model': XGBClassifier(base_score=None, booster=None, colsample_bylevel=None,\n",
      "              colsample_bynode=None, colsample_bytree=None, eta=0.1, gamma=None,\n",
      "              gpu_id=None, importance_type='gain', interaction_constraints=None,\n",
      "              learning_rate=None, max_delta_step=None, max_depth=7,\n",
      "              min_child_weight=None, missing=nan, monotone_constraints=None,\n",
      "              n_estimators=150, n_jobs=None, num_parallel_tree=None,\n",
      "              random_state=None, reg_alpha=None, reg_lambda=None,\n",
      "              scale_pos_weight=None, subsample=None, tree_method=None,\n",
      "              validate_parameters=None, verbosity=None), 'model__eta': 0.05, 'model__max_depth': 7, 'model__n_estimators': 150} 0.6609823606943549\n",
      "{'model': XGBClassifier(base_score=None, booster=None, colsample_bylevel=None,\n",
      "              colsample_bynode=None, colsample_bytree=None, eta=0.1, gamma=None,\n",
      "              gpu_id=None, importance_type='gain', interaction_constraints=None,\n",
      "              learning_rate=None, max_delta_step=None, max_depth=7,\n",
      "              min_child_weight=None, missing=nan, monotone_constraints=None,\n",
      "              n_estimators=150, n_jobs=None, num_parallel_tree=None,\n",
      "              random_state=None, reg_alpha=None, reg_lambda=None,\n",
      "              scale_pos_weight=None, subsample=None, tree_method=None,\n",
      "              validate_parameters=None, verbosity=None), 'model__eta': 0.05, 'model__max_depth': 9, 'model__n_estimators': 150} 0.6676165904820662\n",
      "{'model': XGBClassifier(base_score=None, booster=None, colsample_bylevel=None,\n",
      "              colsample_bynode=None, colsample_bytree=None, eta=0.1, gamma=None,\n",
      "              gpu_id=None, importance_type='gain', interaction_constraints=None,\n",
      "              learning_rate=None, max_delta_step=None, max_depth=7,\n",
      "              min_child_weight=None, missing=nan, monotone_constraints=None,\n",
      "              n_estimators=150, n_jobs=None, num_parallel_tree=None,\n",
      "              random_state=None, reg_alpha=None, reg_lambda=None,\n",
      "              scale_pos_weight=None, subsample=None, tree_method=None,\n",
      "              validate_parameters=None, verbosity=None), 'model__eta': 0.05, 'model__max_depth': 7, 'model__n_estimators': 150} 0.6612159623096553\n",
      "{'model': XGBClassifier(base_score=None, booster=None, colsample_bylevel=None,\n",
      "              colsample_bynode=None, colsample_bytree=None, eta=0.1, gamma=None,\n",
      "              gpu_id=None, importance_type='gain', interaction_constraints=None,\n",
      "              learning_rate=None, max_delta_step=None, max_depth=7,\n",
      "              min_child_weight=None, missing=nan, monotone_constraints=None,\n",
      "              n_estimators=150, n_jobs=None, num_parallel_tree=None,\n",
      "              random_state=None, reg_alpha=None, reg_lambda=None,\n",
      "              scale_pos_weight=None, subsample=None, tree_method=None,\n",
      "              validate_parameters=None, verbosity=None), 'model__eta': 0.05, 'model__max_depth': 8, 'model__n_estimators': 200} 0.6602675341428531\n",
      "{'model': XGBClassifier(base_score=None, booster=None, colsample_bylevel=None,\n",
      "              colsample_bynode=None, colsample_bytree=None, eta=0.1, gamma=None,\n",
      "              gpu_id=None, importance_type='gain', interaction_constraints=None,\n",
      "              learning_rate=None, max_delta_step=None, max_depth=7,\n",
      "              min_child_weight=None, missing=nan, monotone_constraints=None,\n",
      "              n_estimators=150, n_jobs=None, num_parallel_tree=None,\n",
      "              random_state=None, reg_alpha=None, reg_lambda=None,\n",
      "              scale_pos_weight=None, subsample=None, tree_method=None,\n",
      "              validate_parameters=None, verbosity=None), 'model__eta': 0.1, 'model__max_depth': 7, 'model__n_estimators': 150} 0.6685641773465324\n"
     ]
    }
   ],
   "source": [
    "print (gs1.best_params_, gs1.best_score_)\n",
    "print (gs2.best_params_, gs2.best_score_)\n",
    "print (gs3.best_params_, gs3.best_score_)\n",
    "print (gs4.best_params_, gs4.best_score_)\n",
    "print (gs5.best_params_, gs5.best_score_)\n",
    "print (gs6.best_params_, gs6.best_score_)"
   ]
  },
  {
   "cell_type": "code",
   "execution_count": 67,
   "metadata": {},
   "outputs": [],
   "source": [
    "# print(classification_report(y_1_test, y_pred1))\n",
    "# print(classification_report(y_1_test, y_pred2))\n",
    "a = classification_report(y_1_test, y_pred3)\n",
    "# print(classification_report(y_2_test, y_pred4))\n",
    "# print(classification_report(y_2_test, y_pred5))\n",
    "# print(classification_report(y_2_test, y_pred6))"
   ]
  },
  {
   "cell_type": "code",
   "execution_count": 72,
   "metadata": {},
   "outputs": [],
   "source": [
    "from sklearn.metrics import confusion_matrix\n",
    "cf_matrix = confusion_matrix(y_1_test, y_pred3)"
   ]
  },
  {
   "cell_type": "code",
   "execution_count": 78,
   "metadata": {},
   "outputs": [
    {
     "data": {
      "text/plain": [
       "<AxesSubplot:>"
      ]
     },
     "execution_count": 78,
     "metadata": {},
     "output_type": "execute_result"
    },
    {
     "data": {
      "image/png": "[encoded data removed]",
      "text/plain": [
       "<Figure size 432x288 with 2 Axes>"
      ]
     },
     "metadata": {
      "needs_background": "light"
     },
     "output_type": "display_data"
    }
   ],
   "source": [
    "import seaborn as sns\n",
    "# sns.heatmap(cf_matrix, annot=True)\n",
    "sns.heatmap(cf_matrix/np.sum(cf_matrix), annot=True, \n",
    "            fmt='.2%', cmap='Blues')\n",
    "#plt.savefig('confusion', dpi = 300)"
   ]
  },
  {
   "cell_type": "code",
   "execution_count": 70,
   "metadata": {},
   "outputs": [
    {
     "name": "stdout",
     "output_type": "stream",
     "text": [
      "              precision    recall  f1-score   support\n",
      "\n",
      "           0       0.71      0.86      0.78      1073\n",
      "           1       0.47      0.34      0.39       562\n",
      "           2       0.59      0.34      0.43       175\n",
      "\n",
      "    accuracy                           0.65      1810\n",
      "   macro avg       0.59      0.51      0.54      1810\n",
      "weighted avg       0.62      0.65      0.63      1810\n",
      "\n"
     ]
    }
   ],
   "source": [
    "print(a)"
   ]
  },
  {
   "cell_type": "code",
   "execution_count": 56,
   "metadata": {},
   "outputs": [
    {
     "name": "stderr",
     "output_type": "stream",
     "text": [
      "C:\\Users\\zhao.d.5\\Anaconda3\\lib\\site-packages\\xgboost\\sklearn.py:888: UserWarning: The use of label encoder in XGBClassifier is deprecated and will be removed in a future release. To remove this warning, do the following: 1) Pass option use_label_encoder=False when constructing XGBClassifier object; and 2) Encode your labels (y) as integers starting with 0, i.e. 0, 1, 2, ..., [num_class - 1].\n",
      "  warnings.warn(label_encoder_deprecation_msg, UserWarning)\n"
     ]
    },
    {
     "name": "stdout",
     "output_type": "stream",
     "text": [
      "[13:54:09] WARNING: C:/Users/Administrator/workspace/xgboost-win64_release_1.3.0/src/learner.cc:1061: Starting in XGBoost 1.3.0, the default evaluation metric used with the objective 'multi:softprob' was changed from 'merror' to 'mlogloss'. Explicitly set eval_metric if you'd like to restore the old behavior.\n"
     ]
    }
   ],
   "source": [
    "final_model = gs3.best_params_['model']\n",
    "final_model.fit(X_1_3, y_1)\n",
    "fi = pd.DataFrame({'feature': X_1_3.columns,\n",
    "               'importance':final_model.feature_importances_}).sort_values(by='importance',\n",
    "                                                                        ascending=False).reset_index()"
   ]
  },
  {
   "cell_type": "code",
   "execution_count": 58,
   "metadata": {},
   "outputs": [
    {
     "data": {
      "text/html": [
       "<div>\n",
       "<style scoped>\n",
       "    .dataframe tbody tr th:only-of-type {\n",
       "        vertical-align: middle;\n",
       "    }\n",
       "\n",
       "    .dataframe tbody tr th {\n",
       "        vertical-align: top;\n",
       "    }\n",
       "\n",
       "    .dataframe thead th {\n",
       "        text-align: right;\n",
       "    }\n",
       "</style>\n",
       "<table border=\"1\" class=\"dataframe\">\n",
       "  <thead>\n",
       "    <tr style=\"text-align: right;\">\n",
       "      <th></th>\n",
       "      <th>index</th>\n",
       "      <th>feature</th>\n",
       "      <th>importance</th>\n",
       "    </tr>\n",
       "  </thead>\n",
       "  <tbody>\n",
       "    <tr>\n",
       "      <th>0</th>\n",
       "      <td>51</td>\n",
       "      <td>pos_price_package_avg</td>\n",
       "      <td>0.038706</td>\n",
       "    </tr>\n",
       "    <tr>\n",
       "      <th>1</th>\n",
       "      <td>23</td>\n",
       "      <td>neg_price_avg</td>\n",
       "      <td>0.031758</td>\n",
       "    </tr>\n",
       "    <tr>\n",
       "      <th>2</th>\n",
       "      <td>13</td>\n",
       "      <td>r_func_repair_avg</td>\n",
       "      <td>0.031223</td>\n",
       "    </tr>\n",
       "    <tr>\n",
       "      <th>3</th>\n",
       "      <td>24</td>\n",
       "      <td>polarity_price_avg</td>\n",
       "      <td>0.023739</td>\n",
       "    </tr>\n",
       "    <tr>\n",
       "      <th>4</th>\n",
       "      <td>42</td>\n",
       "      <td>neg_service_package_avg</td>\n",
       "      <td>0.022896</td>\n",
       "    </tr>\n",
       "    <tr>\n",
       "      <th>5</th>\n",
       "      <td>19</td>\n",
       "      <td>pos_delivery_avg</td>\n",
       "      <td>0.019897</td>\n",
       "    </tr>\n",
       "    <tr>\n",
       "      <th>6</th>\n",
       "      <td>5</td>\n",
       "      <td>r_func_cleansing_avg</td>\n",
       "      <td>0.019210</td>\n",
       "    </tr>\n",
       "    <tr>\n",
       "      <th>7</th>\n",
       "      <td>7</td>\n",
       "      <td>r_func_dandruff_avg</td>\n",
       "      <td>0.018902</td>\n",
       "    </tr>\n",
       "    <tr>\n",
       "      <th>8</th>\n",
       "      <td>37</td>\n",
       "      <td>pos_shipment_package_avg</td>\n",
       "      <td>0.017978</td>\n",
       "    </tr>\n",
       "    <tr>\n",
       "      <th>9</th>\n",
       "      <td>27</td>\n",
       "      <td>polarity_service_avg</td>\n",
       "      <td>0.017358</td>\n",
       "    </tr>\n",
       "  </tbody>\n",
       "</table>\n",
       "</div>"
      ],
      "text/plain": [
       "   index                   feature  importance\n",
       "0     51     pos_price_package_avg    0.038706\n",
       "1     23             neg_price_avg    0.031758\n",
       "2     13         r_func_repair_avg    0.031223\n",
       "3     24        polarity_price_avg    0.023739\n",
       "4     42   neg_service_package_avg    0.022896\n",
       "5     19          pos_delivery_avg    0.019897\n",
       "6      5      r_func_cleansing_avg    0.019210\n",
       "7      7       r_func_dandruff_avg    0.018902\n",
       "8     37  pos_shipment_package_avg    0.017978\n",
       "9     27      polarity_service_avg    0.017358"
      ]
     },
     "execution_count": 58,
     "metadata": {},
     "output_type": "execute_result"
    }
   ],
   "source": [
    "fi.head(n = 10)"
   ]
  },
  {
   "cell_type": "code",
   "execution_count": 39,
   "metadata": {},
   "outputs": [],
   "source": [
    "y_1_cat_train = pd.get_dummies(pd.Series(y_1_train))\n",
    "y_1_cat_test = pd.get_dummies(pd.Series(y_1_test))"
   ]
  },
  {
   "cell_type": "code",
   "execution_count": 40,
   "metadata": {},
   "outputs": [],
   "source": [
    "y_2_cat_train = pd.get_dummies(pd.Series(y_2_train))\n",
    "y_2_cat_test = pd.get_dummies(pd.Series(y_2_test))"
   ]
  },
  {
   "cell_type": "code",
   "execution_count": 41,
   "metadata": {},
   "outputs": [],
   "source": [
    "import math\n",
    "from scipy.stats import randint as sp_randint\n",
    "from keras.layers import Dropout\n",
    "from keras import models\n",
    "from keras import layers\n",
    "import keras\n",
    "from sklearn.metrics import mean_squared_error\n",
    "def nn(dropout, lr, l2, X_train, y_train):\n",
    "    # Start neural network\n",
    "    network = models.Sequential()\n",
    "\n",
    "    # Add fully connected layer with a ReLU activation function\n",
    "    # network.add(layers.Dense(units=16, activation=\"relu\", input_shape=(50,)))\n",
    "    network.add(Dropout(dropout, input_shape=(X_train.shape[1],)))\n",
    "    # Add fully connected layer with a ReLU activation function\n",
    "    network.add(layers.Dense(units=62, activation=\"relu\"))\n",
    "    \n",
    "    # Add fully connected layer with a ReLU activation function\n",
    "    network.add(layers.Dense(units=32, activation=\"relu\"))\n",
    "    \n",
    "    # Add fully connected layer with a ReLU activation function\n",
    "    network.add(layers.Dense(units=16, activation=\"relu\"))\n",
    "\n",
    "    # Add fully connected layer with a sigmoid activation function\n",
    "    network.add(layers.Dense(units=3, activation=\"softmax\"))\n",
    "\n",
    "    opt = keras.optimizers.RMSprop(learning_rate = lr,decay = l2)\n",
    "    # Compile neural network\n",
    "    network.compile(loss=\"categorical_crossentropy\", \n",
    "        optimizer=opt, # Root Mean Square Propagation\n",
    "        metrics=[\"accuracy\"]) # Accuracy performance metric\n",
    "    # Train neural network\n",
    "    history = network.fit(X_train, # Features\n",
    "                      y_train, # Target vector\n",
    "                      epochs=100, # Number of epochs\n",
    "                      verbose=0, # Not print description after each epoch\n",
    "                      batch_size=100, # Number of observations per batch\n",
    "                         ) # Test data\n",
    "    # make a prediction\n",
    "    #yhat = network.predict(test_X)\n",
    "\n",
    "    # calculate RMSE\n",
    "#     rmse = np.sqrt(mean_squared_error(test_y_cat, yhat))\n",
    "    #rmse = 0\n",
    "    return history, network"
   ]
  },
  {
   "cell_type": "code",
   "execution_count": 42,
   "metadata": {},
   "outputs": [],
   "source": [
    "history1, network1 = nn(0.2, 0.01, 0.01, X_1_1_train, y_1_cat_train)\n",
    "history2, network2 = nn(0.2, 0.01, 0.01, X_1_2_train, y_1_cat_train)\n",
    "history3, network3 = nn(0.2, 0.01, 0.01, X_1_3_train, y_1_cat_train)\n",
    "history4, network4 = nn(0.2, 0.01, 0.01, X_2_1_train, y_2_cat_train)\n",
    "history5, network5 = nn(0.2, 0.01, 0.01, X_2_2_train, y_2_cat_train)\n",
    "history6, network6 = nn(0.2, 0.01, 0.01, X_2_3_train, y_2_cat_train)"
   ]
  },
  {
   "cell_type": "code",
   "execution_count": 43,
   "metadata": {},
   "outputs": [],
   "source": [
    "from sklearn.metrics import classification_report"
   ]
  },
  {
   "cell_type": "code",
   "execution_count": 53,
   "metadata": {},
   "outputs": [
    {
     "name": "stdout",
     "output_type": "stream",
     "text": [
      "              precision    recall  f1-score   support\n",
      "\n",
      "           0       0.67      0.85      0.75      1073\n",
      "           1       0.41      0.23      0.30       562\n",
      "           2       0.49      0.37      0.42       175\n",
      "\n",
      "    accuracy                           0.61      1810\n",
      "   macro avg       0.52      0.48      0.49      1810\n",
      "weighted avg       0.57      0.61      0.58      1810\n",
      "\n",
      "              precision    recall  f1-score   support\n",
      "\n",
      "           0       0.67      0.86      0.76      1073\n",
      "           1       0.44      0.27      0.34       562\n",
      "           2       0.54      0.27      0.36       175\n",
      "\n",
      "    accuracy                           0.62      1810\n",
      "   macro avg       0.55      0.47      0.49      1810\n",
      "weighted avg       0.59      0.62      0.59      1810\n",
      "\n",
      "              precision    recall  f1-score   support\n",
      "\n",
      "           0       0.67      0.88      0.76      1073\n",
      "           1       0.43      0.23      0.30       562\n",
      "           2       0.54      0.35      0.43       175\n",
      "\n",
      "    accuracy                           0.63      1810\n",
      "   macro avg       0.55      0.49      0.50      1810\n",
      "weighted avg       0.59      0.63      0.59      1810\n",
      "\n",
      "              precision    recall  f1-score   support\n",
      "\n",
      "           0       0.66      0.89      0.76      1073\n",
      "           1       0.37      0.17      0.24       562\n",
      "           2       0.54      0.27      0.36       175\n",
      "\n",
      "    accuracy                           0.61      1810\n",
      "   macro avg       0.52      0.45      0.45      1810\n",
      "weighted avg       0.56      0.61      0.56      1810\n",
      "\n",
      "              precision    recall  f1-score   support\n",
      "\n",
      "           0       0.64      0.93      0.76      1073\n",
      "           1       0.42      0.13      0.20       562\n",
      "           2       0.54      0.26      0.35       175\n",
      "\n",
      "    accuracy                           0.62      1810\n",
      "   macro avg       0.54      0.44      0.44      1810\n",
      "weighted avg       0.56      0.62      0.55      1810\n",
      "\n",
      "              precision    recall  f1-score   support\n",
      "\n",
      "           0       0.66      0.88      0.75      1073\n",
      "           1       0.38      0.18      0.24       562\n",
      "           2       0.54      0.34      0.42       175\n",
      "\n",
      "    accuracy                           0.61      1810\n",
      "   macro avg       0.53      0.47      0.47      1810\n",
      "weighted avg       0.56      0.61      0.56      1810\n",
      "\n"
     ]
    }
   ],
   "source": [
    "nn_pre = network1.predict(X_1_1_test)\n",
    "nn_pre = np.argmax(nn_pre, axis = 1) \n",
    "print(classification_report(y_1_test, nn_pre))\n",
    "\n",
    "nn_pre = network2.predict(X_1_2_test)\n",
    "nn_pre = np.argmax(nn_pre, axis = 1) \n",
    "print(classification_report(y_1_test, nn_pre))\n",
    "\n",
    "nn_pre = network3.predict(X_1_3_test)\n",
    "nn_pre = np.argmax(nn_pre, axis = 1) \n",
    "print(classification_report(y_1_test, nn_pre))\n",
    "\n",
    "nn_pre = network4.predict(X_2_1_test)\n",
    "nn_pre = np.argmax(nn_pre, axis = 1) \n",
    "print(classification_report(y_2_test, nn_pre))\n",
    "\n",
    "nn_pre = network5.predict(X_2_2_test)\n",
    "nn_pre = np.argmax(nn_pre, axis = 1) \n",
    "print(classification_report(y_2_test, nn_pre))\n",
    "\n",
    "nn_pre = network6.predict(X_2_3_test)\n",
    "nn_pre = np.argmax(nn_pre, axis = 1) \n",
    "print(classification_report(y_2_test, nn_pre))"
   ]
  },
  {
   "cell_type": "code",
   "execution_count": 61,
   "metadata": {},
   "outputs": [],
   "source": [
    "import matplotlib.pyplot as plt"
   ]
  },
  {
   "cell_type": "code",
   "execution_count": 63,
   "metadata": {},
   "outputs": [
    {
     "data": {
      "image/png": "[encoded data removed]",
      "text/plain": [
       "<Figure size 1728x576 with 2 Axes>"
      ]
     },
     "metadata": {
      "needs_background": "light"
     },
     "output_type": "display_data"
    }
   ],
   "source": [
    "def plot_feature_importance(fi):\n",
    "    fig, (ax1, ax2) = plt.subplots(nrows=1, ncols=2, figsize=(24,8))\n",
    "    ax1.plot(np.arange(0, len(fi.index)), fi['importance'])\n",
    "    label_nrs = np.arange(0, len(fi.index), 5 )\n",
    "    ax1.set_xticks(label_nrs)\n",
    "    ax1.set_xticklabels(fi['feature'][label_nrs], rotation=90)\n",
    "    \n",
    "    num_bar = min(len(fi.index), 10)\n",
    "    ax2.barh(np.arange(0, num_bar), fi['importance'][:num_bar], align='center', alpha=0.5)\n",
    "    ax2.set_yticks(np.arange(0, num_bar))\n",
    "    ax2.set_yticklabels(fi['feature'][:num_bar])\n",
    "\n",
    "plot_feature_importance(fi)"
   ]
  },
  {
   "cell_type": "code",
   "execution_count": null,
   "metadata": {},
   "outputs": [],
   "source": []
  },
  {
   "cell_type": "code",
   "execution_count": null,
   "metadata": {},
   "outputs": [],
   "source": []
  }
 ],
 "metadata": {
  "kernelspec": {
   "display_name": "Python 3",
   "language": "python",
   "name": "python3"
  },
  "language_info": {
   "codemirror_mode": {
    "name": "ipython",
    "version": 3
   },
   "file_extension": ".py",
   "mimetype": "text/x-python",
   "name": "python",
   "nbconvert_exporter": "python",
   "pygments_lexer": "ipython3",
   "version": "3.8.3"
  }
 },
 "nbformat": 4,
 "nbformat_minor": 4
}
