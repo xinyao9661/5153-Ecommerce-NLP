{
 "cells": [
  {
   "cell_type": "code",
   "execution_count": 2,
   "id": "allied-opening",
   "metadata": {},
   "outputs": [],
   "source": [
    "import pandas as pd\n",
    "import nltk\n",
    "import numpy as np\n",
    "from tqdm import tqdm\n",
    "import matplotlib.pyplot as plt\n",
    "import seaborn as sns\n",
    "import itertools\n",
    "import time\n",
    "import warnings\n",
    "warnings.filterwarnings(\"ignore\")\n",
    "import re"
   ]
  },
  {
   "cell_type": "code",
   "execution_count": 358,
   "id": "binary-rubber",
   "metadata": {},
   "outputs": [],
   "source": [
    "df = pd.read_csv('meta_and_review_original.csv')\n",
    "df = df.rename(columns={'Unnamed: 0':'ori_index'})"
   ]
  },
  {
   "cell_type": "code",
   "execution_count": 359,
   "id": "copyrighted-figure",
   "metadata": {},
   "outputs": [],
   "source": [
    "df.dropna(subset=['review'], axis=0,inplace=True)\n",
    "df=df.reset_index(drop=True)"
   ]
  },
  {
   "cell_type": "code",
   "execution_count": 360,
   "id": "seventh-constant",
   "metadata": {},
   "outputs": [
    {
     "data": {
      "text/plain": [
       "(133159, 15)"
      ]
     },
     "execution_count": 360,
     "metadata": {},
     "output_type": "execute_result"
    }
   ],
   "source": [
    "df.shape"
   ]
  },
  {
   "cell_type": "markdown",
   "id": "second-attraction",
   "metadata": {},
   "source": [
    "## Replace apostrophe/short words in python"
   ]
  },
  {
   "cell_type": "code",
   "execution_count": 361,
   "id": "hungarian-cherry",
   "metadata": {},
   "outputs": [],
   "source": [
    "df['review']=df['review'].apply(lambda x: x.lower())"
   ]
  },
  {
   "cell_type": "code",
   "execution_count": 362,
   "id": "consistent-event",
   "metadata": {},
   "outputs": [],
   "source": [
    "contractions = {\n",
    "\"i'm\":\"i am\",\n",
    "\"ain't\": \"am not\",\n",
    "\"aren't\": \"are not\",\n",
    "\"can't\": \"cannot\",\n",
    "\"can't've\": \"cannot have\",\n",
    "\"'cause\": \"because\",\n",
    "\"could've\": \"could have\",\n",
    "\"couldn't\": \"could not\",\n",
    "\"couldn't've\": \"could not have\",\n",
    "\"didn't\": \"did not\",\n",
    "\"doesn't\": \"does not\",\n",
    "\"don't\": \"do not\",\n",
    "\"hadn't\": \"had not\",\n",
    "\"hadn't've\": \"had not have\",\n",
    "\"hasn't\": \"has not\",\n",
    "\"haven't\": \"have not\",\n",
    "\"he'd\": \"he would\",\n",
    "\"he'd've\": \"he would have\",\n",
    "\"he'll\": \" he will\",\n",
    "\"he'll've\": \" he will have\",\n",
    "\"he's\": \"he is\",\n",
    "\"how'd\": \"how did\",\n",
    "\"how'd'y\": \"how do you\",\n",
    "\"how'll\": \"how will\",\n",
    "\"how's\": \"how is\",\n",
    "\"i'd\": \"I would\",\n",
    "\"i'd've\": \"I would have\",\n",
    "\"i'll\": \"I will\",\n",
    "\"i'll've\": \"I will have\",\n",
    "\"i'm\": \"I am\",\n",
    "\"i've\": \"I have\",\n",
    "\"isn't\": \"is not\",\n",
    "\"it'd\": \"it would\",\n",
    "\"it'd've\": \"it would have\",\n",
    "\"it'll\": \"it will\",\n",
    "\"it'll've\": \"it shall have\",\n",
    "\"it's\": \"it is\",\n",
    "\"let's\": \"let us\",\n",
    "\"ma'am\": \"madam\",\n",
    "\"mayn't\": \"may not\",\n",
    "\"might've\": \"might have\",\n",
    "\"mightn't\": \"might not\",\n",
    "\"mightn't've\": \"might not have\",\n",
    "\"must've\": \"must have\",\n",
    "\"mustn't\": \"must not\",\n",
    "\"mustn't've\": \"must not have\",\n",
    "\"needn't\": \"need not\",\n",
    "\"needn't've\": \"need not have\",\n",
    "\"o'clock\": \"of the clock\",\n",
    "\"oughtn't\": \"ought not\",\n",
    "\"oughtn't've\": \"ought not have\",\n",
    "\"shan't\": \"shall not\",\n",
    "\"sha'n't\": \"shall not\",\n",
    "\"shan't've\": \"shall not have\",\n",
    "\"she'd\": \"she would\",\n",
    "\"she'd've\": \"she would have\",\n",
    "\"she'll\": \"she shall\",\n",
    "\"she'll've\": \"she will have\",\n",
    "\"she's\": \"she is\",\n",
    "\"should've\": \"should have\",\n",
    "\"shouldn't\": \"should not\",\n",
    "\"shouldn't've\": \"should not have\",\n",
    "\"so've\": \"so have\",\n",
    "\"so's\": \"so as\",\n",
    "\"that'd\": \"that would\",\n",
    "\"that'd've\": \"that would have\",\n",
    "\"that's\": \"that is\",\n",
    "\"there'd\": \"there would\",\n",
    "\"there'd've\": \"there would have\",\n",
    "\"there's\": \"there is\",\n",
    "\"they'd\": \"they would\",\n",
    "\"they'd've\": \"they would have\",\n",
    "\"they'll\": \"they will\",\n",
    "\"they'll've\": \"they will have\",\n",
    "\"they're\": \"they are\",\n",
    "\"they've\": \"they have\",\n",
    "\"to've\": \"to have\",\n",
    "\"wasn't\": \"was not\",\n",
    "\"we'd\": \"we would\",\n",
    "\"we'd've\": \"we would have\",\n",
    "\"we'll\": \"we will\",\n",
    "\"we'll've\": \"we will have\",\n",
    "\"we're\": \"we are\",\n",
    "\"we've\": \"we have\",\n",
    "\"weren't\": \"were not\",\n",
    "\"what'll\": \" what will\",\n",
    "\"what'll've\": \"what will have\",\n",
    "\"what're\": \"what are\",\n",
    "\"what's\": \"what is\",\n",
    "\"what've\": \"what have\",\n",
    "\"when's\": \"when is\",\n",
    "\"when've\": \"when have\",\n",
    "\"where'd\": \"where did\",\n",
    "\"where's\": \"where is\",\n",
    "\"where've\": \"where have\",\n",
    "\"who'll\": \"who will\",\n",
    "\"who'll've\": \"who shall have\",\n",
    "\"who's\": \"who is\",\n",
    "\"who've\": \"who have\",\n",
    "\"why's\": \"why is\",\n",
    "\"why've\": \"why have\",\n",
    "\"will've\": \"will have\",\n",
    "\"won't\": \"will not\",\n",
    "\"won't've\": \"will not have\",\n",
    "\"would've\": \"would have\",\n",
    "\"wouldn't\": \"would not\",\n",
    "\"wouldn't've\": \"would not have\",\n",
    "\"y'all\": \"you all\",\n",
    "\"y'all'd\": \"you all would\",\n",
    "\"y'all'd've\": \"you all would have\",\n",
    "\"y'all're\": \"you all are\",\n",
    "\"y'all've\": \"you all have\",\n",
    "\"you'd\": \"you would\",\n",
    "\"you'd've\": \"you would have\",\n",
    "\"you'll\": \"you will\",\n",
    "\"you'll've\": \"you shall have\",\n",
    "\"you're\": \"you are\",\n",
    "\"you've\": \"you have\"\n",
    "}"
   ]
  },
  {
   "cell_type": "code",
   "execution_count": 363,
   "id": "beneficial-portable",
   "metadata": {},
   "outputs": [],
   "source": [
    "def replace_apostrophe(review):\n",
    "    for word in review.split():\n",
    "        if word.lower() in contractions: \n",
    "            review = review.replace(word, contractions[word.lower()])\n",
    "    return review.lower()"
   ]
  },
  {
   "cell_type": "code",
   "execution_count": 364,
   "id": "similar-introduction",
   "metadata": {},
   "outputs": [
    {
     "name": "stdout",
     "output_type": "stream",
     "text": [
      "CPU times: user 1.94 s, sys: 32.1 ms, total: 1.97 s\n",
      "Wall time: 1.99 s\n"
     ]
    }
   ],
   "source": [
    "%%time\n",
    "df['review']=df['review'].apply(replace_apostrophe)"
   ]
  },
  {
   "cell_type": "markdown",
   "id": "alive-scotland",
   "metadata": {},
   "source": [
    "## aspect-based sentiment"
   ]
  },
  {
   "cell_type": "code",
   "execution_count": 365,
   "id": "silver-weekly",
   "metadata": {},
   "outputs": [],
   "source": [
    "from nltk.sentiment.vader import SentimentIntensityAnalyzer\n",
    "analyzer = SentimentIntensityAnalyzer()"
   ]
  },
  {
   "cell_type": "code",
   "execution_count": 366,
   "id": "hollow-sleeping",
   "metadata": {},
   "outputs": [],
   "source": [
    "def contains_keyword(s,target_list):\n",
    "    for target in target_list:\n",
    "        if target in s:\n",
    "            return True\n",
    "    return False"
   ]
  },
  {
   "cell_type": "code",
   "execution_count": 367,
   "id": "tender-coating",
   "metadata": {},
   "outputs": [],
   "source": [
    "def get_sentiment(review,target_list):\n",
    "    contain_key = False\n",
    "    pos,neg,neu,polar=[],[],[],[]\n",
    "    for sentence in nltk.sent_tokenize(review):\n",
    "        if contains_keyword(sentence,target_list):\n",
    "            contain_key = True\n",
    "            score=analyzer.polarity_scores(sentence)\n",
    "            pos.append(score['pos'])\n",
    "            neg.append(score['neg'])\n",
    "            neu.append(score['neu'])\n",
    "            polar.append(score['compound'])\n",
    "    if contain_key:\n",
    "        n=len(pos)\n",
    "        return sum(pos)/n, sum(neg)/n, sum(neu)/n, sum(polar)/n\n",
    "    else:\n",
    "        return 0, 0, 0, 0        "
   ]
  },
  {
   "cell_type": "code",
   "execution_count": 368,
   "id": "curious-bidding",
   "metadata": {},
   "outputs": [],
   "source": [
    "delivery_keyword_list=['delivery','shipment']\n",
    "price_keyword_list=['price', 'pricing', 'cost', 'charge']\n",
    "service_keyword_list=['return', 'exchange', 'service', 'support']\n",
    "package_keyword_list=['pack', 'package']"
   ]
  },
  {
   "cell_type": "code",
   "execution_count": 369,
   "id": "instructional-startup",
   "metadata": {},
   "outputs": [],
   "source": [
    "def add_columns(df,aspect,target_list):\n",
    "    df1=df.copy()\n",
    "    pos = 'pos_'+ str(aspect)\n",
    "    neg = 'neg_'+ str(aspect)\n",
    "    neu = 'neu_'+ str(aspect)\n",
    "    polar = 'polarity_'+ str(aspect)\n",
    "    sentiment_result = df1['review'].apply(lambda x: get_sentiment(x,target_list))\n",
    "    df1[pos]=sentiment_result.map(lambda x: x[0])\n",
    "    df1[neg]=sentiment_result.map(lambda x: x[1])\n",
    "    df1[neu]=sentiment_result.map(lambda x: x[2])\n",
    "    df1[polar]=sentiment_result.map(lambda x: x[3])\n",
    "    return df1"
   ]
  },
  {
   "cell_type": "code",
   "execution_count": 370,
   "id": "ceramic-invasion",
   "metadata": {},
   "outputs": [
    {
     "name": "stdout",
     "output_type": "stream",
     "text": [
      "CPU times: user 1min 14s, sys: 300 ms, total: 1min 14s\n",
      "Wall time: 1min 14s\n"
     ]
    }
   ],
   "source": [
    "%%time\n",
    "df1= add_columns(df,'delivery',delivery_keyword_list)\n",
    "df2= add_columns(df1,'price',price_keyword_list)\n",
    "df3= add_columns(df2,'service',service_keyword_list)\n",
    "df_full= add_columns(df3,'package',package_keyword_list)"
   ]
  },
  {
   "cell_type": "code",
   "execution_count": 371,
   "id": "native-semester",
   "metadata": {},
   "outputs": [
    {
     "data": {
      "text/plain": [
       "'this is a wonderful shampoo. does not make your hair too soft, does not make it dandruffy, your scalp does not itch afterwards, hair is glossy etc. is not cheap, but really good. just compare the prices online and pick the cheapest with free delivery.'"
      ]
     },
     "execution_count": 371,
     "metadata": {},
     "output_type": "execute_result"
    }
   ],
   "source": [
    "df_full['review'][3]"
   ]
  },
  {
   "cell_type": "code",
   "execution_count": 372,
   "id": "modern-solid",
   "metadata": {},
   "outputs": [
    {
     "data": {
      "text/plain": [
       "ori_index                                                            3\n",
       "asin                                                        5357954771\n",
       "review               this is a wonderful shampoo. does not make you...\n",
       "overall                                                              5\n",
       "helpful                                                         [1, 1]\n",
       "summary                                             The shampoo to go!\n",
       "unixReviewTime                                              1270252800\n",
       "reviewTime                                                  04 3, 2010\n",
       "reviewerID                                              A36ZKFLSDE8WX5\n",
       "title                Moisture Repair Conditioner by KMS for Unisex ...\n",
       "brand                                                              KMS\n",
       "price                                                            10.79\n",
       "salesRank                                                       108278\n",
       "net                                                            ['8.5']\n",
       "net_len                                                              1\n",
       "pos_delivery                                                     0.231\n",
       "neg_delivery                                                         0\n",
       "neu_delivery                                                     0.769\n",
       "polarity_delivery                                               0.5106\n",
       "pos_price                                                        0.231\n",
       "neg_price                                                            0\n",
       "neu_price                                                        0.769\n",
       "polarity_price                                                  0.5106\n",
       "pos_service                                                          0\n",
       "neg_service                                                          0\n",
       "neu_service                                                          0\n",
       "polarity_service                                                     0\n",
       "pos_package                                                          0\n",
       "neg_package                                                          0\n",
       "neu_package                                                          0\n",
       "polarity_package                                                     0\n",
       "Name: 3, dtype: object"
      ]
     },
     "execution_count": 372,
     "metadata": {},
     "output_type": "execute_result"
    }
   ],
   "source": [
    "df_full.iloc[3,:]"
   ]
  },
  {
   "cell_type": "code",
   "execution_count": 373,
   "id": "sufficient-storm",
   "metadata": {},
   "outputs": [
    {
     "data": {
      "text/plain": [
       "'i have a very dry, frizzy hair. i have tried many hair products and cannot make it look sleek. i bought kms product through my friend recommendation. it was not overnight change, but after a month, my hair looks much sleek. the conditioner is very rich and i do like the light smell a lot.the product arrives on time although the package looks different from what is on the picture.'"
      ]
     },
     "execution_count": 373,
     "metadata": {},
     "output_type": "execute_result"
    }
   ],
   "source": [
    "df_full['review'][4]"
   ]
  },
  {
   "cell_type": "code",
   "execution_count": 374,
   "id": "developed-cooling",
   "metadata": {},
   "outputs": [
    {
     "data": {
      "text/plain": [
       "ori_index                                                            4\n",
       "asin                                                        5357954771\n",
       "review               i have a very dry, frizzy hair. i have tried m...\n",
       "overall                                                              5\n",
       "helpful                                                         [0, 0]\n",
       "summary                                      KMS conditioner is great.\n",
       "unixReviewTime                                              1341532800\n",
       "reviewTime                                                  07 6, 2012\n",
       "reviewerID                                               AVCSVH9L0BPIF\n",
       "title                Moisture Repair Conditioner by KMS for Unisex ...\n",
       "brand                                                              KMS\n",
       "price                                                            10.79\n",
       "salesRank                                                       108278\n",
       "net                                                            ['8.5']\n",
       "net_len                                                              1\n",
       "pos_delivery                                                         0\n",
       "neg_delivery                                                         0\n",
       "neu_delivery                                                         0\n",
       "polarity_delivery                                                    0\n",
       "pos_price                                                            0\n",
       "neg_price                                                            0\n",
       "neu_price                                                            0\n",
       "polarity_price                                                       0\n",
       "pos_service                                                          0\n",
       "neg_service                                                          0\n",
       "neu_service                                                          0\n",
       "polarity_service                                                     0\n",
       "pos_package                                                      0.204\n",
       "neg_package                                                          0\n",
       "neu_package                                                      0.796\n",
       "polarity_package                                                0.7501\n",
       "Name: 4, dtype: object"
      ]
     },
     "execution_count": 374,
     "metadata": {},
     "output_type": "execute_result"
    }
   ],
   "source": [
    "df_full.iloc[4,:]"
   ]
  },
  {
   "cell_type": "code",
   "execution_count": 375,
   "id": "angry-programming",
   "metadata": {},
   "outputs": [],
   "source": [
    "df_full.to_csv('sentiment_by_aspect_xy.csv')"
   ]
  },
  {
   "cell_type": "markdown",
   "id": "dimensional-wilson",
   "metadata": {},
   "source": [
    "### merge"
   ]
  },
  {
   "cell_type": "code",
   "execution_count": 408,
   "id": "cloudy-baking",
   "metadata": {},
   "outputs": [],
   "source": [
    "df2=pd.read_csv('sentiment_by_aspect_xy.csv',index_col=0)\n",
    "senti_features=['ori_index','pos_delivery', 'neg_delivery', 'neu_delivery',\n",
    "       'polarity_delivery', 'pos_price', 'neg_price', 'neu_price',\n",
    "       'polarity_price', 'pos_service', 'neg_service', 'neu_service',\n",
    "       'polarity_service', 'pos_package', 'neg_package', 'neu_package',\n",
    "       'polarity_package','review']\n",
    "df2=df2[senti_features]"
   ]
  },
  {
   "cell_type": "code",
   "execution_count": 409,
   "id": "interpreted-essex",
   "metadata": {},
   "outputs": [],
   "source": [
    "df1=pd.read_csv('meta_and_review_with_functions.csv')\n",
    "df1 =df1.rename(columns={'Unnamed: 0':'ori_index'})\n",
    "df1=df1.dropna(subset=['review'], axis=0).reset_index(drop=True)"
   ]
  },
  {
   "cell_type": "code",
   "execution_count": 395,
   "id": "intimate-graphic",
   "metadata": {},
   "outputs": [
    {
     "name": "stdout",
     "output_type": "stream",
     "text": [
      "[92285]\n",
      "[37819]\n"
     ]
    }
   ],
   "source": [
    "def identify_diff(s1,s2):\n",
    "    result=[]\n",
    "    s2_set=s2.unique()\n",
    "    for i in range(len(s1)):\n",
    "        if s1[i] not in s2_set:\n",
    "            result.append(s1[i])\n",
    "    return result\n",
    "\n",
    "print(identify_diff(df1['ori_index'],df2['ori_index']))\n",
    "print(identify_diff(df2['ori_index'],df1['ori_index']))"
   ]
  },
  {
   "cell_type": "code",
   "execution_count": 386,
   "id": "expensive-listening",
   "metadata": {},
   "outputs": [
    {
     "name": "stdout",
     "output_type": "stream",
     "text": [
      "(133159, 31) (133159, 17)\n"
     ]
    }
   ],
   "source": [
    "print(df1.shape,df2.shape)"
   ]
  },
  {
   "cell_type": "code",
   "execution_count": 410,
   "id": "electronic-membership",
   "metadata": {},
   "outputs": [],
   "source": [
    "df3=df1.merge(df2, how='inner',on='ori_index').drop(columns=['ori_index'])"
   ]
  },
  {
   "cell_type": "code",
   "execution_count": 411,
   "id": "traditional-parent",
   "metadata": {},
   "outputs": [
    {
     "name": "stdout",
     "output_type": "stream",
     "text": [
      "(133158, 47)\n"
     ]
    }
   ],
   "source": [
    "print(df3.shape)"
   ]
  },
  {
   "cell_type": "code",
   "execution_count": null,
   "id": "juvenile-reply",
   "metadata": {},
   "outputs": [],
   "source": []
  },
  {
   "cell_type": "code",
   "execution_count": 423,
   "id": "multiple-great",
   "metadata": {},
   "outputs": [
    {
     "data": {
      "text/plain": [
       "review_x    this shampooconditioner takes some getting use...\n",
       "review_y    this shampoo/conditioner takes some getting us...\n",
       "Name: 37819, dtype: object"
      ]
     },
     "execution_count": 423,
     "metadata": {},
     "output_type": "execute_result"
    }
   ],
   "source": [
    "df3.loc[37819,['review_x','review_y']]"
   ]
  },
  {
   "cell_type": "code",
   "execution_count": 389,
   "id": "danish-acrobat",
   "metadata": {},
   "outputs": [
    {
     "data": {
      "text/plain": [
       "Index(['asin', 'review', 'overall', 'helpful', 'summary', 'unixReviewTime',\n",
       "       'reviewTime', 'reviewerID', 'title', 'brand', 'price', 'salesRank',\n",
       "       'net', 'net_len', 'helpful_overall', 'helpful_positive',\n",
       "       't_func_cleansing', 'r_func_cleansing', 't_func_dandruff',\n",
       "       'r_func_dandruff', 't_func_growth', 'r_func_growth', 't_func_moisture',\n",
       "       'r_func_moisture', 't_func_repair', 'r_func_repair', 't_func_color',\n",
       "       'r_func_color', 'satisfactory', 'temp', 'pos_delivery', 'neg_delivery',\n",
       "       'neu_delivery', 'polarity_delivery', 'pos_price', 'neg_price',\n",
       "       'neu_price', 'polarity_price', 'pos_service', 'neg_service',\n",
       "       'neu_service', 'polarity_service', 'pos_package', 'neg_package',\n",
       "       'neu_package', 'polarity_package'],\n",
       "      dtype='object')"
      ]
     },
     "execution_count": 389,
     "metadata": {},
     "output_type": "execute_result"
    }
   ],
   "source": [
    "df3.columns"
   ]
  },
  {
   "cell_type": "code",
   "execution_count": 396,
   "id": "spanish-salmon",
   "metadata": {},
   "outputs": [],
   "source": [
    "df3.to_csv('merged_text.csv')"
   ]
  },
  {
   "cell_type": "code",
   "execution_count": 3,
   "id": "american-preference",
   "metadata": {},
   "outputs": [
    {
     "data": {
      "text/html": [
       "<div>\n",
       "<style scoped>\n",
       "    .dataframe tbody tr th:only-of-type {\n",
       "        vertical-align: middle;\n",
       "    }\n",
       "\n",
       "    .dataframe tbody tr th {\n",
       "        vertical-align: top;\n",
       "    }\n",
       "\n",
       "    .dataframe thead th {\n",
       "        text-align: right;\n",
       "    }\n",
       "</style>\n",
       "<table border=\"1\" class=\"dataframe\">\n",
       "  <thead>\n",
       "    <tr style=\"text-align: right;\">\n",
       "      <th></th>\n",
       "      <th>Unnamed: 0</th>\n",
       "      <th>asin</th>\n",
       "      <th>review</th>\n",
       "      <th>overall</th>\n",
       "      <th>helpful</th>\n",
       "      <th>summary</th>\n",
       "      <th>unixReviewTime</th>\n",
       "      <th>reviewTime</th>\n",
       "      <th>reviewerID</th>\n",
       "      <th>title</th>\n",
       "      <th>...</th>\n",
       "      <th>neu_price</th>\n",
       "      <th>polarity_price</th>\n",
       "      <th>pos_service</th>\n",
       "      <th>neg_service</th>\n",
       "      <th>neu_service</th>\n",
       "      <th>polarity_service</th>\n",
       "      <th>pos_package</th>\n",
       "      <th>neg_package</th>\n",
       "      <th>neu_package</th>\n",
       "      <th>polarity_package</th>\n",
       "    </tr>\n",
       "  </thead>\n",
       "  <tbody>\n",
       "    <tr>\n",
       "      <th>0</th>\n",
       "      <td>0</td>\n",
       "      <td>1929099886</td>\n",
       "      <td>this was a good buy great shampoo and conditio...</td>\n",
       "      <td>4.0</td>\n",
       "      <td>[0, 0]</td>\n",
       "      <td>good shampoo and conditioner</td>\n",
       "      <td>1355011200</td>\n",
       "      <td>12 9, 2012</td>\n",
       "      <td>A2BQ8DVGEGWAFY</td>\n",
       "      <td>bumble and bumble quenching shampoo and condit...</td>\n",
       "      <td>...</td>\n",
       "      <td>0.000</td>\n",
       "      <td>0.0000</td>\n",
       "      <td>0.0</td>\n",
       "      <td>0.0</td>\n",
       "      <td>0.0</td>\n",
       "      <td>0.0</td>\n",
       "      <td>0.000</td>\n",
       "      <td>0.0</td>\n",
       "      <td>0.000</td>\n",
       "      <td>0.0000</td>\n",
       "    </tr>\n",
       "    <tr>\n",
       "      <th>1</th>\n",
       "      <td>1</td>\n",
       "      <td>5357954771</td>\n",
       "      <td>i have used kms in the past and always loved t...</td>\n",
       "      <td>3.0</td>\n",
       "      <td>[0, 0]</td>\n",
       "      <td>not too impressed</td>\n",
       "      <td>1376352000</td>\n",
       "      <td>08 13, 2013</td>\n",
       "      <td>A2Z9QP4MZ2HXCZ</td>\n",
       "      <td>moisture repair conditioner by kms for unisex ...</td>\n",
       "      <td>...</td>\n",
       "      <td>0.000</td>\n",
       "      <td>0.0000</td>\n",
       "      <td>0.0</td>\n",
       "      <td>0.0</td>\n",
       "      <td>0.0</td>\n",
       "      <td>0.0</td>\n",
       "      <td>0.000</td>\n",
       "      <td>0.0</td>\n",
       "      <td>0.000</td>\n",
       "      <td>0.0000</td>\n",
       "    </tr>\n",
       "    <tr>\n",
       "      <th>2</th>\n",
       "      <td>2</td>\n",
       "      <td>5357954771</td>\n",
       "      <td>i remember kms products being a prestige salon...</td>\n",
       "      <td>5.0</td>\n",
       "      <td>[0, 0]</td>\n",
       "      <td>joey v</td>\n",
       "      <td>1385251200</td>\n",
       "      <td>11 24, 2013</td>\n",
       "      <td>ACZ94JB8BFMJ9</td>\n",
       "      <td>moisture repair conditioner by kms for unisex ...</td>\n",
       "      <td>...</td>\n",
       "      <td>0.496</td>\n",
       "      <td>0.7263</td>\n",
       "      <td>0.0</td>\n",
       "      <td>0.0</td>\n",
       "      <td>0.0</td>\n",
       "      <td>0.0</td>\n",
       "      <td>0.000</td>\n",
       "      <td>0.0</td>\n",
       "      <td>0.000</td>\n",
       "      <td>0.0000</td>\n",
       "    </tr>\n",
       "    <tr>\n",
       "      <th>3</th>\n",
       "      <td>3</td>\n",
       "      <td>5357954771</td>\n",
       "      <td>this is a wonderful shampoo doesnt make your h...</td>\n",
       "      <td>5.0</td>\n",
       "      <td>[1, 1]</td>\n",
       "      <td>the shampoo to go</td>\n",
       "      <td>1270252800</td>\n",
       "      <td>04 3, 2010</td>\n",
       "      <td>A36ZKFLSDE8WX5</td>\n",
       "      <td>moisture repair conditioner by kms for unisex ...</td>\n",
       "      <td>...</td>\n",
       "      <td>0.769</td>\n",
       "      <td>0.5106</td>\n",
       "      <td>0.0</td>\n",
       "      <td>0.0</td>\n",
       "      <td>0.0</td>\n",
       "      <td>0.0</td>\n",
       "      <td>0.000</td>\n",
       "      <td>0.0</td>\n",
       "      <td>0.000</td>\n",
       "      <td>0.0000</td>\n",
       "    </tr>\n",
       "    <tr>\n",
       "      <th>4</th>\n",
       "      <td>4</td>\n",
       "      <td>5357954771</td>\n",
       "      <td>i have a very dry frizzy hair i have tried man...</td>\n",
       "      <td>5.0</td>\n",
       "      <td>[0, 0]</td>\n",
       "      <td>kms conditioner is great</td>\n",
       "      <td>1341532800</td>\n",
       "      <td>07 6, 2012</td>\n",
       "      <td>AVCSVH9L0BPIF</td>\n",
       "      <td>moisture repair conditioner by kms for unisex ...</td>\n",
       "      <td>...</td>\n",
       "      <td>0.000</td>\n",
       "      <td>0.0000</td>\n",
       "      <td>0.0</td>\n",
       "      <td>0.0</td>\n",
       "      <td>0.0</td>\n",
       "      <td>0.0</td>\n",
       "      <td>0.204</td>\n",
       "      <td>0.0</td>\n",
       "      <td>0.796</td>\n",
       "      <td>0.7501</td>\n",
       "    </tr>\n",
       "    <tr>\n",
       "      <th>...</th>\n",
       "      <td>...</td>\n",
       "      <td>...</td>\n",
       "      <td>...</td>\n",
       "      <td>...</td>\n",
       "      <td>...</td>\n",
       "      <td>...</td>\n",
       "      <td>...</td>\n",
       "      <td>...</td>\n",
       "      <td>...</td>\n",
       "      <td>...</td>\n",
       "      <td>...</td>\n",
       "      <td>...</td>\n",
       "      <td>...</td>\n",
       "      <td>...</td>\n",
       "      <td>...</td>\n",
       "      <td>...</td>\n",
       "      <td>...</td>\n",
       "      <td>...</td>\n",
       "      <td>...</td>\n",
       "      <td>...</td>\n",
       "      <td>...</td>\n",
       "    </tr>\n",
       "    <tr>\n",
       "      <th>133153</th>\n",
       "      <td>133153</td>\n",
       "      <td>B00KNCOD26</td>\n",
       "      <td>i really love the shampoo even more than the a...</td>\n",
       "      <td>5.0</td>\n",
       "      <td>[0, 0]</td>\n",
       "      <td>love this cayenne shampoo  hair growth serum</td>\n",
       "      <td>1405641600</td>\n",
       "      <td>07 18, 2014</td>\n",
       "      <td>AZ8SSDP9TZZWD</td>\n",
       "      <td>2 pc set cayenne hair growth shampoo 84 oz amp...</td>\n",
       "      <td>...</td>\n",
       "      <td>0.000</td>\n",
       "      <td>0.0000</td>\n",
       "      <td>0.0</td>\n",
       "      <td>0.0</td>\n",
       "      <td>0.0</td>\n",
       "      <td>0.0</td>\n",
       "      <td>0.000</td>\n",
       "      <td>0.0</td>\n",
       "      <td>0.000</td>\n",
       "      <td>0.0000</td>\n",
       "    </tr>\n",
       "    <tr>\n",
       "      <th>133154</th>\n",
       "      <td>133154</td>\n",
       "      <td>B00KYCLTCM</td>\n",
       "      <td>received a sample of this and its matching con...</td>\n",
       "      <td>2.0</td>\n",
       "      <td>[0, 1]</td>\n",
       "      <td>performance is average smell is gnarly</td>\n",
       "      <td>1404604800</td>\n",
       "      <td>07 6, 2014</td>\n",
       "      <td>A2JWGWM7C75365</td>\n",
       "      <td>oribe gold lust repair and restore shampoo</td>\n",
       "      <td>...</td>\n",
       "      <td>0.000</td>\n",
       "      <td>0.0000</td>\n",
       "      <td>0.0</td>\n",
       "      <td>0.0</td>\n",
       "      <td>0.0</td>\n",
       "      <td>0.0</td>\n",
       "      <td>0.000</td>\n",
       "      <td>0.0</td>\n",
       "      <td>1.000</td>\n",
       "      <td>0.0000</td>\n",
       "    </tr>\n",
       "    <tr>\n",
       "      <th>133155</th>\n",
       "      <td>133155</td>\n",
       "      <td>B00KYCLTCM</td>\n",
       "      <td>this is an amazing shampoo for my thick straig...</td>\n",
       "      <td>5.0</td>\n",
       "      <td>[0, 0]</td>\n",
       "      <td>this is an amazing shampoo for my thick</td>\n",
       "      <td>1404950400</td>\n",
       "      <td>07 10, 2014</td>\n",
       "      <td>A24J358C0ZCFLY</td>\n",
       "      <td>oribe gold lust repair and restore shampoo</td>\n",
       "      <td>...</td>\n",
       "      <td>0.000</td>\n",
       "      <td>0.0000</td>\n",
       "      <td>0.0</td>\n",
       "      <td>0.0</td>\n",
       "      <td>0.0</td>\n",
       "      <td>0.0</td>\n",
       "      <td>0.000</td>\n",
       "      <td>0.0</td>\n",
       "      <td>0.000</td>\n",
       "      <td>0.0000</td>\n",
       "    </tr>\n",
       "    <tr>\n",
       "      <th>133156</th>\n",
       "      <td>133156</td>\n",
       "      <td>B00KYWMYEE</td>\n",
       "      <td>definitely worth the money</td>\n",
       "      <td>5.0</td>\n",
       "      <td>[0, 0]</td>\n",
       "      <td>five stars</td>\n",
       "      <td>1404086400</td>\n",
       "      <td>06 30, 2014</td>\n",
       "      <td>A385AA5J7QK4VB</td>\n",
       "      <td>lcl beauty reclining hydraulic all purpose cut...</td>\n",
       "      <td>...</td>\n",
       "      <td>0.000</td>\n",
       "      <td>0.0000</td>\n",
       "      <td>0.0</td>\n",
       "      <td>0.0</td>\n",
       "      <td>0.0</td>\n",
       "      <td>0.0</td>\n",
       "      <td>0.000</td>\n",
       "      <td>0.0</td>\n",
       "      <td>0.000</td>\n",
       "      <td>0.0000</td>\n",
       "    </tr>\n",
       "    <tr>\n",
       "      <th>133157</th>\n",
       "      <td>133157</td>\n",
       "      <td>B00L5YAROY</td>\n",
       "      <td>hydraulic fluid leaked all over while it was s...</td>\n",
       "      <td>2.0</td>\n",
       "      <td>[0, 0]</td>\n",
       "      <td>poorly shipped and missing parts</td>\n",
       "      <td>1404950400</td>\n",
       "      <td>07 10, 2014</td>\n",
       "      <td>A1P3L5YQB5U0Z5</td>\n",
       "      <td>exacme classic hydraulic barber chair salon be...</td>\n",
       "      <td>...</td>\n",
       "      <td>0.000</td>\n",
       "      <td>0.0000</td>\n",
       "      <td>0.0</td>\n",
       "      <td>0.0</td>\n",
       "      <td>0.0</td>\n",
       "      <td>0.0</td>\n",
       "      <td>0.000</td>\n",
       "      <td>0.0</td>\n",
       "      <td>0.000</td>\n",
       "      <td>0.0000</td>\n",
       "    </tr>\n",
       "  </tbody>\n",
       "</table>\n",
       "<p>133158 rows × 47 columns</p>\n",
       "</div>"
      ],
      "text/plain": [
       "        Unnamed: 0        asin  \\\n",
       "0                0  1929099886   \n",
       "1                1  5357954771   \n",
       "2                2  5357954771   \n",
       "3                3  5357954771   \n",
       "4                4  5357954771   \n",
       "...            ...         ...   \n",
       "133153      133153  B00KNCOD26   \n",
       "133154      133154  B00KYCLTCM   \n",
       "133155      133155  B00KYCLTCM   \n",
       "133156      133156  B00KYWMYEE   \n",
       "133157      133157  B00L5YAROY   \n",
       "\n",
       "                                                   review  overall helpful  \\\n",
       "0       this was a good buy great shampoo and conditio...      4.0  [0, 0]   \n",
       "1       i have used kms in the past and always loved t...      3.0  [0, 0]   \n",
       "2       i remember kms products being a prestige salon...      5.0  [0, 0]   \n",
       "3       this is a wonderful shampoo doesnt make your h...      5.0  [1, 1]   \n",
       "4       i have a very dry frizzy hair i have tried man...      5.0  [0, 0]   \n",
       "...                                                   ...      ...     ...   \n",
       "133153  i really love the shampoo even more than the a...      5.0  [0, 0]   \n",
       "133154  received a sample of this and its matching con...      2.0  [0, 1]   \n",
       "133155  this is an amazing shampoo for my thick straig...      5.0  [0, 0]   \n",
       "133156                         definitely worth the money      5.0  [0, 0]   \n",
       "133157  hydraulic fluid leaked all over while it was s...      2.0  [0, 0]   \n",
       "\n",
       "                                             summary  unixReviewTime  \\\n",
       "0                       good shampoo and conditioner      1355011200   \n",
       "1                                  not too impressed      1376352000   \n",
       "2                                             joey v      1385251200   \n",
       "3                                  the shampoo to go      1270252800   \n",
       "4                           kms conditioner is great      1341532800   \n",
       "...                                              ...             ...   \n",
       "133153  love this cayenne shampoo  hair growth serum      1405641600   \n",
       "133154        performance is average smell is gnarly      1404604800   \n",
       "133155       this is an amazing shampoo for my thick      1404950400   \n",
       "133156                                    five stars      1404086400   \n",
       "133157              poorly shipped and missing parts      1404950400   \n",
       "\n",
       "         reviewTime      reviewerID  \\\n",
       "0        12 9, 2012  A2BQ8DVGEGWAFY   \n",
       "1       08 13, 2013  A2Z9QP4MZ2HXCZ   \n",
       "2       11 24, 2013   ACZ94JB8BFMJ9   \n",
       "3        04 3, 2010  A36ZKFLSDE8WX5   \n",
       "4        07 6, 2012   AVCSVH9L0BPIF   \n",
       "...             ...             ...   \n",
       "133153  07 18, 2014   AZ8SSDP9TZZWD   \n",
       "133154   07 6, 2014  A2JWGWM7C75365   \n",
       "133155  07 10, 2014  A24J358C0ZCFLY   \n",
       "133156  06 30, 2014  A385AA5J7QK4VB   \n",
       "133157  07 10, 2014  A1P3L5YQB5U0Z5   \n",
       "\n",
       "                                                    title  ... neu_price  \\\n",
       "0       bumble and bumble quenching shampoo and condit...  ...     0.000   \n",
       "1       moisture repair conditioner by kms for unisex ...  ...     0.000   \n",
       "2       moisture repair conditioner by kms for unisex ...  ...     0.496   \n",
       "3       moisture repair conditioner by kms for unisex ...  ...     0.769   \n",
       "4       moisture repair conditioner by kms for unisex ...  ...     0.000   \n",
       "...                                                   ...  ...       ...   \n",
       "133153  2 pc set cayenne hair growth shampoo 84 oz amp...  ...     0.000   \n",
       "133154         oribe gold lust repair and restore shampoo  ...     0.000   \n",
       "133155         oribe gold lust repair and restore shampoo  ...     0.000   \n",
       "133156  lcl beauty reclining hydraulic all purpose cut...  ...     0.000   \n",
       "133157  exacme classic hydraulic barber chair salon be...  ...     0.000   \n",
       "\n",
       "        polarity_price  pos_service neg_service  neu_service  \\\n",
       "0               0.0000          0.0         0.0          0.0   \n",
       "1               0.0000          0.0         0.0          0.0   \n",
       "2               0.7263          0.0         0.0          0.0   \n",
       "3               0.5106          0.0         0.0          0.0   \n",
       "4               0.0000          0.0         0.0          0.0   \n",
       "...                ...          ...         ...          ...   \n",
       "133153          0.0000          0.0         0.0          0.0   \n",
       "133154          0.0000          0.0         0.0          0.0   \n",
       "133155          0.0000          0.0         0.0          0.0   \n",
       "133156          0.0000          0.0         0.0          0.0   \n",
       "133157          0.0000          0.0         0.0          0.0   \n",
       "\n",
       "        polarity_service  pos_package  neg_package  neu_package  \\\n",
       "0                    0.0        0.000          0.0        0.000   \n",
       "1                    0.0        0.000          0.0        0.000   \n",
       "2                    0.0        0.000          0.0        0.000   \n",
       "3                    0.0        0.000          0.0        0.000   \n",
       "4                    0.0        0.204          0.0        0.796   \n",
       "...                  ...          ...          ...          ...   \n",
       "133153               0.0        0.000          0.0        0.000   \n",
       "133154               0.0        0.000          0.0        1.000   \n",
       "133155               0.0        0.000          0.0        0.000   \n",
       "133156               0.0        0.000          0.0        0.000   \n",
       "133157               0.0        0.000          0.0        0.000   \n",
       "\n",
       "        polarity_package  \n",
       "0                 0.0000  \n",
       "1                 0.0000  \n",
       "2                 0.0000  \n",
       "3                 0.0000  \n",
       "4                 0.7501  \n",
       "...                  ...  \n",
       "133153            0.0000  \n",
       "133154            0.0000  \n",
       "133155            0.0000  \n",
       "133156            0.0000  \n",
       "133157            0.0000  \n",
       "\n",
       "[133158 rows x 47 columns]"
      ]
     },
     "execution_count": 3,
     "metadata": {},
     "output_type": "execute_result"
    }
   ],
   "source": [
    "pd.read_csv('merged_text.csv')"
   ]
  },
  {
   "cell_type": "code",
   "execution_count": null,
   "id": "checked-worst",
   "metadata": {},
   "outputs": [],
   "source": []
  }
 ],
 "metadata": {
  "kernelspec": {
   "display_name": "Python 3",
   "language": "python",
   "name": "python3"
  },
  "language_info": {
   "codemirror_mode": {
    "name": "ipython",
    "version": 3
   },
   "file_extension": ".py",
   "mimetype": "text/x-python",
   "name": "python",
   "nbconvert_exporter": "python",
   "pygments_lexer": "ipython3",
   "version": "3.6.10"
  },
  "toc": {
   "base_numbering": 1,
   "nav_menu": {},
   "number_sections": true,
   "sideBar": true,
   "skip_h1_title": false,
   "title_cell": "Table of Contents",
   "title_sidebar": "Contents",
   "toc_cell": false,
   "toc_position": {},
   "toc_section_display": true,
   "toc_window_display": false
  }
 },
 "nbformat": 4,
 "nbformat_minor": 5
}
